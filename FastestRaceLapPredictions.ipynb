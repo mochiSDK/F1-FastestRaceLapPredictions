{
 "cells": [
  {
   "cell_type": "markdown",
   "id": "6e1ed3bb",
   "metadata": {},
   "source": [
    "# F1 Fastest Race Lap Predictions\n",
    "__Author:__ Sofia Cipollone, 2024/2025"
   ]
  },
  {
   "cell_type": "markdown",
   "id": "e5e55b50",
   "metadata": {},
   "source": [
    "## Domain Context\n",
    "> Formula One (F1) is the highest class of worldwide racing for open-wheel single-seater racing cars sanctioned by the Fédération Internationale de l'Automobile (FIA).\n",
    ">\n",
    "> A Formula One season consists of a series of races, known as Grands Prix. The FIA sets a series of sporting and technical regulations, among others, that have to be followed by the participants of said Grand Prix.\n",
    ">\n",
    "> The current qualifying system was adopted in the 2006 season. Known as \"knock-out\" qualifying, it is split into three periods, known as Q1, Q2, and Q3. In each period, drivers run qualifying laps to attempt to advance to the next period, with the slowest drivers being \"knocked out\" of qualification (but not necessarily the race). After each period, all times are reset, and only a driver's fastest lap in that period counts. Each qualifying period the slowest five drivers are eliminated.\n",
    ">\n",
    "> A Formula One constructor is the entity credited for designing the chassis and the engine. Therefore, the FIA Formula One World Championship is not disputed between equal machinery.\n",
    "\n",
    "*Adapted from [Wikipedia](https://en.wikipedia.org/wiki/Formula_One).*\n",
    "\n",
    "## The Objective\n",
    "This Notebook aims to predict the fastest race lap by using datasets containing data related to qualifying sessions, races (Grand Prix), race results, drivers and constructors.\n",
    "We proceed by downloading the necessary datasets using `kagglehub` API."
   ]
  },
  {
   "cell_type": "code",
   "execution_count": 51,
   "id": "ff488ff1",
   "metadata": {},
   "outputs": [],
   "source": [
    "import numpy as np\n",
    "import pandas as pd\n",
    "import matplotlib.pyplot as plt\n",
    "from sklearn.compose import ColumnTransformer\n",
    "from sklearn.discriminant_analysis import StandardScaler\n",
    "from sklearn.linear_model import Ridge\n",
    "from sklearn.model_selection import train_test_split\n",
    "from sklearn.pipeline import Pipeline\n",
    "from sklearn.preprocessing import OneHotEncoder\n",
    "from sklearn.preprocessing import PolynomialFeatures\n",
    "from sklearn.tree import DecisionTreeRegressor\n",
    "%matplotlib inline"
   ]
  },
  {
   "cell_type": "markdown",
   "id": "7d95a895",
   "metadata": {},
   "source": [
    "### Kagglehub Installation\n",
    "Install `kagglehub` using `pip` or `conda` by uncommenting the necessary code cells."
   ]
  },
  {
   "cell_type": "code",
   "execution_count": 52,
   "id": "7b32bd79",
   "metadata": {},
   "outputs": [],
   "source": [
    "# %pip install kagglehub"
   ]
  },
  {
   "cell_type": "code",
   "execution_count": 53,
   "id": "c9914bf0",
   "metadata": {},
   "outputs": [],
   "source": [
    "# %conda install conda-forge::kagglehub"
   ]
  },
  {
   "cell_type": "code",
   "execution_count": 54,
   "id": "bc34bbcd",
   "metadata": {},
   "outputs": [
    {
     "name": "stdout",
     "output_type": "stream",
     "text": [
      "Warning: Looks like you're using an outdated `kagglehub` version (installed: 0.3.8), please consider upgrading to the latest version (0.3.12).\n",
      "Warning: Looks like you're using an outdated `kagglehub` version (installed: 0.3.8), please consider upgrading to the latest version (0.3.12).\n",
      "Warning: Looks like you're using an outdated `kagglehub` version (installed: 0.3.8), please consider upgrading to the latest version (0.3.12).\n",
      "Warning: Looks like you're using an outdated `kagglehub` version (installed: 0.3.8), please consider upgrading to the latest version (0.3.12).\n",
      "Warning: Looks like you're using an outdated `kagglehub` version (installed: 0.3.8), please consider upgrading to the latest version (0.3.12).\n",
      "Path to dataset files:\n",
      "/home/sofi/.cache/kagglehub/datasets/rohanrao/formula-1-world-championship-1950-2020/versions/24/races.csv\n",
      "/home/sofi/.cache/kagglehub/datasets/rohanrao/formula-1-world-championship-1950-2020/versions/24/qualifying.csv\n",
      "/home/sofi/.cache/kagglehub/datasets/rohanrao/formula-1-world-championship-1950-2020/versions/24/results.csv\n",
      "/home/sofi/.cache/kagglehub/datasets/rohanrao/formula-1-world-championship-1950-2020/versions/24/drivers.csv\n",
      "/home/sofi/.cache/kagglehub/datasets/rohanrao/formula-1-world-championship-1950-2020/versions/24/constructors.csv\n"
     ]
    }
   ],
   "source": [
    "import kagglehub\n",
    "\n",
    "quali_path = kagglehub.dataset_download(\n",
    "    \"rohanrao/formula-1-world-championship-1950-2020\",\n",
    "    path='qualifying.csv'\n",
    ")\n",
    "races_path = kagglehub.dataset_download(\n",
    "    \"rohanrao/formula-1-world-championship-1950-2020\",\n",
    "    path='races.csv'\n",
    ")\n",
    "results_path = kagglehub.dataset_download(\n",
    "    \"rohanrao/formula-1-world-championship-1950-2020\",\n",
    "    path='results.csv'\n",
    ")\n",
    "drivers_path = kagglehub.dataset_download(\n",
    "    \"rohanrao/formula-1-world-championship-1950-2020\",\n",
    "    path='drivers.csv'\n",
    ")\n",
    "constructors_path = kagglehub.dataset_download(\n",
    "    \"rohanrao/formula-1-world-championship-1950-2020\",\n",
    "    path='constructors.csv'\n",
    ")\n",
    "\n",
    "print(\"Path to dataset files:\", races_path, quali_path, results_path, drivers_path, constructors_path, sep='\\n')"
   ]
  },
  {
   "cell_type": "markdown",
   "id": "09c6fd56",
   "metadata": {},
   "source": [
    "## Dataframe Creation\n",
    "The datasets contain missing values referred as `\\N`. We will parse them so they contain the `NaN` value instead. This will make handling missing values smoother with Python."
   ]
  },
  {
   "cell_type": "code",
   "execution_count": 55,
   "id": "e9041a14",
   "metadata": {},
   "outputs": [
    {
     "data": {
      "application/vnd.microsoft.datawrangler.viewer.v0+json": {
       "columns": [
        {
         "name": "qualifyId",
         "rawType": "int64",
         "type": "integer"
        },
        {
         "name": "raceId",
         "rawType": "int64",
         "type": "integer"
        },
        {
         "name": "driverId",
         "rawType": "int64",
         "type": "integer"
        },
        {
         "name": "constructorId",
         "rawType": "int64",
         "type": "integer"
        },
        {
         "name": "number",
         "rawType": "int64",
         "type": "integer"
        },
        {
         "name": "position",
         "rawType": "int64",
         "type": "integer"
        },
        {
         "name": "q1",
         "rawType": "object",
         "type": "string"
        },
        {
         "name": "q2",
         "rawType": "object",
         "type": "string"
        },
        {
         "name": "q3",
         "rawType": "object",
         "type": "string"
        }
       ],
       "ref": "451746f9-e57b-482e-800d-db53008055c0",
       "rows": [
        [
         "1",
         "18",
         "1",
         "1",
         "22",
         "1",
         "1:26.572",
         "1:25.187",
         "1:26.714"
        ],
        [
         "2",
         "18",
         "9",
         "2",
         "4",
         "2",
         "1:26.103",
         "1:25.315",
         "1:26.869"
        ],
        [
         "3",
         "18",
         "5",
         "1",
         "23",
         "3",
         "1:25.664",
         "1:25.452",
         "1:27.079"
        ],
        [
         "4",
         "18",
         "13",
         "6",
         "2",
         "4",
         "1:25.994",
         "1:25.691",
         "1:27.178"
        ],
        [
         "5",
         "18",
         "2",
         "2",
         "3",
         "5",
         "1:25.960",
         "1:25.518",
         "1:27.236"
        ]
       ],
       "shape": {
        "columns": 8,
        "rows": 5
       }
      },
      "text/html": [
       "<div>\n",
       "<style scoped>\n",
       "    .dataframe tbody tr th:only-of-type {\n",
       "        vertical-align: middle;\n",
       "    }\n",
       "\n",
       "    .dataframe tbody tr th {\n",
       "        vertical-align: top;\n",
       "    }\n",
       "\n",
       "    .dataframe thead th {\n",
       "        text-align: right;\n",
       "    }\n",
       "</style>\n",
       "<table border=\"1\" class=\"dataframe\">\n",
       "  <thead>\n",
       "    <tr style=\"text-align: right;\">\n",
       "      <th></th>\n",
       "      <th>raceId</th>\n",
       "      <th>driverId</th>\n",
       "      <th>constructorId</th>\n",
       "      <th>number</th>\n",
       "      <th>position</th>\n",
       "      <th>q1</th>\n",
       "      <th>q2</th>\n",
       "      <th>q3</th>\n",
       "    </tr>\n",
       "    <tr>\n",
       "      <th>qualifyId</th>\n",
       "      <th></th>\n",
       "      <th></th>\n",
       "      <th></th>\n",
       "      <th></th>\n",
       "      <th></th>\n",
       "      <th></th>\n",
       "      <th></th>\n",
       "      <th></th>\n",
       "    </tr>\n",
       "  </thead>\n",
       "  <tbody>\n",
       "    <tr>\n",
       "      <th>1</th>\n",
       "      <td>18</td>\n",
       "      <td>1</td>\n",
       "      <td>1</td>\n",
       "      <td>22</td>\n",
       "      <td>1</td>\n",
       "      <td>1:26.572</td>\n",
       "      <td>1:25.187</td>\n",
       "      <td>1:26.714</td>\n",
       "    </tr>\n",
       "    <tr>\n",
       "      <th>2</th>\n",
       "      <td>18</td>\n",
       "      <td>9</td>\n",
       "      <td>2</td>\n",
       "      <td>4</td>\n",
       "      <td>2</td>\n",
       "      <td>1:26.103</td>\n",
       "      <td>1:25.315</td>\n",
       "      <td>1:26.869</td>\n",
       "    </tr>\n",
       "    <tr>\n",
       "      <th>3</th>\n",
       "      <td>18</td>\n",
       "      <td>5</td>\n",
       "      <td>1</td>\n",
       "      <td>23</td>\n",
       "      <td>3</td>\n",
       "      <td>1:25.664</td>\n",
       "      <td>1:25.452</td>\n",
       "      <td>1:27.079</td>\n",
       "    </tr>\n",
       "    <tr>\n",
       "      <th>4</th>\n",
       "      <td>18</td>\n",
       "      <td>13</td>\n",
       "      <td>6</td>\n",
       "      <td>2</td>\n",
       "      <td>4</td>\n",
       "      <td>1:25.994</td>\n",
       "      <td>1:25.691</td>\n",
       "      <td>1:27.178</td>\n",
       "    </tr>\n",
       "    <tr>\n",
       "      <th>5</th>\n",
       "      <td>18</td>\n",
       "      <td>2</td>\n",
       "      <td>2</td>\n",
       "      <td>3</td>\n",
       "      <td>5</td>\n",
       "      <td>1:25.960</td>\n",
       "      <td>1:25.518</td>\n",
       "      <td>1:27.236</td>\n",
       "    </tr>\n",
       "  </tbody>\n",
       "</table>\n",
       "</div>"
      ],
      "text/plain": [
       "           raceId  driverId  constructorId  number  position        q1  \\\n",
       "qualifyId                                                                \n",
       "1              18         1              1      22         1  1:26.572   \n",
       "2              18         9              2       4         2  1:26.103   \n",
       "3              18         5              1      23         3  1:25.664   \n",
       "4              18        13              6       2         4  1:25.994   \n",
       "5              18         2              2       3         5  1:25.960   \n",
       "\n",
       "                 q2        q3  \n",
       "qualifyId                      \n",
       "1          1:25.187  1:26.714  \n",
       "2          1:25.315  1:26.869  \n",
       "3          1:25.452  1:27.079  \n",
       "4          1:25.691  1:27.178  \n",
       "5          1:25.518  1:27.236  "
      ]
     },
     "execution_count": 55,
     "metadata": {},
     "output_type": "execute_result"
    }
   ],
   "source": [
    "quali = pd.read_csv(\n",
    "    quali_path,\n",
    "    index_col='qualifyId',\n",
    "    na_values='\\\\N'\n",
    ")\n",
    "quali.head(5)"
   ]
  },
  {
   "cell_type": "code",
   "execution_count": 56,
   "id": "53ac4721",
   "metadata": {},
   "outputs": [
    {
     "data": {
      "application/vnd.microsoft.datawrangler.viewer.v0+json": {
       "columns": [
        {
         "name": "raceId",
         "rawType": "int64",
         "type": "integer"
        },
        {
         "name": "year",
         "rawType": "int64",
         "type": "integer"
        },
        {
         "name": "round",
         "rawType": "int64",
         "type": "integer"
        },
        {
         "name": "circuitId",
         "rawType": "int64",
         "type": "integer"
        },
        {
         "name": "name",
         "rawType": "object",
         "type": "string"
        },
        {
         "name": "date",
         "rawType": "datetime64[ns]",
         "type": "datetime"
        },
        {
         "name": "time",
         "rawType": "object",
         "type": "string"
        },
        {
         "name": "url",
         "rawType": "object",
         "type": "string"
        },
        {
         "name": "fp1_date",
         "rawType": "object",
         "type": "unknown"
        },
        {
         "name": "fp1_time",
         "rawType": "object",
         "type": "unknown"
        },
        {
         "name": "fp2_date",
         "rawType": "object",
         "type": "unknown"
        },
        {
         "name": "fp2_time",
         "rawType": "object",
         "type": "unknown"
        },
        {
         "name": "fp3_date",
         "rawType": "object",
         "type": "unknown"
        },
        {
         "name": "fp3_time",
         "rawType": "object",
         "type": "unknown"
        },
        {
         "name": "quali_date",
         "rawType": "object",
         "type": "unknown"
        },
        {
         "name": "quali_time",
         "rawType": "object",
         "type": "unknown"
        },
        {
         "name": "sprint_date",
         "rawType": "object",
         "type": "unknown"
        },
        {
         "name": "sprint_time",
         "rawType": "object",
         "type": "unknown"
        }
       ],
       "ref": "b9b7504c-3fc1-4623-9cd5-258cbf954091",
       "rows": [
        [
         "1",
         "2009",
         "1",
         "1",
         "Australian Grand Prix",
         "2009-03-29 00:00:00",
         "06:00:00",
         "http://en.wikipedia.org/wiki/2009_Australian_Grand_Prix",
         null,
         null,
         null,
         null,
         null,
         null,
         null,
         null,
         null,
         null
        ],
        [
         "2",
         "2009",
         "2",
         "2",
         "Malaysian Grand Prix",
         "2009-04-05 00:00:00",
         "09:00:00",
         "http://en.wikipedia.org/wiki/2009_Malaysian_Grand_Prix",
         null,
         null,
         null,
         null,
         null,
         null,
         null,
         null,
         null,
         null
        ],
        [
         "3",
         "2009",
         "3",
         "17",
         "Chinese Grand Prix",
         "2009-04-19 00:00:00",
         "07:00:00",
         "http://en.wikipedia.org/wiki/2009_Chinese_Grand_Prix",
         null,
         null,
         null,
         null,
         null,
         null,
         null,
         null,
         null,
         null
        ],
        [
         "4",
         "2009",
         "4",
         "3",
         "Bahrain Grand Prix",
         "2009-04-26 00:00:00",
         "12:00:00",
         "http://en.wikipedia.org/wiki/2009_Bahrain_Grand_Prix",
         null,
         null,
         null,
         null,
         null,
         null,
         null,
         null,
         null,
         null
        ],
        [
         "5",
         "2009",
         "5",
         "4",
         "Spanish Grand Prix",
         "2009-05-10 00:00:00",
         "12:00:00",
         "http://en.wikipedia.org/wiki/2009_Spanish_Grand_Prix",
         null,
         null,
         null,
         null,
         null,
         null,
         null,
         null,
         null,
         null
        ]
       ],
       "shape": {
        "columns": 17,
        "rows": 5
       }
      },
      "text/html": [
       "<div>\n",
       "<style scoped>\n",
       "    .dataframe tbody tr th:only-of-type {\n",
       "        vertical-align: middle;\n",
       "    }\n",
       "\n",
       "    .dataframe tbody tr th {\n",
       "        vertical-align: top;\n",
       "    }\n",
       "\n",
       "    .dataframe thead th {\n",
       "        text-align: right;\n",
       "    }\n",
       "</style>\n",
       "<table border=\"1\" class=\"dataframe\">\n",
       "  <thead>\n",
       "    <tr style=\"text-align: right;\">\n",
       "      <th></th>\n",
       "      <th>year</th>\n",
       "      <th>round</th>\n",
       "      <th>circuitId</th>\n",
       "      <th>name</th>\n",
       "      <th>date</th>\n",
       "      <th>time</th>\n",
       "      <th>url</th>\n",
       "      <th>fp1_date</th>\n",
       "      <th>fp1_time</th>\n",
       "      <th>fp2_date</th>\n",
       "      <th>fp2_time</th>\n",
       "      <th>fp3_date</th>\n",
       "      <th>fp3_time</th>\n",
       "      <th>quali_date</th>\n",
       "      <th>quali_time</th>\n",
       "      <th>sprint_date</th>\n",
       "      <th>sprint_time</th>\n",
       "    </tr>\n",
       "    <tr>\n",
       "      <th>raceId</th>\n",
       "      <th></th>\n",
       "      <th></th>\n",
       "      <th></th>\n",
       "      <th></th>\n",
       "      <th></th>\n",
       "      <th></th>\n",
       "      <th></th>\n",
       "      <th></th>\n",
       "      <th></th>\n",
       "      <th></th>\n",
       "      <th></th>\n",
       "      <th></th>\n",
       "      <th></th>\n",
       "      <th></th>\n",
       "      <th></th>\n",
       "      <th></th>\n",
       "      <th></th>\n",
       "    </tr>\n",
       "  </thead>\n",
       "  <tbody>\n",
       "    <tr>\n",
       "      <th>1</th>\n",
       "      <td>2009</td>\n",
       "      <td>1</td>\n",
       "      <td>1</td>\n",
       "      <td>Australian Grand Prix</td>\n",
       "      <td>2009-03-29</td>\n",
       "      <td>06:00:00</td>\n",
       "      <td>http://en.wikipedia.org/wiki/2009_Australian_G...</td>\n",
       "      <td>NaN</td>\n",
       "      <td>NaN</td>\n",
       "      <td>NaN</td>\n",
       "      <td>NaN</td>\n",
       "      <td>NaN</td>\n",
       "      <td>NaN</td>\n",
       "      <td>NaN</td>\n",
       "      <td>NaN</td>\n",
       "      <td>NaN</td>\n",
       "      <td>NaN</td>\n",
       "    </tr>\n",
       "    <tr>\n",
       "      <th>2</th>\n",
       "      <td>2009</td>\n",
       "      <td>2</td>\n",
       "      <td>2</td>\n",
       "      <td>Malaysian Grand Prix</td>\n",
       "      <td>2009-04-05</td>\n",
       "      <td>09:00:00</td>\n",
       "      <td>http://en.wikipedia.org/wiki/2009_Malaysian_Gr...</td>\n",
       "      <td>NaN</td>\n",
       "      <td>NaN</td>\n",
       "      <td>NaN</td>\n",
       "      <td>NaN</td>\n",
       "      <td>NaN</td>\n",
       "      <td>NaN</td>\n",
       "      <td>NaN</td>\n",
       "      <td>NaN</td>\n",
       "      <td>NaN</td>\n",
       "      <td>NaN</td>\n",
       "    </tr>\n",
       "    <tr>\n",
       "      <th>3</th>\n",
       "      <td>2009</td>\n",
       "      <td>3</td>\n",
       "      <td>17</td>\n",
       "      <td>Chinese Grand Prix</td>\n",
       "      <td>2009-04-19</td>\n",
       "      <td>07:00:00</td>\n",
       "      <td>http://en.wikipedia.org/wiki/2009_Chinese_Gran...</td>\n",
       "      <td>NaN</td>\n",
       "      <td>NaN</td>\n",
       "      <td>NaN</td>\n",
       "      <td>NaN</td>\n",
       "      <td>NaN</td>\n",
       "      <td>NaN</td>\n",
       "      <td>NaN</td>\n",
       "      <td>NaN</td>\n",
       "      <td>NaN</td>\n",
       "      <td>NaN</td>\n",
       "    </tr>\n",
       "    <tr>\n",
       "      <th>4</th>\n",
       "      <td>2009</td>\n",
       "      <td>4</td>\n",
       "      <td>3</td>\n",
       "      <td>Bahrain Grand Prix</td>\n",
       "      <td>2009-04-26</td>\n",
       "      <td>12:00:00</td>\n",
       "      <td>http://en.wikipedia.org/wiki/2009_Bahrain_Gran...</td>\n",
       "      <td>NaN</td>\n",
       "      <td>NaN</td>\n",
       "      <td>NaN</td>\n",
       "      <td>NaN</td>\n",
       "      <td>NaN</td>\n",
       "      <td>NaN</td>\n",
       "      <td>NaN</td>\n",
       "      <td>NaN</td>\n",
       "      <td>NaN</td>\n",
       "      <td>NaN</td>\n",
       "    </tr>\n",
       "    <tr>\n",
       "      <th>5</th>\n",
       "      <td>2009</td>\n",
       "      <td>5</td>\n",
       "      <td>4</td>\n",
       "      <td>Spanish Grand Prix</td>\n",
       "      <td>2009-05-10</td>\n",
       "      <td>12:00:00</td>\n",
       "      <td>http://en.wikipedia.org/wiki/2009_Spanish_Gran...</td>\n",
       "      <td>NaN</td>\n",
       "      <td>NaN</td>\n",
       "      <td>NaN</td>\n",
       "      <td>NaN</td>\n",
       "      <td>NaN</td>\n",
       "      <td>NaN</td>\n",
       "      <td>NaN</td>\n",
       "      <td>NaN</td>\n",
       "      <td>NaN</td>\n",
       "      <td>NaN</td>\n",
       "    </tr>\n",
       "  </tbody>\n",
       "</table>\n",
       "</div>"
      ],
      "text/plain": [
       "        year  round  circuitId                   name       date      time  \\\n",
       "raceId                                                                       \n",
       "1       2009      1          1  Australian Grand Prix 2009-03-29  06:00:00   \n",
       "2       2009      2          2   Malaysian Grand Prix 2009-04-05  09:00:00   \n",
       "3       2009      3         17     Chinese Grand Prix 2009-04-19  07:00:00   \n",
       "4       2009      4          3     Bahrain Grand Prix 2009-04-26  12:00:00   \n",
       "5       2009      5          4     Spanish Grand Prix 2009-05-10  12:00:00   \n",
       "\n",
       "                                                      url fp1_date fp1_time  \\\n",
       "raceId                                                                        \n",
       "1       http://en.wikipedia.org/wiki/2009_Australian_G...      NaN      NaN   \n",
       "2       http://en.wikipedia.org/wiki/2009_Malaysian_Gr...      NaN      NaN   \n",
       "3       http://en.wikipedia.org/wiki/2009_Chinese_Gran...      NaN      NaN   \n",
       "4       http://en.wikipedia.org/wiki/2009_Bahrain_Gran...      NaN      NaN   \n",
       "5       http://en.wikipedia.org/wiki/2009_Spanish_Gran...      NaN      NaN   \n",
       "\n",
       "       fp2_date fp2_time fp3_date fp3_time quali_date quali_time sprint_date  \\\n",
       "raceId                                                                         \n",
       "1           NaN      NaN      NaN      NaN        NaN        NaN         NaN   \n",
       "2           NaN      NaN      NaN      NaN        NaN        NaN         NaN   \n",
       "3           NaN      NaN      NaN      NaN        NaN        NaN         NaN   \n",
       "4           NaN      NaN      NaN      NaN        NaN        NaN         NaN   \n",
       "5           NaN      NaN      NaN      NaN        NaN        NaN         NaN   \n",
       "\n",
       "       sprint_time  \n",
       "raceId              \n",
       "1              NaN  \n",
       "2              NaN  \n",
       "3              NaN  \n",
       "4              NaN  \n",
       "5              NaN  "
      ]
     },
     "execution_count": 56,
     "metadata": {},
     "output_type": "execute_result"
    }
   ],
   "source": [
    "races = pd.read_csv(\n",
    "    races_path,\n",
    "    index_col='raceId',\n",
    "    parse_dates=['date'],\n",
    "    na_values='\\\\N'\n",
    ")\n",
    "races.head(5)"
   ]
  },
  {
   "cell_type": "code",
   "execution_count": 57,
   "id": "79409e2f",
   "metadata": {},
   "outputs": [
    {
     "data": {
      "application/vnd.microsoft.datawrangler.viewer.v0+json": {
       "columns": [
        {
         "name": "resultId",
         "rawType": "int64",
         "type": "integer"
        },
        {
         "name": "raceId",
         "rawType": "int64",
         "type": "integer"
        },
        {
         "name": "driverId",
         "rawType": "int64",
         "type": "integer"
        },
        {
         "name": "constructorId",
         "rawType": "int64",
         "type": "integer"
        },
        {
         "name": "number",
         "rawType": "float64",
         "type": "float"
        },
        {
         "name": "grid",
         "rawType": "int64",
         "type": "integer"
        },
        {
         "name": "position",
         "rawType": "float64",
         "type": "float"
        },
        {
         "name": "positionText",
         "rawType": "object",
         "type": "string"
        },
        {
         "name": "positionOrder",
         "rawType": "int64",
         "type": "integer"
        },
        {
         "name": "points",
         "rawType": "float64",
         "type": "float"
        },
        {
         "name": "laps",
         "rawType": "int64",
         "type": "integer"
        },
        {
         "name": "time",
         "rawType": "object",
         "type": "string"
        },
        {
         "name": "milliseconds",
         "rawType": "float64",
         "type": "float"
        },
        {
         "name": "fastestLap",
         "rawType": "float64",
         "type": "float"
        },
        {
         "name": "rank",
         "rawType": "float64",
         "type": "float"
        },
        {
         "name": "fastestLapTime",
         "rawType": "object",
         "type": "string"
        },
        {
         "name": "fastestLapSpeed",
         "rawType": "float64",
         "type": "float"
        },
        {
         "name": "statusId",
         "rawType": "int64",
         "type": "integer"
        }
       ],
       "ref": "40ef15d8-fc29-48f6-b35f-b48d7278a5d3",
       "rows": [
        [
         "1",
         "18",
         "1",
         "1",
         "22.0",
         "1",
         "1.0",
         "1",
         "1",
         "10.0",
         "58",
         "1:34:50.616",
         "5690616.0",
         "39.0",
         "2.0",
         "1:27.452",
         "218.3",
         "1"
        ],
        [
         "2",
         "18",
         "2",
         "2",
         "3.0",
         "5",
         "2.0",
         "2",
         "2",
         "8.0",
         "58",
         "+5.478",
         "5696094.0",
         "41.0",
         "3.0",
         "1:27.739",
         "217.586",
         "1"
        ],
        [
         "3",
         "18",
         "3",
         "3",
         "7.0",
         "7",
         "3.0",
         "3",
         "3",
         "6.0",
         "58",
         "+8.163",
         "5698779.0",
         "41.0",
         "5.0",
         "1:28.090",
         "216.719",
         "1"
        ],
        [
         "4",
         "18",
         "4",
         "4",
         "5.0",
         "11",
         "4.0",
         "4",
         "4",
         "5.0",
         "58",
         "+17.181",
         "5707797.0",
         "58.0",
         "7.0",
         "1:28.603",
         "215.464",
         "1"
        ],
        [
         "5",
         "18",
         "5",
         "1",
         "23.0",
         "3",
         "5.0",
         "5",
         "5",
         "4.0",
         "58",
         "+18.014",
         "5708630.0",
         "43.0",
         "1.0",
         "1:27.418",
         "218.385",
         "1"
        ]
       ],
       "shape": {
        "columns": 17,
        "rows": 5
       }
      },
      "text/html": [
       "<div>\n",
       "<style scoped>\n",
       "    .dataframe tbody tr th:only-of-type {\n",
       "        vertical-align: middle;\n",
       "    }\n",
       "\n",
       "    .dataframe tbody tr th {\n",
       "        vertical-align: top;\n",
       "    }\n",
       "\n",
       "    .dataframe thead th {\n",
       "        text-align: right;\n",
       "    }\n",
       "</style>\n",
       "<table border=\"1\" class=\"dataframe\">\n",
       "  <thead>\n",
       "    <tr style=\"text-align: right;\">\n",
       "      <th></th>\n",
       "      <th>raceId</th>\n",
       "      <th>driverId</th>\n",
       "      <th>constructorId</th>\n",
       "      <th>number</th>\n",
       "      <th>grid</th>\n",
       "      <th>position</th>\n",
       "      <th>positionText</th>\n",
       "      <th>positionOrder</th>\n",
       "      <th>points</th>\n",
       "      <th>laps</th>\n",
       "      <th>time</th>\n",
       "      <th>milliseconds</th>\n",
       "      <th>fastestLap</th>\n",
       "      <th>rank</th>\n",
       "      <th>fastestLapTime</th>\n",
       "      <th>fastestLapSpeed</th>\n",
       "      <th>statusId</th>\n",
       "    </tr>\n",
       "    <tr>\n",
       "      <th>resultId</th>\n",
       "      <th></th>\n",
       "      <th></th>\n",
       "      <th></th>\n",
       "      <th></th>\n",
       "      <th></th>\n",
       "      <th></th>\n",
       "      <th></th>\n",
       "      <th></th>\n",
       "      <th></th>\n",
       "      <th></th>\n",
       "      <th></th>\n",
       "      <th></th>\n",
       "      <th></th>\n",
       "      <th></th>\n",
       "      <th></th>\n",
       "      <th></th>\n",
       "      <th></th>\n",
       "    </tr>\n",
       "  </thead>\n",
       "  <tbody>\n",
       "    <tr>\n",
       "      <th>1</th>\n",
       "      <td>18</td>\n",
       "      <td>1</td>\n",
       "      <td>1</td>\n",
       "      <td>22.0</td>\n",
       "      <td>1</td>\n",
       "      <td>1.0</td>\n",
       "      <td>1</td>\n",
       "      <td>1</td>\n",
       "      <td>10.0</td>\n",
       "      <td>58</td>\n",
       "      <td>1:34:50.616</td>\n",
       "      <td>5690616.0</td>\n",
       "      <td>39.0</td>\n",
       "      <td>2.0</td>\n",
       "      <td>1:27.452</td>\n",
       "      <td>218.300</td>\n",
       "      <td>1</td>\n",
       "    </tr>\n",
       "    <tr>\n",
       "      <th>2</th>\n",
       "      <td>18</td>\n",
       "      <td>2</td>\n",
       "      <td>2</td>\n",
       "      <td>3.0</td>\n",
       "      <td>5</td>\n",
       "      <td>2.0</td>\n",
       "      <td>2</td>\n",
       "      <td>2</td>\n",
       "      <td>8.0</td>\n",
       "      <td>58</td>\n",
       "      <td>+5.478</td>\n",
       "      <td>5696094.0</td>\n",
       "      <td>41.0</td>\n",
       "      <td>3.0</td>\n",
       "      <td>1:27.739</td>\n",
       "      <td>217.586</td>\n",
       "      <td>1</td>\n",
       "    </tr>\n",
       "    <tr>\n",
       "      <th>3</th>\n",
       "      <td>18</td>\n",
       "      <td>3</td>\n",
       "      <td>3</td>\n",
       "      <td>7.0</td>\n",
       "      <td>7</td>\n",
       "      <td>3.0</td>\n",
       "      <td>3</td>\n",
       "      <td>3</td>\n",
       "      <td>6.0</td>\n",
       "      <td>58</td>\n",
       "      <td>+8.163</td>\n",
       "      <td>5698779.0</td>\n",
       "      <td>41.0</td>\n",
       "      <td>5.0</td>\n",
       "      <td>1:28.090</td>\n",
       "      <td>216.719</td>\n",
       "      <td>1</td>\n",
       "    </tr>\n",
       "    <tr>\n",
       "      <th>4</th>\n",
       "      <td>18</td>\n",
       "      <td>4</td>\n",
       "      <td>4</td>\n",
       "      <td>5.0</td>\n",
       "      <td>11</td>\n",
       "      <td>4.0</td>\n",
       "      <td>4</td>\n",
       "      <td>4</td>\n",
       "      <td>5.0</td>\n",
       "      <td>58</td>\n",
       "      <td>+17.181</td>\n",
       "      <td>5707797.0</td>\n",
       "      <td>58.0</td>\n",
       "      <td>7.0</td>\n",
       "      <td>1:28.603</td>\n",
       "      <td>215.464</td>\n",
       "      <td>1</td>\n",
       "    </tr>\n",
       "    <tr>\n",
       "      <th>5</th>\n",
       "      <td>18</td>\n",
       "      <td>5</td>\n",
       "      <td>1</td>\n",
       "      <td>23.0</td>\n",
       "      <td>3</td>\n",
       "      <td>5.0</td>\n",
       "      <td>5</td>\n",
       "      <td>5</td>\n",
       "      <td>4.0</td>\n",
       "      <td>58</td>\n",
       "      <td>+18.014</td>\n",
       "      <td>5708630.0</td>\n",
       "      <td>43.0</td>\n",
       "      <td>1.0</td>\n",
       "      <td>1:27.418</td>\n",
       "      <td>218.385</td>\n",
       "      <td>1</td>\n",
       "    </tr>\n",
       "  </tbody>\n",
       "</table>\n",
       "</div>"
      ],
      "text/plain": [
       "          raceId  driverId  constructorId  number  grid  position  \\\n",
       "resultId                                                            \n",
       "1             18         1              1    22.0     1       1.0   \n",
       "2             18         2              2     3.0     5       2.0   \n",
       "3             18         3              3     7.0     7       3.0   \n",
       "4             18         4              4     5.0    11       4.0   \n",
       "5             18         5              1    23.0     3       5.0   \n",
       "\n",
       "         positionText  positionOrder  points  laps         time  milliseconds  \\\n",
       "resultId                                                                        \n",
       "1                   1              1    10.0    58  1:34:50.616     5690616.0   \n",
       "2                   2              2     8.0    58       +5.478     5696094.0   \n",
       "3                   3              3     6.0    58       +8.163     5698779.0   \n",
       "4                   4              4     5.0    58      +17.181     5707797.0   \n",
       "5                   5              5     4.0    58      +18.014     5708630.0   \n",
       "\n",
       "          fastestLap  rank fastestLapTime  fastestLapSpeed  statusId  \n",
       "resultId                                                              \n",
       "1               39.0   2.0       1:27.452          218.300         1  \n",
       "2               41.0   3.0       1:27.739          217.586         1  \n",
       "3               41.0   5.0       1:28.090          216.719         1  \n",
       "4               58.0   7.0       1:28.603          215.464         1  \n",
       "5               43.0   1.0       1:27.418          218.385         1  "
      ]
     },
     "execution_count": 57,
     "metadata": {},
     "output_type": "execute_result"
    }
   ],
   "source": [
    "race_results = pd.read_csv(\n",
    "    results_path,\n",
    "    index_col='resultId',\n",
    "    na_values='\\\\N'\n",
    ")\n",
    "race_results.head(5)"
   ]
  },
  {
   "cell_type": "code",
   "execution_count": 58,
   "id": "b7858a71",
   "metadata": {},
   "outputs": [
    {
     "data": {
      "application/vnd.microsoft.datawrangler.viewer.v0+json": {
       "columns": [
        {
         "name": "driverId",
         "rawType": "int64",
         "type": "integer"
        },
        {
         "name": "driverRef",
         "rawType": "object",
         "type": "string"
        },
        {
         "name": "number",
         "rawType": "float64",
         "type": "float"
        },
        {
         "name": "code",
         "rawType": "object",
         "type": "string"
        },
        {
         "name": "forename",
         "rawType": "object",
         "type": "string"
        },
        {
         "name": "surname",
         "rawType": "object",
         "type": "string"
        },
        {
         "name": "dob",
         "rawType": "object",
         "type": "string"
        },
        {
         "name": "nationality",
         "rawType": "object",
         "type": "string"
        },
        {
         "name": "url",
         "rawType": "object",
         "type": "string"
        }
       ],
       "ref": "1db8a47e-89d6-42fd-84a6-ed6e16578d10",
       "rows": [
        [
         "1",
         "hamilton",
         "44.0",
         "HAM",
         "Lewis",
         "Hamilton",
         "1985-01-07",
         "British",
         "http://en.wikipedia.org/wiki/Lewis_Hamilton"
        ],
        [
         "2",
         "heidfeld",
         null,
         "HEI",
         "Nick",
         "Heidfeld",
         "1977-05-10",
         "German",
         "http://en.wikipedia.org/wiki/Nick_Heidfeld"
        ],
        [
         "3",
         "rosberg",
         "6.0",
         "ROS",
         "Nico",
         "Rosberg",
         "1985-06-27",
         "German",
         "http://en.wikipedia.org/wiki/Nico_Rosberg"
        ],
        [
         "4",
         "alonso",
         "14.0",
         "ALO",
         "Fernando",
         "Alonso",
         "1981-07-29",
         "Spanish",
         "http://en.wikipedia.org/wiki/Fernando_Alonso"
        ],
        [
         "5",
         "kovalainen",
         null,
         "KOV",
         "Heikki",
         "Kovalainen",
         "1981-10-19",
         "Finnish",
         "http://en.wikipedia.org/wiki/Heikki_Kovalainen"
        ]
       ],
       "shape": {
        "columns": 8,
        "rows": 5
       }
      },
      "text/html": [
       "<div>\n",
       "<style scoped>\n",
       "    .dataframe tbody tr th:only-of-type {\n",
       "        vertical-align: middle;\n",
       "    }\n",
       "\n",
       "    .dataframe tbody tr th {\n",
       "        vertical-align: top;\n",
       "    }\n",
       "\n",
       "    .dataframe thead th {\n",
       "        text-align: right;\n",
       "    }\n",
       "</style>\n",
       "<table border=\"1\" class=\"dataframe\">\n",
       "  <thead>\n",
       "    <tr style=\"text-align: right;\">\n",
       "      <th></th>\n",
       "      <th>driverRef</th>\n",
       "      <th>number</th>\n",
       "      <th>code</th>\n",
       "      <th>forename</th>\n",
       "      <th>surname</th>\n",
       "      <th>dob</th>\n",
       "      <th>nationality</th>\n",
       "      <th>url</th>\n",
       "    </tr>\n",
       "    <tr>\n",
       "      <th>driverId</th>\n",
       "      <th></th>\n",
       "      <th></th>\n",
       "      <th></th>\n",
       "      <th></th>\n",
       "      <th></th>\n",
       "      <th></th>\n",
       "      <th></th>\n",
       "      <th></th>\n",
       "    </tr>\n",
       "  </thead>\n",
       "  <tbody>\n",
       "    <tr>\n",
       "      <th>1</th>\n",
       "      <td>hamilton</td>\n",
       "      <td>44.0</td>\n",
       "      <td>HAM</td>\n",
       "      <td>Lewis</td>\n",
       "      <td>Hamilton</td>\n",
       "      <td>1985-01-07</td>\n",
       "      <td>British</td>\n",
       "      <td>http://en.wikipedia.org/wiki/Lewis_Hamilton</td>\n",
       "    </tr>\n",
       "    <tr>\n",
       "      <th>2</th>\n",
       "      <td>heidfeld</td>\n",
       "      <td>NaN</td>\n",
       "      <td>HEI</td>\n",
       "      <td>Nick</td>\n",
       "      <td>Heidfeld</td>\n",
       "      <td>1977-05-10</td>\n",
       "      <td>German</td>\n",
       "      <td>http://en.wikipedia.org/wiki/Nick_Heidfeld</td>\n",
       "    </tr>\n",
       "    <tr>\n",
       "      <th>3</th>\n",
       "      <td>rosberg</td>\n",
       "      <td>6.0</td>\n",
       "      <td>ROS</td>\n",
       "      <td>Nico</td>\n",
       "      <td>Rosberg</td>\n",
       "      <td>1985-06-27</td>\n",
       "      <td>German</td>\n",
       "      <td>http://en.wikipedia.org/wiki/Nico_Rosberg</td>\n",
       "    </tr>\n",
       "    <tr>\n",
       "      <th>4</th>\n",
       "      <td>alonso</td>\n",
       "      <td>14.0</td>\n",
       "      <td>ALO</td>\n",
       "      <td>Fernando</td>\n",
       "      <td>Alonso</td>\n",
       "      <td>1981-07-29</td>\n",
       "      <td>Spanish</td>\n",
       "      <td>http://en.wikipedia.org/wiki/Fernando_Alonso</td>\n",
       "    </tr>\n",
       "    <tr>\n",
       "      <th>5</th>\n",
       "      <td>kovalainen</td>\n",
       "      <td>NaN</td>\n",
       "      <td>KOV</td>\n",
       "      <td>Heikki</td>\n",
       "      <td>Kovalainen</td>\n",
       "      <td>1981-10-19</td>\n",
       "      <td>Finnish</td>\n",
       "      <td>http://en.wikipedia.org/wiki/Heikki_Kovalainen</td>\n",
       "    </tr>\n",
       "  </tbody>\n",
       "</table>\n",
       "</div>"
      ],
      "text/plain": [
       "           driverRef  number code  forename     surname         dob  \\\n",
       "driverId                                                              \n",
       "1           hamilton    44.0  HAM     Lewis    Hamilton  1985-01-07   \n",
       "2           heidfeld     NaN  HEI      Nick    Heidfeld  1977-05-10   \n",
       "3            rosberg     6.0  ROS      Nico     Rosberg  1985-06-27   \n",
       "4             alonso    14.0  ALO  Fernando      Alonso  1981-07-29   \n",
       "5         kovalainen     NaN  KOV    Heikki  Kovalainen  1981-10-19   \n",
       "\n",
       "         nationality                                             url  \n",
       "driverId                                                              \n",
       "1            British     http://en.wikipedia.org/wiki/Lewis_Hamilton  \n",
       "2             German      http://en.wikipedia.org/wiki/Nick_Heidfeld  \n",
       "3             German       http://en.wikipedia.org/wiki/Nico_Rosberg  \n",
       "4            Spanish    http://en.wikipedia.org/wiki/Fernando_Alonso  \n",
       "5            Finnish  http://en.wikipedia.org/wiki/Heikki_Kovalainen  "
      ]
     },
     "execution_count": 58,
     "metadata": {},
     "output_type": "execute_result"
    }
   ],
   "source": [
    "drivers = pd.read_csv(\n",
    "    drivers_path,\n",
    "    index_col='driverId',\n",
    "    na_values='\\\\N'\n",
    ")\n",
    "drivers.head(5)"
   ]
  },
  {
   "cell_type": "code",
   "execution_count": 59,
   "id": "e5f96f17",
   "metadata": {},
   "outputs": [
    {
     "data": {
      "application/vnd.microsoft.datawrangler.viewer.v0+json": {
       "columns": [
        {
         "name": "constructorId",
         "rawType": "int64",
         "type": "integer"
        },
        {
         "name": "constructorRef",
         "rawType": "object",
         "type": "string"
        },
        {
         "name": "name",
         "rawType": "object",
         "type": "string"
        },
        {
         "name": "nationality",
         "rawType": "object",
         "type": "string"
        },
        {
         "name": "url",
         "rawType": "object",
         "type": "string"
        }
       ],
       "ref": "2d6a0ebe-a535-4279-b0b3-d7a4ecb9be6b",
       "rows": [
        [
         "1",
         "mclaren",
         "McLaren",
         "British",
         "http://en.wikipedia.org/wiki/McLaren"
        ],
        [
         "2",
         "bmw_sauber",
         "BMW Sauber",
         "German",
         "http://en.wikipedia.org/wiki/BMW_Sauber"
        ],
        [
         "3",
         "williams",
         "Williams",
         "British",
         "http://en.wikipedia.org/wiki/Williams_Grand_Prix_Engineering"
        ],
        [
         "4",
         "renault",
         "Renault",
         "French",
         "http://en.wikipedia.org/wiki/Renault_in_Formula_One"
        ],
        [
         "5",
         "toro_rosso",
         "Toro Rosso",
         "Italian",
         "http://en.wikipedia.org/wiki/Scuderia_Toro_Rosso"
        ],
        [
         "6",
         "ferrari",
         "Ferrari",
         "Italian",
         "http://en.wikipedia.org/wiki/Scuderia_Ferrari"
        ],
        [
         "7",
         "toyota",
         "Toyota",
         "Japanese",
         "http://en.wikipedia.org/wiki/Toyota_Racing"
        ],
        [
         "8",
         "super_aguri",
         "Super Aguri",
         "Japanese",
         "http://en.wikipedia.org/wiki/Super_Aguri_F1"
        ],
        [
         "9",
         "red_bull",
         "Red Bull",
         "Austrian",
         "http://en.wikipedia.org/wiki/Red_Bull_Racing"
        ],
        [
         "10",
         "force_india",
         "Force India",
         "Indian",
         "http://en.wikipedia.org/wiki/Racing_Point_Force_India"
        ],
        [
         "11",
         "honda",
         "Honda",
         "Japanese",
         "http://en.wikipedia.org/wiki/Honda_Racing_F1"
        ],
        [
         "12",
         "spyker",
         "Spyker",
         "Dutch",
         "http://en.wikipedia.org/wiki/Spyker_F1"
        ],
        [
         "13",
         "mf1",
         "MF1",
         "Russian",
         "http://en.wikipedia.org/wiki/Midland_F1_Racing"
        ],
        [
         "14",
         "spyker_mf1",
         "Spyker MF1",
         "Dutch",
         "http://en.wikipedia.org/wiki/Midland_F1_Racing"
        ],
        [
         "15",
         "sauber",
         "Sauber",
         "Swiss",
         "http://en.wikipedia.org/wiki/Sauber_Motorsport"
        ],
        [
         "16",
         "bar",
         "BAR",
         "British",
         "http://en.wikipedia.org/wiki/British_American_Racing"
        ],
        [
         "17",
         "jordan",
         "Jordan",
         "Irish",
         "http://en.wikipedia.org/wiki/Jordan_Grand_Prix"
        ],
        [
         "18",
         "minardi",
         "Minardi",
         "Italian",
         "http://en.wikipedia.org/wiki/Minardi"
        ],
        [
         "19",
         "jaguar",
         "Jaguar",
         "British",
         "http://en.wikipedia.org/wiki/Jaguar_Racing"
        ],
        [
         "20",
         "prost",
         "Prost",
         "French",
         "http://en.wikipedia.org/wiki/Prost_Grand_Prix"
        ],
        [
         "21",
         "arrows",
         "Arrows",
         "British",
         "http://en.wikipedia.org/wiki/Arrows_Grand_Prix_International"
        ],
        [
         "22",
         "benetton",
         "Benetton",
         "Italian",
         "http://en.wikipedia.org/wiki/Benetton_Formula"
        ],
        [
         "23",
         "brawn",
         "Brawn",
         "British",
         "http://en.wikipedia.org/wiki/Brawn_GP"
        ],
        [
         "24",
         "stewart",
         "Stewart",
         "British",
         "http://en.wikipedia.org/wiki/Stewart_Grand_Prix"
        ],
        [
         "25",
         "tyrrell",
         "Tyrrell",
         "British",
         "http://en.wikipedia.org/wiki/Tyrrell_Racing"
        ],
        [
         "26",
         "lola",
         "Lola",
         "British",
         "http://en.wikipedia.org/wiki/MasterCard_Lola"
        ],
        [
         "27",
         "ligier",
         "Ligier",
         "French",
         "http://en.wikipedia.org/wiki/Ligier"
        ],
        [
         "28",
         "forti",
         "Forti",
         "Italian",
         "http://en.wikipedia.org/wiki/Forti"
        ],
        [
         "29",
         "footwork",
         "Footwork",
         "British",
         "http://en.wikipedia.org/wiki/Footwork_Arrows"
        ],
        [
         "30",
         "pacific",
         "Pacific",
         "British",
         "http://en.wikipedia.org/wiki/Pacific_Racing"
        ],
        [
         "31",
         "simtek",
         "Simtek",
         "British",
         "http://en.wikipedia.org/wiki/Simtek"
        ],
        [
         "32",
         "team_lotus",
         "Team Lotus",
         "British",
         "http://en.wikipedia.org/wiki/Team_Lotus"
        ],
        [
         "33",
         "larrousse",
         "Larrousse",
         "French",
         "http://en.wikipedia.org/wiki/Larrousse"
        ],
        [
         "34",
         "brabham",
         "Brabham",
         "British",
         "http://en.wikipedia.org/wiki/Brabham"
        ],
        [
         "35",
         "dallara",
         "Dallara",
         "Italian",
         "http://en.wikipedia.org/wiki/Dallara"
        ],
        [
         "36",
         "fondmetal",
         "Fondmetal",
         "Italian",
         "http://en.wikipedia.org/wiki/Fondmetal"
        ],
        [
         "37",
         "march",
         "March",
         "British",
         "http://en.wikipedia.org/wiki/March_Engineering"
        ],
        [
         "38",
         "moda",
         "Andrea Moda",
         "Italian",
         "http://en.wikipedia.org/wiki/Andrea_Moda_Formula"
        ],
        [
         "39",
         "ags",
         "AGS",
         "French",
         "http://en.wikipedia.org/wiki/Automobiles_Gonfaronnaises_Sportives"
        ],
        [
         "40",
         "lambo",
         "Lambo",
         "Italian",
         "http://en.wikipedia.org/wiki/Modena_(racing_team)"
        ],
        [
         "41",
         "leyton",
         "Leyton House",
         "British",
         "http://en.wikipedia.org/wiki/Leyton_House"
        ],
        [
         "42",
         "coloni",
         "Coloni",
         "Italian",
         "http://en.wikipedia.org/wiki/Enzo_Coloni_Racing_Car_Systems"
        ],
        [
         "44",
         "eurobrun",
         "Euro Brun",
         "Italian",
         "http://en.wikipedia.org/wiki/Euro_Brun"
        ],
        [
         "45",
         "osella",
         "Osella",
         "Italian",
         "http://en.wikipedia.org/wiki/Osella"
        ],
        [
         "46",
         "onyx",
         "Onyx",
         "British",
         "http://en.wikipedia.org/wiki/Onyx_(racing_team)"
        ],
        [
         "47",
         "life",
         "Life",
         "Italian",
         "http://en.wikipedia.org/wiki/Life_(Racing_Team)"
        ],
        [
         "48",
         "rial",
         "Rial",
         "German",
         "http://en.wikipedia.org/wiki/Rial_%28racing_team%29"
        ],
        [
         "49",
         "zakspeed",
         "Zakspeed",
         "German",
         "http://en.wikipedia.org/wiki/Zakspeed"
        ],
        [
         "50",
         "ram",
         "RAM",
         "British",
         "http://en.wikipedia.org/wiki/RAM_Racing"
        ],
        [
         "51",
         "alfa",
         "Alfa Romeo",
         "Swiss",
         "http://en.wikipedia.org/wiki/Alfa_Romeo_in_Formula_One"
        ]
       ],
       "shape": {
        "columns": 4,
        "rows": 212
       }
      },
      "text/html": [
       "<div>\n",
       "<style scoped>\n",
       "    .dataframe tbody tr th:only-of-type {\n",
       "        vertical-align: middle;\n",
       "    }\n",
       "\n",
       "    .dataframe tbody tr th {\n",
       "        vertical-align: top;\n",
       "    }\n",
       "\n",
       "    .dataframe thead th {\n",
       "        text-align: right;\n",
       "    }\n",
       "</style>\n",
       "<table border=\"1\" class=\"dataframe\">\n",
       "  <thead>\n",
       "    <tr style=\"text-align: right;\">\n",
       "      <th></th>\n",
       "      <th>constructorRef</th>\n",
       "      <th>name</th>\n",
       "      <th>nationality</th>\n",
       "      <th>url</th>\n",
       "    </tr>\n",
       "    <tr>\n",
       "      <th>constructorId</th>\n",
       "      <th></th>\n",
       "      <th></th>\n",
       "      <th></th>\n",
       "      <th></th>\n",
       "    </tr>\n",
       "  </thead>\n",
       "  <tbody>\n",
       "    <tr>\n",
       "      <th>1</th>\n",
       "      <td>mclaren</td>\n",
       "      <td>McLaren</td>\n",
       "      <td>British</td>\n",
       "      <td>http://en.wikipedia.org/wiki/McLaren</td>\n",
       "    </tr>\n",
       "    <tr>\n",
       "      <th>2</th>\n",
       "      <td>bmw_sauber</td>\n",
       "      <td>BMW Sauber</td>\n",
       "      <td>German</td>\n",
       "      <td>http://en.wikipedia.org/wiki/BMW_Sauber</td>\n",
       "    </tr>\n",
       "    <tr>\n",
       "      <th>3</th>\n",
       "      <td>williams</td>\n",
       "      <td>Williams</td>\n",
       "      <td>British</td>\n",
       "      <td>http://en.wikipedia.org/wiki/Williams_Grand_Pr...</td>\n",
       "    </tr>\n",
       "    <tr>\n",
       "      <th>4</th>\n",
       "      <td>renault</td>\n",
       "      <td>Renault</td>\n",
       "      <td>French</td>\n",
       "      <td>http://en.wikipedia.org/wiki/Renault_in_Formul...</td>\n",
       "    </tr>\n",
       "    <tr>\n",
       "      <th>5</th>\n",
       "      <td>toro_rosso</td>\n",
       "      <td>Toro Rosso</td>\n",
       "      <td>Italian</td>\n",
       "      <td>http://en.wikipedia.org/wiki/Scuderia_Toro_Rosso</td>\n",
       "    </tr>\n",
       "    <tr>\n",
       "      <th>...</th>\n",
       "      <td>...</td>\n",
       "      <td>...</td>\n",
       "      <td>...</td>\n",
       "      <td>...</td>\n",
       "    </tr>\n",
       "    <tr>\n",
       "      <th>210</th>\n",
       "      <td>haas</td>\n",
       "      <td>Haas F1 Team</td>\n",
       "      <td>American</td>\n",
       "      <td>http://en.wikipedia.org/wiki/Haas_F1_Team</td>\n",
       "    </tr>\n",
       "    <tr>\n",
       "      <th>211</th>\n",
       "      <td>racing_point</td>\n",
       "      <td>Racing Point</td>\n",
       "      <td>British</td>\n",
       "      <td>http://en.wikipedia.org/wiki/Racing_Point_F1_Team</td>\n",
       "    </tr>\n",
       "    <tr>\n",
       "      <th>213</th>\n",
       "      <td>alphatauri</td>\n",
       "      <td>AlphaTauri</td>\n",
       "      <td>Italian</td>\n",
       "      <td>http://en.wikipedia.org/wiki/Scuderia_AlphaTauri</td>\n",
       "    </tr>\n",
       "    <tr>\n",
       "      <th>214</th>\n",
       "      <td>alpine</td>\n",
       "      <td>Alpine F1 Team</td>\n",
       "      <td>French</td>\n",
       "      <td>http://en.wikipedia.org/wiki/Alpine_F1_Team</td>\n",
       "    </tr>\n",
       "    <tr>\n",
       "      <th>215</th>\n",
       "      <td>rb</td>\n",
       "      <td>RB F1 Team</td>\n",
       "      <td>Italian</td>\n",
       "      <td>http://en.wikipedia.org/wiki/RB_Formula_One_Team</td>\n",
       "    </tr>\n",
       "  </tbody>\n",
       "</table>\n",
       "<p>212 rows × 4 columns</p>\n",
       "</div>"
      ],
      "text/plain": [
       "              constructorRef            name nationality  \\\n",
       "constructorId                                              \n",
       "1                    mclaren         McLaren     British   \n",
       "2                 bmw_sauber      BMW Sauber      German   \n",
       "3                   williams        Williams     British   \n",
       "4                    renault         Renault      French   \n",
       "5                 toro_rosso      Toro Rosso     Italian   \n",
       "...                      ...             ...         ...   \n",
       "210                     haas    Haas F1 Team    American   \n",
       "211             racing_point    Racing Point     British   \n",
       "213               alphatauri      AlphaTauri     Italian   \n",
       "214                   alpine  Alpine F1 Team      French   \n",
       "215                       rb      RB F1 Team     Italian   \n",
       "\n",
       "                                                             url  \n",
       "constructorId                                                     \n",
       "1                           http://en.wikipedia.org/wiki/McLaren  \n",
       "2                        http://en.wikipedia.org/wiki/BMW_Sauber  \n",
       "3              http://en.wikipedia.org/wiki/Williams_Grand_Pr...  \n",
       "4              http://en.wikipedia.org/wiki/Renault_in_Formul...  \n",
       "5               http://en.wikipedia.org/wiki/Scuderia_Toro_Rosso  \n",
       "...                                                          ...  \n",
       "210                    http://en.wikipedia.org/wiki/Haas_F1_Team  \n",
       "211            http://en.wikipedia.org/wiki/Racing_Point_F1_Team  \n",
       "213             http://en.wikipedia.org/wiki/Scuderia_AlphaTauri  \n",
       "214                  http://en.wikipedia.org/wiki/Alpine_F1_Team  \n",
       "215             http://en.wikipedia.org/wiki/RB_Formula_One_Team  \n",
       "\n",
       "[212 rows x 4 columns]"
      ]
     },
     "execution_count": 59,
     "metadata": {},
     "output_type": "execute_result"
    }
   ],
   "source": [
    "constructors = pd.read_csv(\n",
    "    constructors_path,\n",
    "    index_col='constructorId'\n",
    ")\n",
    "constructors"
   ]
  },
  {
   "cell_type": "markdown",
   "id": "75343ad4",
   "metadata": {},
   "source": [
    "## Ground effect cars era (2022–2025)\n",
    "Since the FIA is in charge of setting the technical regulations, we have decided to train the model on data from the most recent \"ground effect cars\" era.\n",
    "\n",
    "This dataset does not include data for the current 2025 season, since it is still being disputed.\n",
    "\n",
    "*Note: Ground effect, in automotive aerodynamics, aims to create downforce (a downwards lift force that increases the vertical force on the tires, thus creating more grip).*"
   ]
  },
  {
   "cell_type": "code",
   "execution_count": 60,
   "id": "cf72543d",
   "metadata": {},
   "outputs": [
    {
     "data": {
      "application/vnd.microsoft.datawrangler.viewer.v0+json": {
       "columns": [
        {
         "name": "raceId",
         "rawType": "int64",
         "type": "integer"
        },
        {
         "name": "year",
         "rawType": "int64",
         "type": "integer"
        },
        {
         "name": "name",
         "rawType": "object",
         "type": "string"
        }
       ],
       "ref": "40f90548-e9fd-4022-afe1-6835dcdc2f1d",
       "rows": [
        [
         "1074",
         "2022",
         "Bahrain Grand Prix"
        ],
        [
         "1075",
         "2022",
         "Saudi Arabian Grand Prix"
        ],
        [
         "1076",
         "2022",
         "Australian Grand Prix"
        ],
        [
         "1077",
         "2022",
         "Emilia Romagna Grand Prix"
        ],
        [
         "1078",
         "2022",
         "Miami Grand Prix"
        ]
       ],
       "shape": {
        "columns": 2,
        "rows": 5
       }
      },
      "text/html": [
       "<div>\n",
       "<style scoped>\n",
       "    .dataframe tbody tr th:only-of-type {\n",
       "        vertical-align: middle;\n",
       "    }\n",
       "\n",
       "    .dataframe tbody tr th {\n",
       "        vertical-align: top;\n",
       "    }\n",
       "\n",
       "    .dataframe thead th {\n",
       "        text-align: right;\n",
       "    }\n",
       "</style>\n",
       "<table border=\"1\" class=\"dataframe\">\n",
       "  <thead>\n",
       "    <tr style=\"text-align: right;\">\n",
       "      <th></th>\n",
       "      <th>year</th>\n",
       "      <th>name</th>\n",
       "    </tr>\n",
       "    <tr>\n",
       "      <th>raceId</th>\n",
       "      <th></th>\n",
       "      <th></th>\n",
       "    </tr>\n",
       "  </thead>\n",
       "  <tbody>\n",
       "    <tr>\n",
       "      <th>1074</th>\n",
       "      <td>2022</td>\n",
       "      <td>Bahrain Grand Prix</td>\n",
       "    </tr>\n",
       "    <tr>\n",
       "      <th>1075</th>\n",
       "      <td>2022</td>\n",
       "      <td>Saudi Arabian Grand Prix</td>\n",
       "    </tr>\n",
       "    <tr>\n",
       "      <th>1076</th>\n",
       "      <td>2022</td>\n",
       "      <td>Australian Grand Prix</td>\n",
       "    </tr>\n",
       "    <tr>\n",
       "      <th>1077</th>\n",
       "      <td>2022</td>\n",
       "      <td>Emilia Romagna Grand Prix</td>\n",
       "    </tr>\n",
       "    <tr>\n",
       "      <th>1078</th>\n",
       "      <td>2022</td>\n",
       "      <td>Miami Grand Prix</td>\n",
       "    </tr>\n",
       "  </tbody>\n",
       "</table>\n",
       "</div>"
      ],
      "text/plain": [
       "        year                       name\n",
       "raceId                                 \n",
       "1074    2022         Bahrain Grand Prix\n",
       "1075    2022   Saudi Arabian Grand Prix\n",
       "1076    2022      Australian Grand Prix\n",
       "1077    2022  Emilia Romagna Grand Prix\n",
       "1078    2022           Miami Grand Prix"
      ]
     },
     "execution_count": 60,
     "metadata": {},
     "output_type": "execute_result"
    }
   ],
   "source": [
    "races = races.loc[(races['year'] >= 2022) & (races['year'] <= 2024)]\n",
    "races = races[['year', 'name']]\n",
    "races.head(5)"
   ]
  },
  {
   "cell_type": "markdown",
   "id": "031aa0ef",
   "metadata": {},
   "source": [
    "Considering the presence of multiple datasets, it is needed to merge them into a single dataframe. The merge will also allow only the data from 2022 to be kept.\n",
    "\n",
    "Here is the list of columns that will be kept per dataframe:\n",
    "- Qualifying\n",
    "    - raceId\n",
    "    - driverId\n",
    "    - q1\n",
    "    - q2\n",
    "    - q3\n",
    "- Race results\n",
    "    - raceId\n",
    "    - driverId\n",
    "    - constructorId\n",
    "    - fastestLapTime\n",
    "- Drivers\n",
    "    - surname\n",
    "- Constructors\n",
    "    - name\n",
    "\n",
    "The ID columns are kept to be used in the merge. Once the merge is complete, they will be dropped from the dataframe."
   ]
  },
  {
   "cell_type": "code",
   "execution_count": 61,
   "id": "c5a61ff5",
   "metadata": {},
   "outputs": [],
   "source": [
    "data = races.merge(quali[['raceId', 'driverId', 'q1', 'q2', 'q3']], on='raceId')\n",
    "data = data.merge(race_results[['raceId', 'driverId', 'constructorId', 'fastestLapTime']], on=['raceId', 'driverId'])\n",
    "data = data.merge(drivers['surname'], on='driverId')\n",
    "data = data.merge(constructors['name'], suffixes=('_race', '_constructor'), on='constructorId')"
   ]
  },
  {
   "cell_type": "markdown",
   "id": "1c915e74",
   "metadata": {},
   "source": [
    "All missing values in the column `fastestLapTime` have to be removed. This is the value that we want to predict and not having any value means that the driver could not participate in the race, or had retired before completing a single lap.\n",
    "\n",
    "Rows that are missing all values for Q1, Q2 and Q3 will also be dropped. This means that the driver did not participate in the first qualifying (therefore in any qualifying session)."
   ]
  },
  {
   "cell_type": "code",
   "execution_count": 62,
   "id": "6534653c",
   "metadata": {},
   "outputs": [],
   "source": [
    "data = data.dropna(subset='fastestLapTime')\n",
    "data = data.dropna(subset=['q1', 'q2', 'q3'], how='all')\n",
    "data = data.drop(['driverId', 'constructorId', 'raceId'], axis=1)"
   ]
  },
  {
   "cell_type": "markdown",
   "id": "b9f38b3e",
   "metadata": {},
   "source": [
    "Formula One's lap time format is `M:SS.mmm` (e.g. `1:21.456`). To be able to manipulate such values, we need to convert them to seconds first:"
   ]
  },
  {
   "cell_type": "code",
   "execution_count": 63,
   "id": "521f8252",
   "metadata": {},
   "outputs": [],
   "source": [
    "def lap_time_to_seconds(time):\n",
    "    if pd.isna(time):\n",
    "        return np.nan\n",
    "    minutes, seconds = time.split(':')\n",
    "    return int(minutes) * 60 + float(seconds)"
   ]
  },
  {
   "cell_type": "markdown",
   "id": "7feaad82",
   "metadata": {},
   "source": [
    "A new column `bestQualiTime` will be added. It represents the best qualifying lap time for each driver. This is needed since in our current dataframe there will be plenty of missing values for Q2 and Q3, considering that drivers will be eliminated during said sessions.\n",
    "\n",
    "We will train the model on this new column, rather than the single \"q_\" columns. This way we have avoided handling `NaN` values."
   ]
  },
  {
   "cell_type": "code",
   "execution_count": 64,
   "id": "037e367d",
   "metadata": {},
   "outputs": [],
   "source": [
    "for col in ['q1', 'q2', 'q3', 'fastestLapTime']:\n",
    "    data[col] = data[col].apply(lap_time_to_seconds)\n",
    "\n",
    "data['bestQualiTime'] = data[['q1', 'q2', 'q3']].min(axis=1, skipna=True)"
   ]
  },
  {
   "cell_type": "markdown",
   "id": "347f581d",
   "metadata": {},
   "source": [
    "To predict the fastest race lap, we will use the following independent variables:\n",
    "- `bestQualiTime`: the driver's best lap time, scored during the span of the whole qualifying sessions\n",
    "- `surname`: the driver's surname, since each driver has different driving styles (aggressive, conservative, etc.), this will help us differenciate them\n",
    "- `name_constructor`: the constructor's name (not every team can usually compete for the podium)\n",
    "\n",
    "Since we are facing both numeric and categorical variables, we will divide them into two arrays:"
   ]
  },
  {
   "cell_type": "code",
   "execution_count": 65,
   "id": "3837ad3a",
   "metadata": {},
   "outputs": [],
   "source": [
    "numeric_vars = ['bestQualiTime']\n",
    "categorical_vars = ['surname', 'name_constructor']"
   ]
  },
  {
   "cell_type": "code",
   "execution_count": 66,
   "id": "097d2b16",
   "metadata": {},
   "outputs": [
    {
     "data": {
      "text/plain": [
       "array(['Leclerc', 'Verstappen', 'Sainz', 'Pérez', 'Hamilton', 'Bottas',\n",
       "       'Magnussen', 'Alonso', 'Russell', 'Gasly', 'Ocon', 'Schumacher',\n",
       "       'Norris', 'Albon', 'Zhou', 'Tsunoda', 'Hülkenberg', 'Ricciardo',\n",
       "       'Stroll', 'Latifi', 'Vettel', 'de Vries', 'Sargeant', 'Piastri',\n",
       "       'Lawson', 'Bearman', 'Colapinto', 'Doohan'], dtype=object)"
      ]
     },
     "execution_count": 66,
     "metadata": {},
     "output_type": "execute_result"
    }
   ],
   "source": [
    "data['surname'].unique()"
   ]
  },
  {
   "cell_type": "code",
   "execution_count": 67,
   "id": "9f670c69",
   "metadata": {},
   "outputs": [
    {
     "data": {
      "text/plain": [
       "array(['Ferrari', 'Red Bull', 'Mercedes', 'Alfa Romeo', 'Haas F1 Team',\n",
       "       'Alpine F1 Team', 'AlphaTauri', 'McLaren', 'Williams',\n",
       "       'Aston Martin', 'RB F1 Team', 'Sauber'], dtype=object)"
      ]
     },
     "execution_count": 67,
     "metadata": {},
     "output_type": "execute_result"
    }
   ],
   "source": [
    "data['name_constructor'].unique()"
   ]
  },
  {
   "cell_type": "markdown",
   "id": "ad938974",
   "metadata": {},
   "source": [
    "# Dataset Analysis"
   ]
  },
  {
   "cell_type": "code",
   "execution_count": 68,
   "id": "616221ac",
   "metadata": {},
   "outputs": [
    {
     "data": {
      "application/vnd.microsoft.datawrangler.viewer.v0+json": {
       "columns": [
        {
         "name": "index",
         "rawType": "object",
         "type": "string"
        },
        {
         "name": "year",
         "rawType": "float64",
         "type": "float"
        },
        {
         "name": "q1",
         "rawType": "float64",
         "type": "float"
        },
        {
         "name": "q2",
         "rawType": "float64",
         "type": "float"
        },
        {
         "name": "q3",
         "rawType": "float64",
         "type": "float"
        },
        {
         "name": "fastestLapTime",
         "rawType": "float64",
         "type": "float"
        },
        {
         "name": "bestQualiTime",
         "rawType": "float64",
         "type": "float"
        }
       ],
       "ref": "ed76d0e1-3cb6-4b12-ab02-78ef1328791a",
       "rows": [
        [
         "count",
         "1287.0",
         "1287.0",
         "966.0",
         "634.0",
         "1287.0",
         "1287.0"
        ],
        [
         "mean",
         "2023.01554001554",
         "86.41802797202797",
         "85.54669047619048",
         "85.05198107255521",
         "88.95252836052836",
         "85.55986946386946"
        ],
        [
         "std",
         "0.8204658615258708",
         "11.686467351640466",
         "11.406373318468127",
         "11.117748011605686",
         "11.243144931779977",
         "11.45144986664423"
        ],
        [
         "min",
         "2022.0",
         "65.116",
         "64.469",
         "64.314",
         "67.012",
         "64.314"
        ],
        [
         "25%",
         "2022.0",
         "78.24199999999999",
         "77.589",
         "76.75800000000001",
         "80.474",
         "77.37950000000001"
        ],
        [
         "50%",
         "2023.0",
         "86.038",
         "85.188",
         "84.8955",
         "88.195",
         "84.769"
        ],
        [
         "75%",
         "2024.0",
         "92.488",
         "91.47",
         "90.98400000000001",
         "96.91999999999999",
         "91.945"
        ],
        [
         "max",
         "2024.0",
         "128.51",
         "126.688",
         "123.095",
         "125.585",
         "128.51"
        ]
       ],
       "shape": {
        "columns": 6,
        "rows": 8
       }
      },
      "text/html": [
       "<div>\n",
       "<style scoped>\n",
       "    .dataframe tbody tr th:only-of-type {\n",
       "        vertical-align: middle;\n",
       "    }\n",
       "\n",
       "    .dataframe tbody tr th {\n",
       "        vertical-align: top;\n",
       "    }\n",
       "\n",
       "    .dataframe thead th {\n",
       "        text-align: right;\n",
       "    }\n",
       "</style>\n",
       "<table border=\"1\" class=\"dataframe\">\n",
       "  <thead>\n",
       "    <tr style=\"text-align: right;\">\n",
       "      <th></th>\n",
       "      <th>year</th>\n",
       "      <th>q1</th>\n",
       "      <th>q2</th>\n",
       "      <th>q3</th>\n",
       "      <th>fastestLapTime</th>\n",
       "      <th>bestQualiTime</th>\n",
       "    </tr>\n",
       "  </thead>\n",
       "  <tbody>\n",
       "    <tr>\n",
       "      <th>count</th>\n",
       "      <td>1287.000000</td>\n",
       "      <td>1287.000000</td>\n",
       "      <td>966.000000</td>\n",
       "      <td>634.000000</td>\n",
       "      <td>1287.000000</td>\n",
       "      <td>1287.000000</td>\n",
       "    </tr>\n",
       "    <tr>\n",
       "      <th>mean</th>\n",
       "      <td>2023.015540</td>\n",
       "      <td>86.418028</td>\n",
       "      <td>85.546690</td>\n",
       "      <td>85.051981</td>\n",
       "      <td>88.952528</td>\n",
       "      <td>85.559869</td>\n",
       "    </tr>\n",
       "    <tr>\n",
       "      <th>std</th>\n",
       "      <td>0.820466</td>\n",
       "      <td>11.686467</td>\n",
       "      <td>11.406373</td>\n",
       "      <td>11.117748</td>\n",
       "      <td>11.243145</td>\n",
       "      <td>11.451450</td>\n",
       "    </tr>\n",
       "    <tr>\n",
       "      <th>min</th>\n",
       "      <td>2022.000000</td>\n",
       "      <td>65.116000</td>\n",
       "      <td>64.469000</td>\n",
       "      <td>64.314000</td>\n",
       "      <td>67.012000</td>\n",
       "      <td>64.314000</td>\n",
       "    </tr>\n",
       "    <tr>\n",
       "      <th>25%</th>\n",
       "      <td>2022.000000</td>\n",
       "      <td>78.242000</td>\n",
       "      <td>77.589000</td>\n",
       "      <td>76.758000</td>\n",
       "      <td>80.474000</td>\n",
       "      <td>77.379500</td>\n",
       "    </tr>\n",
       "    <tr>\n",
       "      <th>50%</th>\n",
       "      <td>2023.000000</td>\n",
       "      <td>86.038000</td>\n",
       "      <td>85.188000</td>\n",
       "      <td>84.895500</td>\n",
       "      <td>88.195000</td>\n",
       "      <td>84.769000</td>\n",
       "    </tr>\n",
       "    <tr>\n",
       "      <th>75%</th>\n",
       "      <td>2024.000000</td>\n",
       "      <td>92.488000</td>\n",
       "      <td>91.470000</td>\n",
       "      <td>90.984000</td>\n",
       "      <td>96.920000</td>\n",
       "      <td>91.945000</td>\n",
       "    </tr>\n",
       "    <tr>\n",
       "      <th>max</th>\n",
       "      <td>2024.000000</td>\n",
       "      <td>128.510000</td>\n",
       "      <td>126.688000</td>\n",
       "      <td>123.095000</td>\n",
       "      <td>125.585000</td>\n",
       "      <td>128.510000</td>\n",
       "    </tr>\n",
       "  </tbody>\n",
       "</table>\n",
       "</div>"
      ],
      "text/plain": [
       "              year           q1          q2          q3  fastestLapTime  \\\n",
       "count  1287.000000  1287.000000  966.000000  634.000000     1287.000000   \n",
       "mean   2023.015540    86.418028   85.546690   85.051981       88.952528   \n",
       "std       0.820466    11.686467   11.406373   11.117748       11.243145   \n",
       "min    2022.000000    65.116000   64.469000   64.314000       67.012000   \n",
       "25%    2022.000000    78.242000   77.589000   76.758000       80.474000   \n",
       "50%    2023.000000    86.038000   85.188000   84.895500       88.195000   \n",
       "75%    2024.000000    92.488000   91.470000   90.984000       96.920000   \n",
       "max    2024.000000   128.510000  126.688000  123.095000      125.585000   \n",
       "\n",
       "       bestQualiTime  \n",
       "count    1287.000000  \n",
       "mean       85.559869  \n",
       "std        11.451450  \n",
       "min        64.314000  \n",
       "25%        77.379500  \n",
       "50%        84.769000  \n",
       "75%        91.945000  \n",
       "max       128.510000  "
      ]
     },
     "execution_count": 68,
     "metadata": {},
     "output_type": "execute_result"
    }
   ],
   "source": [
    "data.describe()"
   ]
  },
  {
   "cell_type": "code",
   "execution_count": 69,
   "id": "44683a01",
   "metadata": {},
   "outputs": [
    {
     "data": {
      "image/png": "[encoded data removed]",
      "text/plain": [
       "<Figure size 640x480 with 1 Axes>"
      ]
     },
     "metadata": {},
     "output_type": "display_data"
    }
   ],
   "source": [
    "plt.title('Qualifying completion percentage per session (2022-2024)')\n",
    "plt.pie(\n",
    "    data[['q1', 'q2', 'q3']].count(),\n",
    "    labels=['Q1', 'Q2', 'Q3'],\n",
    "    autopct='%1.1f%%',\n",
    "    explode=(0, 0, 0.1),\n",
    "    shadow=True,\n",
    "    startangle=90\n",
    ");"
   ]
  },
  {
   "cell_type": "code",
   "execution_count": 70,
   "id": "51c9b30f",
   "metadata": {},
   "outputs": [
    {
     "data": {
      "image/png": "[encoded data removed]",
      "text/plain": [
       "<Figure size 1000x700 with 1 Axes>"
      ]
     },
     "metadata": {},
     "output_type": "display_data"
    }
   ],
   "source": [
    "plt.figure(figsize=(10, 7))\n",
    "plt.suptitle('2022 - Bahrain Grand Prix')\n",
    "plt.title('Lap Times during Qualifying for the first 5 drivers')\n",
    "plt.plot(data[['q1', 'q2', 'q3']].head(5).T)\n",
    "plt.xlabel('Qualifying Session')\n",
    "plt.ylabel('Lap Time (sec)')\n",
    "plt.legend(data['surname'])\n",
    "plt.grid(True);"
   ]
  },
  {
   "cell_type": "code",
   "execution_count": 233,
   "id": "bfa4ad04",
   "metadata": {},
   "outputs": [
    {
     "data": {
      "image/png": "[encoded data removed]",
      "text/plain": [
       "<Figure size 1000x600 with 1 Axes>"
      ]
     },
     "metadata": {},
     "output_type": "display_data"
    }
   ],
   "source": [
    "plt.figure(figsize=(10, 6))\n",
    "plt.boxplot(data[['bestQualiTime', 'fastestLapTime']], tick_labels=['bestQualiTime', 'fastestLapTime']);"
   ]
  },
  {
   "cell_type": "markdown",
   "id": "b506b076",
   "metadata": {},
   "source": [
    "# Model Training and Validation"
   ]
  },
  {
   "cell_type": "code",
   "execution_count": 234,
   "id": "ce4ad8f7",
   "metadata": {},
   "outputs": [],
   "source": [
    "X = data[['bestQualiTime', 'surname', 'name_constructor']]\n",
    "y = data['fastestLapTime']\n",
    "\n",
    "X_train, X_test, y_train, y_test = train_test_split(X, y, random_state=42)"
   ]
  },
  {
   "cell_type": "code",
   "execution_count": 235,
   "id": "71116c21",
   "metadata": {},
   "outputs": [],
   "source": [
    "# TODO: print performance, and model analysis"
   ]
  },
  {
   "cell_type": "code",
   "execution_count": 236,
   "id": "ff178a04",
   "metadata": {},
   "outputs": [
    {
     "data": {
      "text/plain": [
       "0.8343455672639493"
      ]
     },
     "execution_count": 236,
     "metadata": {},
     "output_type": "execute_result"
    }
   ],
   "source": [
    "model = Pipeline([\n",
    "    ('preproc', ColumnTransformer([\n",
    "        ('numeric', Pipeline([\n",
    "            ('scaler', StandardScaler()),\n",
    "            ('poly', PolynomialFeatures(include_bias=False))\n",
    "        ]), numeric_vars),\n",
    "        ('categorical', OneHotEncoder(), categorical_vars)\n",
    "    ])),\n",
    "    ('regr', Ridge())\n",
    "])\n",
    "\n",
    "model.fit(X_train, y_train)\n",
    "model.score(X_test, y_test)"
   ]
  },
  {
   "cell_type": "code",
   "execution_count": 237,
   "id": "84bbd1fe",
   "metadata": {},
   "outputs": [
    {
     "data": {
      "text/plain": [
       "0.8681740234266662"
      ]
     },
     "execution_count": 237,
     "metadata": {},
     "output_type": "execute_result"
    }
   ],
   "source": [
    "model = Pipeline([\n",
    "    ('preproc', ColumnTransformer([\n",
    "        ('numeric', StandardScaler(), numeric_vars),\n",
    "        ('categorical', OneHotEncoder(), categorical_vars)\n",
    "    ])),\n",
    "    ('regr', DecisionTreeRegressor(max_depth=4))\n",
    "])\n",
    "\n",
    "model.fit(X_train, y_train)\n",
    "model.score(X_test, y_test)"
   ]
  },
  {
   "cell_type": "code",
   "execution_count": 238,
   "id": "4c147c0c",
   "metadata": {},
   "outputs": [
    {
     "data": {
      "image/png": "[encoded data removed]",
      "text/plain": [
       "<Figure size 2500x1400 with 1 Axes>"
      ]
     },
     "metadata": {},
     "output_type": "display_data"
    }
   ],
   "source": [
    "from sklearn.tree import plot_tree\n",
    "\n",
    "plt.figure(figsize=(25, 14))\n",
    "plot_tree(model['regr'], max_depth=2);"
   ]
  },
  {
   "cell_type": "code",
   "execution_count": 245,
   "id": "6dc12609",
   "metadata": {},
   "outputs": [
    {
     "data": {
      "text/plain": [
       "0.8569013320246696"
      ]
     },
     "execution_count": 245,
     "metadata": {},
     "output_type": "execute_result"
    }
   ],
   "source": [
    "model = Pipeline([\n",
    "    ('preproc', ColumnTransformer([\n",
    "        ('numeric', Pipeline([\n",
    "            ('scaler', StandardScaler()),\n",
    "            ('poly', PolynomialFeatures(include_bias=False))\n",
    "        ]), numeric_vars),\n",
    "        ('categorical', OneHotEncoder(handle_unknown='ignore'), categorical_vars)\n",
    "    ])),\n",
    "    ('regr', Ridge())\n",
    "])\n",
    "\n",
    "grid = {\n",
    "    'preproc__numeric__scaler': ['passthrough', StandardScaler()],\n",
    "    \"preproc__numeric__poly__degree\": np.arange(1, 5),\n",
    "    'regr__alpha': [0.01, 0.1, 1]\n",
    "}\n",
    "\n",
    "kf = KFold(3, shuffle=True, random_state=42)\n",
    "\n",
    "gs = GridSearchCV(model, grid, cv=kf)\n",
    "gs.fit(X_train, y_train)\n",
    "gs.score(X_test, y_test)"
   ]
  },
  {
   "cell_type": "code",
   "execution_count": 246,
   "id": "ef5c0d8c",
   "metadata": {},
   "outputs": [
    {
     "data": {
      "text/plain": [
       "{'preproc__numeric__poly__degree': 4,\n",
       " 'preproc__numeric__scaler': 'passthrough',\n",
       " 'regr__alpha': 0.01}"
      ]
     },
     "execution_count": 246,
     "metadata": {},
     "output_type": "execute_result"
    }
   ],
   "source": [
    "gs.best_params_"
   ]
  }
 ],
 "metadata": {
  "kernelspec": {
   "display_name": "ai",
   "language": "python",
   "name": "python3"
  },
  "language_info": {
   "codemirror_mode": {
    "name": "ipython",
    "version": 3
   },
   "file_extension": ".py",
   "mimetype": "text/x-python",
   "name": "python",
   "nbconvert_exporter": "python",
   "pygments_lexer": "ipython3",
   "version": "3.12.10"
  }
 },
 "nbformat": 4,
 "nbformat_minor": 5
}
