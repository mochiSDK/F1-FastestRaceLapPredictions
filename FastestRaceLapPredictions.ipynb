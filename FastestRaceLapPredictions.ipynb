{
 "cells": [
  {
   "cell_type": "markdown",
   "id": "6e1ed3bb",
   "metadata": {},
   "source": [
    "# F1 Fastest Race Lap Predictions"
   ]
  },
  {
   "cell_type": "code",
   "execution_count": 1,
   "id": "ff488ff1",
   "metadata": {},
   "outputs": [],
   "source": [
    "import numpy as np\n",
    "import pandas as pd\n",
    "import matplotlib.pyplot as plt\n",
    "from sklearn.model_selection import train_test_split\n",
    "%matplotlib inline"
   ]
  },
  {
   "cell_type": "code",
   "execution_count": 2,
   "id": "bc34bbcd",
   "metadata": {},
   "outputs": [
    {
     "name": "stdout",
     "output_type": "stream",
     "text": [
      "Warning: Looks like you're using an outdated `kagglehub` version (installed: 0.3.8), please consider upgrading to the latest version (0.3.12).\n",
      "Warning: Looks like you're using an outdated `kagglehub` version (installed: 0.3.8), please consider upgrading to the latest version (0.3.12).\n",
      "Warning: Looks like you're using an outdated `kagglehub` version (installed: 0.3.8), please consider upgrading to the latest version (0.3.12).\n",
      "Path to dataset files:\n",
      "/home/sofi/.cache/kagglehub/datasets/rohanrao/formula-1-world-championship-1950-2020/versions/24/races.csv\n",
      "/home/sofi/.cache/kagglehub/datasets/rohanrao/formula-1-world-championship-1950-2020/versions/24/qualifying.csv\n",
      "/home/sofi/.cache/kagglehub/datasets/rohanrao/formula-1-world-championship-1950-2020/versions/24/results.csv\n"
     ]
    }
   ],
   "source": [
    "import kagglehub\n",
    "\n",
    "quali_path = kagglehub.dataset_download(\n",
    "    \"rohanrao/formula-1-world-championship-1950-2020\",\n",
    "    path='qualifying.csv'\n",
    ")\n",
    "races_path = kagglehub.dataset_download(\n",
    "    \"rohanrao/formula-1-world-championship-1950-2020\",\n",
    "    path='races.csv'\n",
    ")\n",
    "results_path = kagglehub.dataset_download(\n",
    "    \"rohanrao/formula-1-world-championship-1950-2020\",\n",
    "    path='results.csv'\n",
    ")\n",
    "\n",
    "print(\"Path to dataset files:\", races_path, quali_path, results_path, sep='\\n')"
   ]
  },
  {
   "cell_type": "markdown",
   "id": "09c6fd56",
   "metadata": {},
   "source": [
    "## Dataframe Creation"
   ]
  },
  {
   "cell_type": "code",
   "execution_count": 3,
   "id": "e9041a14",
   "metadata": {},
   "outputs": [
    {
     "data": {
      "application/vnd.microsoft.datawrangler.viewer.v0+json": {
       "columns": [
        {
         "name": "qualifyId",
         "rawType": "int64",
         "type": "integer"
        },
        {
         "name": "raceId",
         "rawType": "int64",
         "type": "integer"
        },
        {
         "name": "driverId",
         "rawType": "int64",
         "type": "integer"
        },
        {
         "name": "constructorId",
         "rawType": "int64",
         "type": "integer"
        },
        {
         "name": "number",
         "rawType": "int64",
         "type": "integer"
        },
        {
         "name": "position",
         "rawType": "int64",
         "type": "integer"
        },
        {
         "name": "q1",
         "rawType": "object",
         "type": "string"
        },
        {
         "name": "q2",
         "rawType": "object",
         "type": "string"
        },
        {
         "name": "q3",
         "rawType": "object",
         "type": "string"
        }
       ],
       "ref": "265461f1-69f6-4164-965f-37699e53bcd4",
       "rows": [
        [
         "1",
         "18",
         "1",
         "1",
         "22",
         "1",
         "1:26.572",
         "1:25.187",
         "1:26.714"
        ],
        [
         "2",
         "18",
         "9",
         "2",
         "4",
         "2",
         "1:26.103",
         "1:25.315",
         "1:26.869"
        ],
        [
         "3",
         "18",
         "5",
         "1",
         "23",
         "3",
         "1:25.664",
         "1:25.452",
         "1:27.079"
        ],
        [
         "4",
         "18",
         "13",
         "6",
         "2",
         "4",
         "1:25.994",
         "1:25.691",
         "1:27.178"
        ],
        [
         "5",
         "18",
         "2",
         "2",
         "3",
         "5",
         "1:25.960",
         "1:25.518",
         "1:27.236"
        ]
       ],
       "shape": {
        "columns": 8,
        "rows": 5
       }
      },
      "text/html": [
       "<div>\n",
       "<style scoped>\n",
       "    .dataframe tbody tr th:only-of-type {\n",
       "        vertical-align: middle;\n",
       "    }\n",
       "\n",
       "    .dataframe tbody tr th {\n",
       "        vertical-align: top;\n",
       "    }\n",
       "\n",
       "    .dataframe thead th {\n",
       "        text-align: right;\n",
       "    }\n",
       "</style>\n",
       "<table border=\"1\" class=\"dataframe\">\n",
       "  <thead>\n",
       "    <tr style=\"text-align: right;\">\n",
       "      <th></th>\n",
       "      <th>raceId</th>\n",
       "      <th>driverId</th>\n",
       "      <th>constructorId</th>\n",
       "      <th>number</th>\n",
       "      <th>position</th>\n",
       "      <th>q1</th>\n",
       "      <th>q2</th>\n",
       "      <th>q3</th>\n",
       "    </tr>\n",
       "    <tr>\n",
       "      <th>qualifyId</th>\n",
       "      <th></th>\n",
       "      <th></th>\n",
       "      <th></th>\n",
       "      <th></th>\n",
       "      <th></th>\n",
       "      <th></th>\n",
       "      <th></th>\n",
       "      <th></th>\n",
       "    </tr>\n",
       "  </thead>\n",
       "  <tbody>\n",
       "    <tr>\n",
       "      <th>1</th>\n",
       "      <td>18</td>\n",
       "      <td>1</td>\n",
       "      <td>1</td>\n",
       "      <td>22</td>\n",
       "      <td>1</td>\n",
       "      <td>1:26.572</td>\n",
       "      <td>1:25.187</td>\n",
       "      <td>1:26.714</td>\n",
       "    </tr>\n",
       "    <tr>\n",
       "      <th>2</th>\n",
       "      <td>18</td>\n",
       "      <td>9</td>\n",
       "      <td>2</td>\n",
       "      <td>4</td>\n",
       "      <td>2</td>\n",
       "      <td>1:26.103</td>\n",
       "      <td>1:25.315</td>\n",
       "      <td>1:26.869</td>\n",
       "    </tr>\n",
       "    <tr>\n",
       "      <th>3</th>\n",
       "      <td>18</td>\n",
       "      <td>5</td>\n",
       "      <td>1</td>\n",
       "      <td>23</td>\n",
       "      <td>3</td>\n",
       "      <td>1:25.664</td>\n",
       "      <td>1:25.452</td>\n",
       "      <td>1:27.079</td>\n",
       "    </tr>\n",
       "    <tr>\n",
       "      <th>4</th>\n",
       "      <td>18</td>\n",
       "      <td>13</td>\n",
       "      <td>6</td>\n",
       "      <td>2</td>\n",
       "      <td>4</td>\n",
       "      <td>1:25.994</td>\n",
       "      <td>1:25.691</td>\n",
       "      <td>1:27.178</td>\n",
       "    </tr>\n",
       "    <tr>\n",
       "      <th>5</th>\n",
       "      <td>18</td>\n",
       "      <td>2</td>\n",
       "      <td>2</td>\n",
       "      <td>3</td>\n",
       "      <td>5</td>\n",
       "      <td>1:25.960</td>\n",
       "      <td>1:25.518</td>\n",
       "      <td>1:27.236</td>\n",
       "    </tr>\n",
       "  </tbody>\n",
       "</table>\n",
       "</div>"
      ],
      "text/plain": [
       "           raceId  driverId  constructorId  number  position        q1  \\\n",
       "qualifyId                                                                \n",
       "1              18         1              1      22         1  1:26.572   \n",
       "2              18         9              2       4         2  1:26.103   \n",
       "3              18         5              1      23         3  1:25.664   \n",
       "4              18        13              6       2         4  1:25.994   \n",
       "5              18         2              2       3         5  1:25.960   \n",
       "\n",
       "                 q2        q3  \n",
       "qualifyId                      \n",
       "1          1:25.187  1:26.714  \n",
       "2          1:25.315  1:26.869  \n",
       "3          1:25.452  1:27.079  \n",
       "4          1:25.691  1:27.178  \n",
       "5          1:25.518  1:27.236  "
      ]
     },
     "execution_count": 3,
     "metadata": {},
     "output_type": "execute_result"
    }
   ],
   "source": [
    "quali = pd.read_csv(\n",
    "    quali_path,\n",
    "    index_col='qualifyId',\n",
    "    na_values='\\\\N'\n",
    ")\n",
    "quali.head(5)"
   ]
  },
  {
   "cell_type": "code",
   "execution_count": 4,
   "id": "53ac4721",
   "metadata": {},
   "outputs": [
    {
     "data": {
      "application/vnd.microsoft.datawrangler.viewer.v0+json": {
       "columns": [
        {
         "name": "raceId",
         "rawType": "int64",
         "type": "integer"
        },
        {
         "name": "year",
         "rawType": "int64",
         "type": "integer"
        },
        {
         "name": "round",
         "rawType": "int64",
         "type": "integer"
        },
        {
         "name": "circuitId",
         "rawType": "int64",
         "type": "integer"
        },
        {
         "name": "name",
         "rawType": "object",
         "type": "string"
        },
        {
         "name": "date",
         "rawType": "datetime64[ns]",
         "type": "datetime"
        },
        {
         "name": "time",
         "rawType": "object",
         "type": "string"
        },
        {
         "name": "url",
         "rawType": "object",
         "type": "string"
        },
        {
         "name": "fp1_date",
         "rawType": "object",
         "type": "unknown"
        },
        {
         "name": "fp1_time",
         "rawType": "object",
         "type": "unknown"
        },
        {
         "name": "fp2_date",
         "rawType": "object",
         "type": "unknown"
        },
        {
         "name": "fp2_time",
         "rawType": "object",
         "type": "unknown"
        },
        {
         "name": "fp3_date",
         "rawType": "object",
         "type": "unknown"
        },
        {
         "name": "fp3_time",
         "rawType": "object",
         "type": "unknown"
        },
        {
         "name": "quali_date",
         "rawType": "object",
         "type": "unknown"
        },
        {
         "name": "quali_time",
         "rawType": "object",
         "type": "unknown"
        },
        {
         "name": "sprint_date",
         "rawType": "object",
         "type": "unknown"
        },
        {
         "name": "sprint_time",
         "rawType": "object",
         "type": "unknown"
        }
       ],
       "ref": "baa6a884-2776-4906-aaba-f758cc9f1015",
       "rows": [
        [
         "1",
         "2009",
         "1",
         "1",
         "Australian Grand Prix",
         "2009-03-29 00:00:00",
         "06:00:00",
         "http://en.wikipedia.org/wiki/2009_Australian_Grand_Prix",
         null,
         null,
         null,
         null,
         null,
         null,
         null,
         null,
         null,
         null
        ],
        [
         "2",
         "2009",
         "2",
         "2",
         "Malaysian Grand Prix",
         "2009-04-05 00:00:00",
         "09:00:00",
         "http://en.wikipedia.org/wiki/2009_Malaysian_Grand_Prix",
         null,
         null,
         null,
         null,
         null,
         null,
         null,
         null,
         null,
         null
        ],
        [
         "3",
         "2009",
         "3",
         "17",
         "Chinese Grand Prix",
         "2009-04-19 00:00:00",
         "07:00:00",
         "http://en.wikipedia.org/wiki/2009_Chinese_Grand_Prix",
         null,
         null,
         null,
         null,
         null,
         null,
         null,
         null,
         null,
         null
        ],
        [
         "4",
         "2009",
         "4",
         "3",
         "Bahrain Grand Prix",
         "2009-04-26 00:00:00",
         "12:00:00",
         "http://en.wikipedia.org/wiki/2009_Bahrain_Grand_Prix",
         null,
         null,
         null,
         null,
         null,
         null,
         null,
         null,
         null,
         null
        ],
        [
         "5",
         "2009",
         "5",
         "4",
         "Spanish Grand Prix",
         "2009-05-10 00:00:00",
         "12:00:00",
         "http://en.wikipedia.org/wiki/2009_Spanish_Grand_Prix",
         null,
         null,
         null,
         null,
         null,
         null,
         null,
         null,
         null,
         null
        ]
       ],
       "shape": {
        "columns": 17,
        "rows": 5
       }
      },
      "text/html": [
       "<div>\n",
       "<style scoped>\n",
       "    .dataframe tbody tr th:only-of-type {\n",
       "        vertical-align: middle;\n",
       "    }\n",
       "\n",
       "    .dataframe tbody tr th {\n",
       "        vertical-align: top;\n",
       "    }\n",
       "\n",
       "    .dataframe thead th {\n",
       "        text-align: right;\n",
       "    }\n",
       "</style>\n",
       "<table border=\"1\" class=\"dataframe\">\n",
       "  <thead>\n",
       "    <tr style=\"text-align: right;\">\n",
       "      <th></th>\n",
       "      <th>year</th>\n",
       "      <th>round</th>\n",
       "      <th>circuitId</th>\n",
       "      <th>name</th>\n",
       "      <th>date</th>\n",
       "      <th>time</th>\n",
       "      <th>url</th>\n",
       "      <th>fp1_date</th>\n",
       "      <th>fp1_time</th>\n",
       "      <th>fp2_date</th>\n",
       "      <th>fp2_time</th>\n",
       "      <th>fp3_date</th>\n",
       "      <th>fp3_time</th>\n",
       "      <th>quali_date</th>\n",
       "      <th>quali_time</th>\n",
       "      <th>sprint_date</th>\n",
       "      <th>sprint_time</th>\n",
       "    </tr>\n",
       "    <tr>\n",
       "      <th>raceId</th>\n",
       "      <th></th>\n",
       "      <th></th>\n",
       "      <th></th>\n",
       "      <th></th>\n",
       "      <th></th>\n",
       "      <th></th>\n",
       "      <th></th>\n",
       "      <th></th>\n",
       "      <th></th>\n",
       "      <th></th>\n",
       "      <th></th>\n",
       "      <th></th>\n",
       "      <th></th>\n",
       "      <th></th>\n",
       "      <th></th>\n",
       "      <th></th>\n",
       "      <th></th>\n",
       "    </tr>\n",
       "  </thead>\n",
       "  <tbody>\n",
       "    <tr>\n",
       "      <th>1</th>\n",
       "      <td>2009</td>\n",
       "      <td>1</td>\n",
       "      <td>1</td>\n",
       "      <td>Australian Grand Prix</td>\n",
       "      <td>2009-03-29</td>\n",
       "      <td>06:00:00</td>\n",
       "      <td>http://en.wikipedia.org/wiki/2009_Australian_G...</td>\n",
       "      <td>NaN</td>\n",
       "      <td>NaN</td>\n",
       "      <td>NaN</td>\n",
       "      <td>NaN</td>\n",
       "      <td>NaN</td>\n",
       "      <td>NaN</td>\n",
       "      <td>NaN</td>\n",
       "      <td>NaN</td>\n",
       "      <td>NaN</td>\n",
       "      <td>NaN</td>\n",
       "    </tr>\n",
       "    <tr>\n",
       "      <th>2</th>\n",
       "      <td>2009</td>\n",
       "      <td>2</td>\n",
       "      <td>2</td>\n",
       "      <td>Malaysian Grand Prix</td>\n",
       "      <td>2009-04-05</td>\n",
       "      <td>09:00:00</td>\n",
       "      <td>http://en.wikipedia.org/wiki/2009_Malaysian_Gr...</td>\n",
       "      <td>NaN</td>\n",
       "      <td>NaN</td>\n",
       "      <td>NaN</td>\n",
       "      <td>NaN</td>\n",
       "      <td>NaN</td>\n",
       "      <td>NaN</td>\n",
       "      <td>NaN</td>\n",
       "      <td>NaN</td>\n",
       "      <td>NaN</td>\n",
       "      <td>NaN</td>\n",
       "    </tr>\n",
       "    <tr>\n",
       "      <th>3</th>\n",
       "      <td>2009</td>\n",
       "      <td>3</td>\n",
       "      <td>17</td>\n",
       "      <td>Chinese Grand Prix</td>\n",
       "      <td>2009-04-19</td>\n",
       "      <td>07:00:00</td>\n",
       "      <td>http://en.wikipedia.org/wiki/2009_Chinese_Gran...</td>\n",
       "      <td>NaN</td>\n",
       "      <td>NaN</td>\n",
       "      <td>NaN</td>\n",
       "      <td>NaN</td>\n",
       "      <td>NaN</td>\n",
       "      <td>NaN</td>\n",
       "      <td>NaN</td>\n",
       "      <td>NaN</td>\n",
       "      <td>NaN</td>\n",
       "      <td>NaN</td>\n",
       "    </tr>\n",
       "    <tr>\n",
       "      <th>4</th>\n",
       "      <td>2009</td>\n",
       "      <td>4</td>\n",
       "      <td>3</td>\n",
       "      <td>Bahrain Grand Prix</td>\n",
       "      <td>2009-04-26</td>\n",
       "      <td>12:00:00</td>\n",
       "      <td>http://en.wikipedia.org/wiki/2009_Bahrain_Gran...</td>\n",
       "      <td>NaN</td>\n",
       "      <td>NaN</td>\n",
       "      <td>NaN</td>\n",
       "      <td>NaN</td>\n",
       "      <td>NaN</td>\n",
       "      <td>NaN</td>\n",
       "      <td>NaN</td>\n",
       "      <td>NaN</td>\n",
       "      <td>NaN</td>\n",
       "      <td>NaN</td>\n",
       "    </tr>\n",
       "    <tr>\n",
       "      <th>5</th>\n",
       "      <td>2009</td>\n",
       "      <td>5</td>\n",
       "      <td>4</td>\n",
       "      <td>Spanish Grand Prix</td>\n",
       "      <td>2009-05-10</td>\n",
       "      <td>12:00:00</td>\n",
       "      <td>http://en.wikipedia.org/wiki/2009_Spanish_Gran...</td>\n",
       "      <td>NaN</td>\n",
       "      <td>NaN</td>\n",
       "      <td>NaN</td>\n",
       "      <td>NaN</td>\n",
       "      <td>NaN</td>\n",
       "      <td>NaN</td>\n",
       "      <td>NaN</td>\n",
       "      <td>NaN</td>\n",
       "      <td>NaN</td>\n",
       "      <td>NaN</td>\n",
       "    </tr>\n",
       "  </tbody>\n",
       "</table>\n",
       "</div>"
      ],
      "text/plain": [
       "        year  round  circuitId                   name       date      time  \\\n",
       "raceId                                                                       \n",
       "1       2009      1          1  Australian Grand Prix 2009-03-29  06:00:00   \n",
       "2       2009      2          2   Malaysian Grand Prix 2009-04-05  09:00:00   \n",
       "3       2009      3         17     Chinese Grand Prix 2009-04-19  07:00:00   \n",
       "4       2009      4          3     Bahrain Grand Prix 2009-04-26  12:00:00   \n",
       "5       2009      5          4     Spanish Grand Prix 2009-05-10  12:00:00   \n",
       "\n",
       "                                                      url fp1_date fp1_time  \\\n",
       "raceId                                                                        \n",
       "1       http://en.wikipedia.org/wiki/2009_Australian_G...      NaN      NaN   \n",
       "2       http://en.wikipedia.org/wiki/2009_Malaysian_Gr...      NaN      NaN   \n",
       "3       http://en.wikipedia.org/wiki/2009_Chinese_Gran...      NaN      NaN   \n",
       "4       http://en.wikipedia.org/wiki/2009_Bahrain_Gran...      NaN      NaN   \n",
       "5       http://en.wikipedia.org/wiki/2009_Spanish_Gran...      NaN      NaN   \n",
       "\n",
       "       fp2_date fp2_time fp3_date fp3_time quali_date quali_time sprint_date  \\\n",
       "raceId                                                                         \n",
       "1           NaN      NaN      NaN      NaN        NaN        NaN         NaN   \n",
       "2           NaN      NaN      NaN      NaN        NaN        NaN         NaN   \n",
       "3           NaN      NaN      NaN      NaN        NaN        NaN         NaN   \n",
       "4           NaN      NaN      NaN      NaN        NaN        NaN         NaN   \n",
       "5           NaN      NaN      NaN      NaN        NaN        NaN         NaN   \n",
       "\n",
       "       sprint_time  \n",
       "raceId              \n",
       "1              NaN  \n",
       "2              NaN  \n",
       "3              NaN  \n",
       "4              NaN  \n",
       "5              NaN  "
      ]
     },
     "execution_count": 4,
     "metadata": {},
     "output_type": "execute_result"
    }
   ],
   "source": [
    "races = pd.read_csv(\n",
    "    races_path,\n",
    "    index_col='raceId',\n",
    "    parse_dates=['date'],\n",
    "    na_values='\\\\N'\n",
    ")\n",
    "races.head(5)"
   ]
  },
  {
   "cell_type": "code",
   "execution_count": 5,
   "id": "79409e2f",
   "metadata": {},
   "outputs": [
    {
     "data": {
      "application/vnd.microsoft.datawrangler.viewer.v0+json": {
       "columns": [
        {
         "name": "resultId",
         "rawType": "int64",
         "type": "integer"
        },
        {
         "name": "raceId",
         "rawType": "int64",
         "type": "integer"
        },
        {
         "name": "driverId",
         "rawType": "int64",
         "type": "integer"
        },
        {
         "name": "constructorId",
         "rawType": "int64",
         "type": "integer"
        },
        {
         "name": "number",
         "rawType": "float64",
         "type": "float"
        },
        {
         "name": "grid",
         "rawType": "int64",
         "type": "integer"
        },
        {
         "name": "position",
         "rawType": "float64",
         "type": "float"
        },
        {
         "name": "positionText",
         "rawType": "object",
         "type": "string"
        },
        {
         "name": "positionOrder",
         "rawType": "int64",
         "type": "integer"
        },
        {
         "name": "points",
         "rawType": "float64",
         "type": "float"
        },
        {
         "name": "laps",
         "rawType": "int64",
         "type": "integer"
        },
        {
         "name": "time",
         "rawType": "object",
         "type": "string"
        },
        {
         "name": "milliseconds",
         "rawType": "float64",
         "type": "float"
        },
        {
         "name": "fastestLap",
         "rawType": "float64",
         "type": "float"
        },
        {
         "name": "rank",
         "rawType": "float64",
         "type": "float"
        },
        {
         "name": "fastestLapTime",
         "rawType": "object",
         "type": "string"
        },
        {
         "name": "fastestLapSpeed",
         "rawType": "float64",
         "type": "float"
        },
        {
         "name": "statusId",
         "rawType": "int64",
         "type": "integer"
        }
       ],
       "ref": "e7d765ce-e57f-4d32-8876-acefb582e7be",
       "rows": [
        [
         "1",
         "18",
         "1",
         "1",
         "22.0",
         "1",
         "1.0",
         "1",
         "1",
         "10.0",
         "58",
         "1:34:50.616",
         "5690616.0",
         "39.0",
         "2.0",
         "1:27.452",
         "218.3",
         "1"
        ],
        [
         "2",
         "18",
         "2",
         "2",
         "3.0",
         "5",
         "2.0",
         "2",
         "2",
         "8.0",
         "58",
         "+5.478",
         "5696094.0",
         "41.0",
         "3.0",
         "1:27.739",
         "217.586",
         "1"
        ],
        [
         "3",
         "18",
         "3",
         "3",
         "7.0",
         "7",
         "3.0",
         "3",
         "3",
         "6.0",
         "58",
         "+8.163",
         "5698779.0",
         "41.0",
         "5.0",
         "1:28.090",
         "216.719",
         "1"
        ],
        [
         "4",
         "18",
         "4",
         "4",
         "5.0",
         "11",
         "4.0",
         "4",
         "4",
         "5.0",
         "58",
         "+17.181",
         "5707797.0",
         "58.0",
         "7.0",
         "1:28.603",
         "215.464",
         "1"
        ],
        [
         "5",
         "18",
         "5",
         "1",
         "23.0",
         "3",
         "5.0",
         "5",
         "5",
         "4.0",
         "58",
         "+18.014",
         "5708630.0",
         "43.0",
         "1.0",
         "1:27.418",
         "218.385",
         "1"
        ]
       ],
       "shape": {
        "columns": 17,
        "rows": 5
       }
      },
      "text/html": [
       "<div>\n",
       "<style scoped>\n",
       "    .dataframe tbody tr th:only-of-type {\n",
       "        vertical-align: middle;\n",
       "    }\n",
       "\n",
       "    .dataframe tbody tr th {\n",
       "        vertical-align: top;\n",
       "    }\n",
       "\n",
       "    .dataframe thead th {\n",
       "        text-align: right;\n",
       "    }\n",
       "</style>\n",
       "<table border=\"1\" class=\"dataframe\">\n",
       "  <thead>\n",
       "    <tr style=\"text-align: right;\">\n",
       "      <th></th>\n",
       "      <th>raceId</th>\n",
       "      <th>driverId</th>\n",
       "      <th>constructorId</th>\n",
       "      <th>number</th>\n",
       "      <th>grid</th>\n",
       "      <th>position</th>\n",
       "      <th>positionText</th>\n",
       "      <th>positionOrder</th>\n",
       "      <th>points</th>\n",
       "      <th>laps</th>\n",
       "      <th>time</th>\n",
       "      <th>milliseconds</th>\n",
       "      <th>fastestLap</th>\n",
       "      <th>rank</th>\n",
       "      <th>fastestLapTime</th>\n",
       "      <th>fastestLapSpeed</th>\n",
       "      <th>statusId</th>\n",
       "    </tr>\n",
       "    <tr>\n",
       "      <th>resultId</th>\n",
       "      <th></th>\n",
       "      <th></th>\n",
       "      <th></th>\n",
       "      <th></th>\n",
       "      <th></th>\n",
       "      <th></th>\n",
       "      <th></th>\n",
       "      <th></th>\n",
       "      <th></th>\n",
       "      <th></th>\n",
       "      <th></th>\n",
       "      <th></th>\n",
       "      <th></th>\n",
       "      <th></th>\n",
       "      <th></th>\n",
       "      <th></th>\n",
       "      <th></th>\n",
       "    </tr>\n",
       "  </thead>\n",
       "  <tbody>\n",
       "    <tr>\n",
       "      <th>1</th>\n",
       "      <td>18</td>\n",
       "      <td>1</td>\n",
       "      <td>1</td>\n",
       "      <td>22.0</td>\n",
       "      <td>1</td>\n",
       "      <td>1.0</td>\n",
       "      <td>1</td>\n",
       "      <td>1</td>\n",
       "      <td>10.0</td>\n",
       "      <td>58</td>\n",
       "      <td>1:34:50.616</td>\n",
       "      <td>5690616.0</td>\n",
       "      <td>39.0</td>\n",
       "      <td>2.0</td>\n",
       "      <td>1:27.452</td>\n",
       "      <td>218.300</td>\n",
       "      <td>1</td>\n",
       "    </tr>\n",
       "    <tr>\n",
       "      <th>2</th>\n",
       "      <td>18</td>\n",
       "      <td>2</td>\n",
       "      <td>2</td>\n",
       "      <td>3.0</td>\n",
       "      <td>5</td>\n",
       "      <td>2.0</td>\n",
       "      <td>2</td>\n",
       "      <td>2</td>\n",
       "      <td>8.0</td>\n",
       "      <td>58</td>\n",
       "      <td>+5.478</td>\n",
       "      <td>5696094.0</td>\n",
       "      <td>41.0</td>\n",
       "      <td>3.0</td>\n",
       "      <td>1:27.739</td>\n",
       "      <td>217.586</td>\n",
       "      <td>1</td>\n",
       "    </tr>\n",
       "    <tr>\n",
       "      <th>3</th>\n",
       "      <td>18</td>\n",
       "      <td>3</td>\n",
       "      <td>3</td>\n",
       "      <td>7.0</td>\n",
       "      <td>7</td>\n",
       "      <td>3.0</td>\n",
       "      <td>3</td>\n",
       "      <td>3</td>\n",
       "      <td>6.0</td>\n",
       "      <td>58</td>\n",
       "      <td>+8.163</td>\n",
       "      <td>5698779.0</td>\n",
       "      <td>41.0</td>\n",
       "      <td>5.0</td>\n",
       "      <td>1:28.090</td>\n",
       "      <td>216.719</td>\n",
       "      <td>1</td>\n",
       "    </tr>\n",
       "    <tr>\n",
       "      <th>4</th>\n",
       "      <td>18</td>\n",
       "      <td>4</td>\n",
       "      <td>4</td>\n",
       "      <td>5.0</td>\n",
       "      <td>11</td>\n",
       "      <td>4.0</td>\n",
       "      <td>4</td>\n",
       "      <td>4</td>\n",
       "      <td>5.0</td>\n",
       "      <td>58</td>\n",
       "      <td>+17.181</td>\n",
       "      <td>5707797.0</td>\n",
       "      <td>58.0</td>\n",
       "      <td>7.0</td>\n",
       "      <td>1:28.603</td>\n",
       "      <td>215.464</td>\n",
       "      <td>1</td>\n",
       "    </tr>\n",
       "    <tr>\n",
       "      <th>5</th>\n",
       "      <td>18</td>\n",
       "      <td>5</td>\n",
       "      <td>1</td>\n",
       "      <td>23.0</td>\n",
       "      <td>3</td>\n",
       "      <td>5.0</td>\n",
       "      <td>5</td>\n",
       "      <td>5</td>\n",
       "      <td>4.0</td>\n",
       "      <td>58</td>\n",
       "      <td>+18.014</td>\n",
       "      <td>5708630.0</td>\n",
       "      <td>43.0</td>\n",
       "      <td>1.0</td>\n",
       "      <td>1:27.418</td>\n",
       "      <td>218.385</td>\n",
       "      <td>1</td>\n",
       "    </tr>\n",
       "  </tbody>\n",
       "</table>\n",
       "</div>"
      ],
      "text/plain": [
       "          raceId  driverId  constructorId  number  grid  position  \\\n",
       "resultId                                                            \n",
       "1             18         1              1    22.0     1       1.0   \n",
       "2             18         2              2     3.0     5       2.0   \n",
       "3             18         3              3     7.0     7       3.0   \n",
       "4             18         4              4     5.0    11       4.0   \n",
       "5             18         5              1    23.0     3       5.0   \n",
       "\n",
       "         positionText  positionOrder  points  laps         time  milliseconds  \\\n",
       "resultId                                                                        \n",
       "1                   1              1    10.0    58  1:34:50.616     5690616.0   \n",
       "2                   2              2     8.0    58       +5.478     5696094.0   \n",
       "3                   3              3     6.0    58       +8.163     5698779.0   \n",
       "4                   4              4     5.0    58      +17.181     5707797.0   \n",
       "5                   5              5     4.0    58      +18.014     5708630.0   \n",
       "\n",
       "          fastestLap  rank fastestLapTime  fastestLapSpeed  statusId  \n",
       "resultId                                                              \n",
       "1               39.0   2.0       1:27.452          218.300         1  \n",
       "2               41.0   3.0       1:27.739          217.586         1  \n",
       "3               41.0   5.0       1:28.090          216.719         1  \n",
       "4               58.0   7.0       1:28.603          215.464         1  \n",
       "5               43.0   1.0       1:27.418          218.385         1  "
      ]
     },
     "execution_count": 5,
     "metadata": {},
     "output_type": "execute_result"
    }
   ],
   "source": [
    "race_results = pd.read_csv(\n",
    "    results_path,\n",
    "    index_col='resultId',\n",
    "    na_values='\\\\N'\n",
    ")\n",
    "race_results.head(5)"
   ]
  },
  {
   "cell_type": "markdown",
   "id": "75343ad4",
   "metadata": {},
   "source": [
    "## 2024 Season Data"
   ]
  },
  {
   "cell_type": "code",
   "execution_count": 6,
   "id": "cf72543d",
   "metadata": {},
   "outputs": [
    {
     "data": {
      "application/vnd.microsoft.datawrangler.viewer.v0+json": {
       "columns": [
        {
         "name": "raceId",
         "rawType": "int64",
         "type": "integer"
        },
        {
         "name": "year",
         "rawType": "int64",
         "type": "integer"
        },
        {
         "name": "round",
         "rawType": "int64",
         "type": "integer"
        },
        {
         "name": "circuitId",
         "rawType": "int64",
         "type": "integer"
        },
        {
         "name": "name",
         "rawType": "object",
         "type": "string"
        },
        {
         "name": "date",
         "rawType": "datetime64[ns]",
         "type": "datetime"
        },
        {
         "name": "time",
         "rawType": "object",
         "type": "string"
        },
        {
         "name": "url",
         "rawType": "object",
         "type": "string"
        },
        {
         "name": "fp1_date",
         "rawType": "object",
         "type": "string"
        },
        {
         "name": "fp1_time",
         "rawType": "object",
         "type": "string"
        },
        {
         "name": "fp2_date",
         "rawType": "object",
         "type": "string"
        },
        {
         "name": "fp2_time",
         "rawType": "object",
         "type": "string"
        },
        {
         "name": "fp3_date",
         "rawType": "object",
         "type": "unknown"
        },
        {
         "name": "fp3_time",
         "rawType": "object",
         "type": "unknown"
        },
        {
         "name": "quali_date",
         "rawType": "object",
         "type": "string"
        },
        {
         "name": "quali_time",
         "rawType": "object",
         "type": "string"
        },
        {
         "name": "sprint_date",
         "rawType": "object",
         "type": "unknown"
        },
        {
         "name": "sprint_time",
         "rawType": "object",
         "type": "unknown"
        }
       ],
       "ref": "ed40c7dd-5704-45df-ac4b-524c5feadc98",
       "rows": [
        [
         "1121",
         "2024",
         "1",
         "3",
         "Bahrain Grand Prix",
         "2024-03-02 00:00:00",
         "15:00:00",
         "https://en.wikipedia.org/wiki/2024_Bahrain_Grand_Prix",
         "2024-02-29",
         "11:30:00",
         "2024-02-29",
         "15:00:00",
         "2024-03-01",
         "12:30:00",
         "2024-03-01",
         "16:00:00",
         null,
         null
        ],
        [
         "1122",
         "2024",
         "2",
         "77",
         "Saudi Arabian Grand Prix",
         "2024-03-09 00:00:00",
         "17:00:00",
         "https://en.wikipedia.org/wiki/2024_Saudi_Arabian_Grand_Prix",
         "2024-03-07",
         "13:30:00",
         "2024-03-07",
         "17:00:00",
         "2024-03-08",
         "13:30:00",
         "2024-03-08",
         "17:00:00",
         null,
         null
        ],
        [
         "1123",
         "2024",
         "3",
         "1",
         "Australian Grand Prix",
         "2024-03-24 00:00:00",
         "04:00:00",
         "https://en.wikipedia.org/wiki/2024_Australian_Grand_Prix",
         "2024-03-22",
         "01:30:00",
         "2024-03-22",
         "05:00:00",
         "2024-03-23",
         "01:30:00",
         "2024-03-23",
         "05:00:00",
         null,
         null
        ],
        [
         "1124",
         "2024",
         "4",
         "22",
         "Japanese Grand Prix",
         "2024-04-07 00:00:00",
         "05:00:00",
         "https://en.wikipedia.org/wiki/2024_Japanese_Grand_Prix",
         "2024-04-05",
         "02:30:00",
         "2024-04-05",
         "06:00:00",
         "2024-04-06",
         "02:30:00",
         "2024-04-06",
         "06:00:00",
         null,
         null
        ],
        [
         "1125",
         "2024",
         "5",
         "17",
         "Chinese Grand Prix",
         "2024-04-21 00:00:00",
         "07:00:00",
         "https://en.wikipedia.org/wiki/2024_Chinese_Grand_Prix",
         "2024-04-19",
         "03:30:00",
         "2024-04-19",
         "07:30:00",
         null,
         null,
         "2024-04-20",
         "07:00:00",
         "2024-04-20",
         "03:00:00"
        ]
       ],
       "shape": {
        "columns": 17,
        "rows": 5
       }
      },
      "text/html": [
       "<div>\n",
       "<style scoped>\n",
       "    .dataframe tbody tr th:only-of-type {\n",
       "        vertical-align: middle;\n",
       "    }\n",
       "\n",
       "    .dataframe tbody tr th {\n",
       "        vertical-align: top;\n",
       "    }\n",
       "\n",
       "    .dataframe thead th {\n",
       "        text-align: right;\n",
       "    }\n",
       "</style>\n",
       "<table border=\"1\" class=\"dataframe\">\n",
       "  <thead>\n",
       "    <tr style=\"text-align: right;\">\n",
       "      <th></th>\n",
       "      <th>year</th>\n",
       "      <th>round</th>\n",
       "      <th>circuitId</th>\n",
       "      <th>name</th>\n",
       "      <th>date</th>\n",
       "      <th>time</th>\n",
       "      <th>url</th>\n",
       "      <th>fp1_date</th>\n",
       "      <th>fp1_time</th>\n",
       "      <th>fp2_date</th>\n",
       "      <th>fp2_time</th>\n",
       "      <th>fp3_date</th>\n",
       "      <th>fp3_time</th>\n",
       "      <th>quali_date</th>\n",
       "      <th>quali_time</th>\n",
       "      <th>sprint_date</th>\n",
       "      <th>sprint_time</th>\n",
       "    </tr>\n",
       "    <tr>\n",
       "      <th>raceId</th>\n",
       "      <th></th>\n",
       "      <th></th>\n",
       "      <th></th>\n",
       "      <th></th>\n",
       "      <th></th>\n",
       "      <th></th>\n",
       "      <th></th>\n",
       "      <th></th>\n",
       "      <th></th>\n",
       "      <th></th>\n",
       "      <th></th>\n",
       "      <th></th>\n",
       "      <th></th>\n",
       "      <th></th>\n",
       "      <th></th>\n",
       "      <th></th>\n",
       "      <th></th>\n",
       "    </tr>\n",
       "  </thead>\n",
       "  <tbody>\n",
       "    <tr>\n",
       "      <th>1121</th>\n",
       "      <td>2024</td>\n",
       "      <td>1</td>\n",
       "      <td>3</td>\n",
       "      <td>Bahrain Grand Prix</td>\n",
       "      <td>2024-03-02</td>\n",
       "      <td>15:00:00</td>\n",
       "      <td>https://en.wikipedia.org/wiki/2024_Bahrain_Gra...</td>\n",
       "      <td>2024-02-29</td>\n",
       "      <td>11:30:00</td>\n",
       "      <td>2024-02-29</td>\n",
       "      <td>15:00:00</td>\n",
       "      <td>2024-03-01</td>\n",
       "      <td>12:30:00</td>\n",
       "      <td>2024-03-01</td>\n",
       "      <td>16:00:00</td>\n",
       "      <td>NaN</td>\n",
       "      <td>NaN</td>\n",
       "    </tr>\n",
       "    <tr>\n",
       "      <th>1122</th>\n",
       "      <td>2024</td>\n",
       "      <td>2</td>\n",
       "      <td>77</td>\n",
       "      <td>Saudi Arabian Grand Prix</td>\n",
       "      <td>2024-03-09</td>\n",
       "      <td>17:00:00</td>\n",
       "      <td>https://en.wikipedia.org/wiki/2024_Saudi_Arabi...</td>\n",
       "      <td>2024-03-07</td>\n",
       "      <td>13:30:00</td>\n",
       "      <td>2024-03-07</td>\n",
       "      <td>17:00:00</td>\n",
       "      <td>2024-03-08</td>\n",
       "      <td>13:30:00</td>\n",
       "      <td>2024-03-08</td>\n",
       "      <td>17:00:00</td>\n",
       "      <td>NaN</td>\n",
       "      <td>NaN</td>\n",
       "    </tr>\n",
       "    <tr>\n",
       "      <th>1123</th>\n",
       "      <td>2024</td>\n",
       "      <td>3</td>\n",
       "      <td>1</td>\n",
       "      <td>Australian Grand Prix</td>\n",
       "      <td>2024-03-24</td>\n",
       "      <td>04:00:00</td>\n",
       "      <td>https://en.wikipedia.org/wiki/2024_Australian_...</td>\n",
       "      <td>2024-03-22</td>\n",
       "      <td>01:30:00</td>\n",
       "      <td>2024-03-22</td>\n",
       "      <td>05:00:00</td>\n",
       "      <td>2024-03-23</td>\n",
       "      <td>01:30:00</td>\n",
       "      <td>2024-03-23</td>\n",
       "      <td>05:00:00</td>\n",
       "      <td>NaN</td>\n",
       "      <td>NaN</td>\n",
       "    </tr>\n",
       "    <tr>\n",
       "      <th>1124</th>\n",
       "      <td>2024</td>\n",
       "      <td>4</td>\n",
       "      <td>22</td>\n",
       "      <td>Japanese Grand Prix</td>\n",
       "      <td>2024-04-07</td>\n",
       "      <td>05:00:00</td>\n",
       "      <td>https://en.wikipedia.org/wiki/2024_Japanese_Gr...</td>\n",
       "      <td>2024-04-05</td>\n",
       "      <td>02:30:00</td>\n",
       "      <td>2024-04-05</td>\n",
       "      <td>06:00:00</td>\n",
       "      <td>2024-04-06</td>\n",
       "      <td>02:30:00</td>\n",
       "      <td>2024-04-06</td>\n",
       "      <td>06:00:00</td>\n",
       "      <td>NaN</td>\n",
       "      <td>NaN</td>\n",
       "    </tr>\n",
       "    <tr>\n",
       "      <th>1125</th>\n",
       "      <td>2024</td>\n",
       "      <td>5</td>\n",
       "      <td>17</td>\n",
       "      <td>Chinese Grand Prix</td>\n",
       "      <td>2024-04-21</td>\n",
       "      <td>07:00:00</td>\n",
       "      <td>https://en.wikipedia.org/wiki/2024_Chinese_Gra...</td>\n",
       "      <td>2024-04-19</td>\n",
       "      <td>03:30:00</td>\n",
       "      <td>2024-04-19</td>\n",
       "      <td>07:30:00</td>\n",
       "      <td>NaN</td>\n",
       "      <td>NaN</td>\n",
       "      <td>2024-04-20</td>\n",
       "      <td>07:00:00</td>\n",
       "      <td>2024-04-20</td>\n",
       "      <td>03:00:00</td>\n",
       "    </tr>\n",
       "  </tbody>\n",
       "</table>\n",
       "</div>"
      ],
      "text/plain": [
       "        year  round  circuitId                      name       date      time  \\\n",
       "raceId                                                                          \n",
       "1121    2024      1          3        Bahrain Grand Prix 2024-03-02  15:00:00   \n",
       "1122    2024      2         77  Saudi Arabian Grand Prix 2024-03-09  17:00:00   \n",
       "1123    2024      3          1     Australian Grand Prix 2024-03-24  04:00:00   \n",
       "1124    2024      4         22       Japanese Grand Prix 2024-04-07  05:00:00   \n",
       "1125    2024      5         17        Chinese Grand Prix 2024-04-21  07:00:00   \n",
       "\n",
       "                                                      url    fp1_date  \\\n",
       "raceId                                                                  \n",
       "1121    https://en.wikipedia.org/wiki/2024_Bahrain_Gra...  2024-02-29   \n",
       "1122    https://en.wikipedia.org/wiki/2024_Saudi_Arabi...  2024-03-07   \n",
       "1123    https://en.wikipedia.org/wiki/2024_Australian_...  2024-03-22   \n",
       "1124    https://en.wikipedia.org/wiki/2024_Japanese_Gr...  2024-04-05   \n",
       "1125    https://en.wikipedia.org/wiki/2024_Chinese_Gra...  2024-04-19   \n",
       "\n",
       "        fp1_time    fp2_date  fp2_time    fp3_date  fp3_time  quali_date  \\\n",
       "raceId                                                                     \n",
       "1121    11:30:00  2024-02-29  15:00:00  2024-03-01  12:30:00  2024-03-01   \n",
       "1122    13:30:00  2024-03-07  17:00:00  2024-03-08  13:30:00  2024-03-08   \n",
       "1123    01:30:00  2024-03-22  05:00:00  2024-03-23  01:30:00  2024-03-23   \n",
       "1124    02:30:00  2024-04-05  06:00:00  2024-04-06  02:30:00  2024-04-06   \n",
       "1125    03:30:00  2024-04-19  07:30:00         NaN       NaN  2024-04-20   \n",
       "\n",
       "       quali_time sprint_date sprint_time  \n",
       "raceId                                     \n",
       "1121     16:00:00         NaN         NaN  \n",
       "1122     17:00:00         NaN         NaN  \n",
       "1123     05:00:00         NaN         NaN  \n",
       "1124     06:00:00         NaN         NaN  \n",
       "1125     07:00:00  2024-04-20    03:00:00  "
      ]
     },
     "execution_count": 6,
     "metadata": {},
     "output_type": "execute_result"
    }
   ],
   "source": [
    "races_2024 = races.loc[races['year'] == 2024]\n",
    "races_2024.head(5)"
   ]
  },
  {
   "cell_type": "code",
   "execution_count": 7,
   "id": "1fdb3770",
   "metadata": {},
   "outputs": [
    {
     "data": {
      "application/vnd.microsoft.datawrangler.viewer.v0+json": {
       "columns": [
        {
         "name": "qualifyId",
         "rawType": "int64",
         "type": "integer"
        },
        {
         "name": "raceId",
         "rawType": "int64",
         "type": "integer"
        },
        {
         "name": "driverId",
         "rawType": "int64",
         "type": "integer"
        },
        {
         "name": "constructorId",
         "rawType": "int64",
         "type": "integer"
        },
        {
         "name": "number",
         "rawType": "int64",
         "type": "integer"
        },
        {
         "name": "position",
         "rawType": "int64",
         "type": "integer"
        },
        {
         "name": "q1",
         "rawType": "object",
         "type": "string"
        },
        {
         "name": "q2",
         "rawType": "object",
         "type": "string"
        },
        {
         "name": "q3",
         "rawType": "object",
         "type": "string"
        }
       ],
       "ref": "a7bda7fe-3dd9-4889-ae61-288ee0ad281a",
       "rows": [
        [
         "10073",
         "1121",
         "830",
         "9",
         "1",
         "1",
         "1:30.031",
         "1:29.374",
         "1:29.179"
        ],
        [
         "10074",
         "1121",
         "844",
         "6",
         "16",
         "2",
         "1:30.243",
         "1:29.165",
         "1:29.407"
        ],
        [
         "10075",
         "1121",
         "847",
         "131",
         "63",
         "3",
         "1:30.350",
         "1:29.922",
         "1:29.485"
        ],
        [
         "10076",
         "1121",
         "832",
         "6",
         "55",
         "4",
         "1:29.909",
         "1:29.573",
         "1:29.507"
        ],
        [
         "10077",
         "1121",
         "815",
         "9",
         "11",
         "5",
         "1:30.221",
         "1:29.932",
         "1:29.537"
        ]
       ],
       "shape": {
        "columns": 8,
        "rows": 5
       }
      },
      "text/html": [
       "<div>\n",
       "<style scoped>\n",
       "    .dataframe tbody tr th:only-of-type {\n",
       "        vertical-align: middle;\n",
       "    }\n",
       "\n",
       "    .dataframe tbody tr th {\n",
       "        vertical-align: top;\n",
       "    }\n",
       "\n",
       "    .dataframe thead th {\n",
       "        text-align: right;\n",
       "    }\n",
       "</style>\n",
       "<table border=\"1\" class=\"dataframe\">\n",
       "  <thead>\n",
       "    <tr style=\"text-align: right;\">\n",
       "      <th></th>\n",
       "      <th>raceId</th>\n",
       "      <th>driverId</th>\n",
       "      <th>constructorId</th>\n",
       "      <th>number</th>\n",
       "      <th>position</th>\n",
       "      <th>q1</th>\n",
       "      <th>q2</th>\n",
       "      <th>q3</th>\n",
       "    </tr>\n",
       "    <tr>\n",
       "      <th>qualifyId</th>\n",
       "      <th></th>\n",
       "      <th></th>\n",
       "      <th></th>\n",
       "      <th></th>\n",
       "      <th></th>\n",
       "      <th></th>\n",
       "      <th></th>\n",
       "      <th></th>\n",
       "    </tr>\n",
       "  </thead>\n",
       "  <tbody>\n",
       "    <tr>\n",
       "      <th>10073</th>\n",
       "      <td>1121</td>\n",
       "      <td>830</td>\n",
       "      <td>9</td>\n",
       "      <td>1</td>\n",
       "      <td>1</td>\n",
       "      <td>1:30.031</td>\n",
       "      <td>1:29.374</td>\n",
       "      <td>1:29.179</td>\n",
       "    </tr>\n",
       "    <tr>\n",
       "      <th>10074</th>\n",
       "      <td>1121</td>\n",
       "      <td>844</td>\n",
       "      <td>6</td>\n",
       "      <td>16</td>\n",
       "      <td>2</td>\n",
       "      <td>1:30.243</td>\n",
       "      <td>1:29.165</td>\n",
       "      <td>1:29.407</td>\n",
       "    </tr>\n",
       "    <tr>\n",
       "      <th>10075</th>\n",
       "      <td>1121</td>\n",
       "      <td>847</td>\n",
       "      <td>131</td>\n",
       "      <td>63</td>\n",
       "      <td>3</td>\n",
       "      <td>1:30.350</td>\n",
       "      <td>1:29.922</td>\n",
       "      <td>1:29.485</td>\n",
       "    </tr>\n",
       "    <tr>\n",
       "      <th>10076</th>\n",
       "      <td>1121</td>\n",
       "      <td>832</td>\n",
       "      <td>6</td>\n",
       "      <td>55</td>\n",
       "      <td>4</td>\n",
       "      <td>1:29.909</td>\n",
       "      <td>1:29.573</td>\n",
       "      <td>1:29.507</td>\n",
       "    </tr>\n",
       "    <tr>\n",
       "      <th>10077</th>\n",
       "      <td>1121</td>\n",
       "      <td>815</td>\n",
       "      <td>9</td>\n",
       "      <td>11</td>\n",
       "      <td>5</td>\n",
       "      <td>1:30.221</td>\n",
       "      <td>1:29.932</td>\n",
       "      <td>1:29.537</td>\n",
       "    </tr>\n",
       "  </tbody>\n",
       "</table>\n",
       "</div>"
      ],
      "text/plain": [
       "           raceId  driverId  constructorId  number  position        q1  \\\n",
       "qualifyId                                                                \n",
       "10073        1121       830              9       1         1  1:30.031   \n",
       "10074        1121       844              6      16         2  1:30.243   \n",
       "10075        1121       847            131      63         3  1:30.350   \n",
       "10076        1121       832              6      55         4  1:29.909   \n",
       "10077        1121       815              9      11         5  1:30.221   \n",
       "\n",
       "                 q2        q3  \n",
       "qualifyId                      \n",
       "10073      1:29.374  1:29.179  \n",
       "10074      1:29.165  1:29.407  \n",
       "10075      1:29.922  1:29.485  \n",
       "10076      1:29.573  1:29.507  \n",
       "10077      1:29.932  1:29.537  "
      ]
     },
     "execution_count": 7,
     "metadata": {},
     "output_type": "execute_result"
    }
   ],
   "source": [
    "quali_2024 = quali.loc[quali['raceId'].isin(races_2024.index)]\n",
    "quali_2024.head(5)"
   ]
  },
  {
   "cell_type": "code",
   "execution_count": 8,
   "id": "e181eb50",
   "metadata": {},
   "outputs": [
    {
     "data": {
      "application/vnd.microsoft.datawrangler.viewer.v0+json": {
       "columns": [
        {
         "name": "resultId",
         "rawType": "int64",
         "type": "integer"
        },
        {
         "name": "raceId",
         "rawType": "int64",
         "type": "integer"
        },
        {
         "name": "driverId",
         "rawType": "int64",
         "type": "integer"
        },
        {
         "name": "constructorId",
         "rawType": "int64",
         "type": "integer"
        },
        {
         "name": "number",
         "rawType": "float64",
         "type": "float"
        },
        {
         "name": "grid",
         "rawType": "int64",
         "type": "integer"
        },
        {
         "name": "position",
         "rawType": "float64",
         "type": "float"
        },
        {
         "name": "positionText",
         "rawType": "object",
         "type": "string"
        },
        {
         "name": "positionOrder",
         "rawType": "int64",
         "type": "integer"
        },
        {
         "name": "points",
         "rawType": "float64",
         "type": "float"
        },
        {
         "name": "laps",
         "rawType": "int64",
         "type": "integer"
        },
        {
         "name": "time",
         "rawType": "object",
         "type": "string"
        },
        {
         "name": "milliseconds",
         "rawType": "float64",
         "type": "float"
        },
        {
         "name": "fastestLap",
         "rawType": "float64",
         "type": "float"
        },
        {
         "name": "rank",
         "rawType": "float64",
         "type": "float"
        },
        {
         "name": "fastestLapTime",
         "rawType": "object",
         "type": "string"
        },
        {
         "name": "fastestLapSpeed",
         "rawType": "float64",
         "type": "float"
        },
        {
         "name": "statusId",
         "rawType": "int64",
         "type": "integer"
        }
       ],
       "ref": "b12b334b-9bf9-483d-b82f-c076c082f216",
       "rows": [
        [
         "26286",
         "1121",
         "830",
         "9",
         "1.0",
         "1",
         "1.0",
         "1",
         "1",
         "26.0",
         "57",
         "1:31:44.742",
         "5504742.0",
         "39.0",
         "1.0",
         "1:32.608",
         "210.383",
         "1"
        ],
        [
         "26287",
         "1121",
         "815",
         "9",
         "11.0",
         "5",
         "2.0",
         "2",
         "2",
         "18.0",
         "57",
         "+22.457",
         "5527199.0",
         "40.0",
         "4.0",
         "1:34.364",
         "206.468",
         "1"
        ],
        [
         "26288",
         "1121",
         "832",
         "6",
         "55.0",
         "4",
         "3.0",
         "3",
         "3",
         "15.0",
         "57",
         "+25.110",
         "5529852.0",
         "44.0",
         "6.0",
         "1:34.507",
         "206.156",
         "1"
        ],
        [
         "26289",
         "1121",
         "844",
         "6",
         "16.0",
         "2",
         "4.0",
         "4",
         "4",
         "12.0",
         "57",
         "+39.669",
         "5544411.0",
         "36.0",
         "2.0",
         "1:34.090",
         "207.069",
         "1"
        ],
        [
         "26290",
         "1121",
         "847",
         "131",
         "63.0",
         "3",
         "5.0",
         "5",
         "5",
         "10.0",
         "57",
         "+46.788",
         "5551530.0",
         "40.0",
         "12.0",
         "1:35.065",
         "204.946",
         "1"
        ]
       ],
       "shape": {
        "columns": 17,
        "rows": 5
       }
      },
      "text/html": [
       "<div>\n",
       "<style scoped>\n",
       "    .dataframe tbody tr th:only-of-type {\n",
       "        vertical-align: middle;\n",
       "    }\n",
       "\n",
       "    .dataframe tbody tr th {\n",
       "        vertical-align: top;\n",
       "    }\n",
       "\n",
       "    .dataframe thead th {\n",
       "        text-align: right;\n",
       "    }\n",
       "</style>\n",
       "<table border=\"1\" class=\"dataframe\">\n",
       "  <thead>\n",
       "    <tr style=\"text-align: right;\">\n",
       "      <th></th>\n",
       "      <th>raceId</th>\n",
       "      <th>driverId</th>\n",
       "      <th>constructorId</th>\n",
       "      <th>number</th>\n",
       "      <th>grid</th>\n",
       "      <th>position</th>\n",
       "      <th>positionText</th>\n",
       "      <th>positionOrder</th>\n",
       "      <th>points</th>\n",
       "      <th>laps</th>\n",
       "      <th>time</th>\n",
       "      <th>milliseconds</th>\n",
       "      <th>fastestLap</th>\n",
       "      <th>rank</th>\n",
       "      <th>fastestLapTime</th>\n",
       "      <th>fastestLapSpeed</th>\n",
       "      <th>statusId</th>\n",
       "    </tr>\n",
       "    <tr>\n",
       "      <th>resultId</th>\n",
       "      <th></th>\n",
       "      <th></th>\n",
       "      <th></th>\n",
       "      <th></th>\n",
       "      <th></th>\n",
       "      <th></th>\n",
       "      <th></th>\n",
       "      <th></th>\n",
       "      <th></th>\n",
       "      <th></th>\n",
       "      <th></th>\n",
       "      <th></th>\n",
       "      <th></th>\n",
       "      <th></th>\n",
       "      <th></th>\n",
       "      <th></th>\n",
       "      <th></th>\n",
       "    </tr>\n",
       "  </thead>\n",
       "  <tbody>\n",
       "    <tr>\n",
       "      <th>26286</th>\n",
       "      <td>1121</td>\n",
       "      <td>830</td>\n",
       "      <td>9</td>\n",
       "      <td>1.0</td>\n",
       "      <td>1</td>\n",
       "      <td>1.0</td>\n",
       "      <td>1</td>\n",
       "      <td>1</td>\n",
       "      <td>26.0</td>\n",
       "      <td>57</td>\n",
       "      <td>1:31:44.742</td>\n",
       "      <td>5504742.0</td>\n",
       "      <td>39.0</td>\n",
       "      <td>1.0</td>\n",
       "      <td>1:32.608</td>\n",
       "      <td>210.383</td>\n",
       "      <td>1</td>\n",
       "    </tr>\n",
       "    <tr>\n",
       "      <th>26287</th>\n",
       "      <td>1121</td>\n",
       "      <td>815</td>\n",
       "      <td>9</td>\n",
       "      <td>11.0</td>\n",
       "      <td>5</td>\n",
       "      <td>2.0</td>\n",
       "      <td>2</td>\n",
       "      <td>2</td>\n",
       "      <td>18.0</td>\n",
       "      <td>57</td>\n",
       "      <td>+22.457</td>\n",
       "      <td>5527199.0</td>\n",
       "      <td>40.0</td>\n",
       "      <td>4.0</td>\n",
       "      <td>1:34.364</td>\n",
       "      <td>206.468</td>\n",
       "      <td>1</td>\n",
       "    </tr>\n",
       "    <tr>\n",
       "      <th>26288</th>\n",
       "      <td>1121</td>\n",
       "      <td>832</td>\n",
       "      <td>6</td>\n",
       "      <td>55.0</td>\n",
       "      <td>4</td>\n",
       "      <td>3.0</td>\n",
       "      <td>3</td>\n",
       "      <td>3</td>\n",
       "      <td>15.0</td>\n",
       "      <td>57</td>\n",
       "      <td>+25.110</td>\n",
       "      <td>5529852.0</td>\n",
       "      <td>44.0</td>\n",
       "      <td>6.0</td>\n",
       "      <td>1:34.507</td>\n",
       "      <td>206.156</td>\n",
       "      <td>1</td>\n",
       "    </tr>\n",
       "    <tr>\n",
       "      <th>26289</th>\n",
       "      <td>1121</td>\n",
       "      <td>844</td>\n",
       "      <td>6</td>\n",
       "      <td>16.0</td>\n",
       "      <td>2</td>\n",
       "      <td>4.0</td>\n",
       "      <td>4</td>\n",
       "      <td>4</td>\n",
       "      <td>12.0</td>\n",
       "      <td>57</td>\n",
       "      <td>+39.669</td>\n",
       "      <td>5544411.0</td>\n",
       "      <td>36.0</td>\n",
       "      <td>2.0</td>\n",
       "      <td>1:34.090</td>\n",
       "      <td>207.069</td>\n",
       "      <td>1</td>\n",
       "    </tr>\n",
       "    <tr>\n",
       "      <th>26290</th>\n",
       "      <td>1121</td>\n",
       "      <td>847</td>\n",
       "      <td>131</td>\n",
       "      <td>63.0</td>\n",
       "      <td>3</td>\n",
       "      <td>5.0</td>\n",
       "      <td>5</td>\n",
       "      <td>5</td>\n",
       "      <td>10.0</td>\n",
       "      <td>57</td>\n",
       "      <td>+46.788</td>\n",
       "      <td>5551530.0</td>\n",
       "      <td>40.0</td>\n",
       "      <td>12.0</td>\n",
       "      <td>1:35.065</td>\n",
       "      <td>204.946</td>\n",
       "      <td>1</td>\n",
       "    </tr>\n",
       "  </tbody>\n",
       "</table>\n",
       "</div>"
      ],
      "text/plain": [
       "          raceId  driverId  constructorId  number  grid  position  \\\n",
       "resultId                                                            \n",
       "26286       1121       830              9     1.0     1       1.0   \n",
       "26287       1121       815              9    11.0     5       2.0   \n",
       "26288       1121       832              6    55.0     4       3.0   \n",
       "26289       1121       844              6    16.0     2       4.0   \n",
       "26290       1121       847            131    63.0     3       5.0   \n",
       "\n",
       "         positionText  positionOrder  points  laps         time  milliseconds  \\\n",
       "resultId                                                                        \n",
       "26286               1              1    26.0    57  1:31:44.742     5504742.0   \n",
       "26287               2              2    18.0    57      +22.457     5527199.0   \n",
       "26288               3              3    15.0    57      +25.110     5529852.0   \n",
       "26289               4              4    12.0    57      +39.669     5544411.0   \n",
       "26290               5              5    10.0    57      +46.788     5551530.0   \n",
       "\n",
       "          fastestLap  rank fastestLapTime  fastestLapSpeed  statusId  \n",
       "resultId                                                              \n",
       "26286           39.0   1.0       1:32.608          210.383         1  \n",
       "26287           40.0   4.0       1:34.364          206.468         1  \n",
       "26288           44.0   6.0       1:34.507          206.156         1  \n",
       "26289           36.0   2.0       1:34.090          207.069         1  \n",
       "26290           40.0  12.0       1:35.065          204.946         1  "
      ]
     },
     "execution_count": 8,
     "metadata": {},
     "output_type": "execute_result"
    }
   ],
   "source": [
    "race_results_2024 = race_results.loc[race_results['raceId'].isin(races_2024.index)]\n",
    "race_results_2024.head(5)"
   ]
  },
  {
   "cell_type": "code",
   "execution_count": 9,
   "id": "521f8252",
   "metadata": {},
   "outputs": [],
   "source": [
    "def lap_time_to_seconds(time):\n",
    "    if pd.isna(time):\n",
    "        return np.nan\n",
    "    minutes, seconds = time.split(':')\n",
    "    return int(minutes) * 60 + float(seconds)"
   ]
  },
  {
   "cell_type": "code",
   "execution_count": 10,
   "id": "9c580ddd",
   "metadata": {},
   "outputs": [],
   "source": [
    "data = pd.merge(race_results_2024, quali_2024, on=['raceId', 'driverId'], suffixes=('_race', '_quali'))\n",
    "\n",
    "data = data[['q1', 'q2', 'q3', 'fastestLapTime']]\n",
    "\n",
    "for col in data.columns:\n",
    "    data[col] = data[col].apply(lap_time_to_seconds)\n",
    "\n",
    "data = data.dropna(subset='fastestLapTime')\n",
    "data = data.dropna(subset=['q1', 'q2', 'q3'], how='all')\n",
    "\n",
    "data['bestQualiTime'] = data.drop(columns='fastestLapTime').min(axis=1, skipna=True)"
   ]
  },
  {
   "cell_type": "markdown",
   "id": "ad938974",
   "metadata": {},
   "source": [
    "# Dataset Analysis"
   ]
  },
  {
   "cell_type": "code",
   "execution_count": 11,
   "id": "e933feca",
   "metadata": {},
   "outputs": [
    {
     "data": {
      "application/vnd.microsoft.datawrangler.viewer.v0+json": {
       "columns": [
        {
         "name": "index",
         "rawType": "object",
         "type": "string"
        },
        {
         "name": "0",
         "rawType": "float64",
         "type": "float"
        }
       ],
       "ref": "94b7278f-e680-4951-9b02-b68f8666c9b2",
       "rows": [
        [
         "q1",
         "85.72198194130927"
        ],
        [
         "q2",
         "84.74156417910447"
        ],
        [
         "q3",
         "84.42083710407239"
        ],
        [
         "fastestLapTime",
         "88.5681467268623"
        ],
        [
         "bestQualiTime",
         "85.0314130925508"
        ]
       ],
       "shape": {
        "columns": 1,
        "rows": 5
       }
      },
      "text/plain": [
       "q1                85.721982\n",
       "q2                84.741564\n",
       "q3                84.420837\n",
       "fastestLapTime    88.568147\n",
       "bestQualiTime     85.031413\n",
       "dtype: float64"
      ]
     },
     "execution_count": 11,
     "metadata": {},
     "output_type": "execute_result"
    }
   ],
   "source": [
    "data.mean()"
   ]
  },
  {
   "cell_type": "code",
   "execution_count": 12,
   "id": "8d2adee4",
   "metadata": {},
   "outputs": [
    {
     "data": {
      "application/vnd.microsoft.datawrangler.viewer.v0+json": {
       "columns": [
        {
         "name": "index",
         "rawType": "float64",
         "type": "float"
        },
        {
         "name": "q1",
         "rawType": "float64",
         "type": "float"
        },
        {
         "name": "q2",
         "rawType": "float64",
         "type": "float"
        },
        {
         "name": "q3",
         "rawType": "float64",
         "type": "float"
        },
        {
         "name": "fastestLapTime",
         "rawType": "float64",
         "type": "float"
        },
        {
         "name": "bestQualiTime",
         "rawType": "float64",
         "type": "float"
        }
       ],
       "ref": "3828a7f6-6775-484d-94d4-32fc9d294810",
       "rows": [
        [
         "0.25",
         "77.1275",
         "76.30250000000001",
         "75.98",
         "80.933",
         "76.3095"
        ],
        [
         "0.5",
         "88.17699999999999",
         "86.307",
         "84.48400000000001",
         "88.748",
         "86.03"
        ],
        [
         "0.75",
         "91.376",
         "90.2105",
         "89.84100000000001",
         "96.334",
         "91.122"
        ]
       ],
       "shape": {
        "columns": 5,
        "rows": 3
       }
      },
      "text/html": [
       "<div>\n",
       "<style scoped>\n",
       "    .dataframe tbody tr th:only-of-type {\n",
       "        vertical-align: middle;\n",
       "    }\n",
       "\n",
       "    .dataframe tbody tr th {\n",
       "        vertical-align: top;\n",
       "    }\n",
       "\n",
       "    .dataframe thead th {\n",
       "        text-align: right;\n",
       "    }\n",
       "</style>\n",
       "<table border=\"1\" class=\"dataframe\">\n",
       "  <thead>\n",
       "    <tr style=\"text-align: right;\">\n",
       "      <th></th>\n",
       "      <th>q1</th>\n",
       "      <th>q2</th>\n",
       "      <th>q3</th>\n",
       "      <th>fastestLapTime</th>\n",
       "      <th>bestQualiTime</th>\n",
       "    </tr>\n",
       "  </thead>\n",
       "  <tbody>\n",
       "    <tr>\n",
       "      <th>0.25</th>\n",
       "      <td>77.1275</td>\n",
       "      <td>76.3025</td>\n",
       "      <td>75.980</td>\n",
       "      <td>80.933</td>\n",
       "      <td>76.3095</td>\n",
       "    </tr>\n",
       "    <tr>\n",
       "      <th>0.50</th>\n",
       "      <td>88.1770</td>\n",
       "      <td>86.3070</td>\n",
       "      <td>84.484</td>\n",
       "      <td>88.748</td>\n",
       "      <td>86.0300</td>\n",
       "    </tr>\n",
       "    <tr>\n",
       "      <th>0.75</th>\n",
       "      <td>91.3760</td>\n",
       "      <td>90.2105</td>\n",
       "      <td>89.841</td>\n",
       "      <td>96.334</td>\n",
       "      <td>91.1220</td>\n",
       "    </tr>\n",
       "  </tbody>\n",
       "</table>\n",
       "</div>"
      ],
      "text/plain": [
       "           q1       q2      q3  fastestLapTime  bestQualiTime\n",
       "0.25  77.1275  76.3025  75.980          80.933        76.3095\n",
       "0.50  88.1770  86.3070  84.484          88.748        86.0300\n",
       "0.75  91.3760  90.2105  89.841          96.334        91.1220"
      ]
     },
     "execution_count": 12,
     "metadata": {},
     "output_type": "execute_result"
    }
   ],
   "source": [
    "data.quantile([0.25, 0.5, 0.75])"
   ]
  },
  {
   "cell_type": "code",
   "execution_count": 13,
   "id": "9132468c",
   "metadata": {},
   "outputs": [
    {
     "data": {
      "application/vnd.microsoft.datawrangler.viewer.v0+json": {
       "columns": [
        {
         "name": "index",
         "rawType": "object",
         "type": "string"
        },
        {
         "name": "q1",
         "rawType": "float64",
         "type": "float"
        },
        {
         "name": "q2",
         "rawType": "float64",
         "type": "float"
        },
        {
         "name": "q3",
         "rawType": "float64",
         "type": "float"
        },
        {
         "name": "fastestLapTime",
         "rawType": "float64",
         "type": "float"
        },
        {
         "name": "bestQualiTime",
         "rawType": "float64",
         "type": "float"
        }
       ],
       "ref": "1c464833-3b2d-4f5f-a9ca-f083d05d648c",
       "rows": [
        [
         "q1",
         "1.0",
         "0.9957609618923492",
         "0.9890673716778371",
         "0.9392291874795909",
         "0.9952707635979715"
        ],
        [
         "q2",
         "0.9957609618923492",
         "1.0",
         "0.9945032465987422",
         "0.9531451716941947",
         "0.999608103564416"
        ],
        [
         "q3",
         "0.9890673716778371",
         "0.9945032465987422",
         "1.0",
         "0.9560873313881142",
         "0.9952920696156491"
        ],
        [
         "fastestLapTime",
         "0.9392291874795909",
         "0.9531451716941947",
         "0.9560873313881142",
         "1.0",
         "0.9497127484971705"
        ],
        [
         "bestQualiTime",
         "0.9952707635979715",
         "0.999608103564416",
         "0.9952920696156491",
         "0.9497127484971705",
         "1.0"
        ]
       ],
       "shape": {
        "columns": 5,
        "rows": 5
       }
      },
      "text/html": [
       "<div>\n",
       "<style scoped>\n",
       "    .dataframe tbody tr th:only-of-type {\n",
       "        vertical-align: middle;\n",
       "    }\n",
       "\n",
       "    .dataframe tbody tr th {\n",
       "        vertical-align: top;\n",
       "    }\n",
       "\n",
       "    .dataframe thead th {\n",
       "        text-align: right;\n",
       "    }\n",
       "</style>\n",
       "<table border=\"1\" class=\"dataframe\">\n",
       "  <thead>\n",
       "    <tr style=\"text-align: right;\">\n",
       "      <th></th>\n",
       "      <th>q1</th>\n",
       "      <th>q2</th>\n",
       "      <th>q3</th>\n",
       "      <th>fastestLapTime</th>\n",
       "      <th>bestQualiTime</th>\n",
       "    </tr>\n",
       "  </thead>\n",
       "  <tbody>\n",
       "    <tr>\n",
       "      <th>q1</th>\n",
       "      <td>1.000000</td>\n",
       "      <td>0.995761</td>\n",
       "      <td>0.989067</td>\n",
       "      <td>0.939229</td>\n",
       "      <td>0.995271</td>\n",
       "    </tr>\n",
       "    <tr>\n",
       "      <th>q2</th>\n",
       "      <td>0.995761</td>\n",
       "      <td>1.000000</td>\n",
       "      <td>0.994503</td>\n",
       "      <td>0.953145</td>\n",
       "      <td>0.999608</td>\n",
       "    </tr>\n",
       "    <tr>\n",
       "      <th>q3</th>\n",
       "      <td>0.989067</td>\n",
       "      <td>0.994503</td>\n",
       "      <td>1.000000</td>\n",
       "      <td>0.956087</td>\n",
       "      <td>0.995292</td>\n",
       "    </tr>\n",
       "    <tr>\n",
       "      <th>fastestLapTime</th>\n",
       "      <td>0.939229</td>\n",
       "      <td>0.953145</td>\n",
       "      <td>0.956087</td>\n",
       "      <td>1.000000</td>\n",
       "      <td>0.949713</td>\n",
       "    </tr>\n",
       "    <tr>\n",
       "      <th>bestQualiTime</th>\n",
       "      <td>0.995271</td>\n",
       "      <td>0.999608</td>\n",
       "      <td>0.995292</td>\n",
       "      <td>0.949713</td>\n",
       "      <td>1.000000</td>\n",
       "    </tr>\n",
       "  </tbody>\n",
       "</table>\n",
       "</div>"
      ],
      "text/plain": [
       "                      q1        q2        q3  fastestLapTime  bestQualiTime\n",
       "q1              1.000000  0.995761  0.989067        0.939229       0.995271\n",
       "q2              0.995761  1.000000  0.994503        0.953145       0.999608\n",
       "q3              0.989067  0.994503  1.000000        0.956087       0.995292\n",
       "fastestLapTime  0.939229  0.953145  0.956087        1.000000       0.949713\n",
       "bestQualiTime   0.995271  0.999608  0.995292        0.949713       1.000000"
      ]
     },
     "execution_count": 13,
     "metadata": {},
     "output_type": "execute_result"
    }
   ],
   "source": [
    "data.corr()"
   ]
  },
  {
   "cell_type": "code",
   "execution_count": 14,
   "id": "44683a01",
   "metadata": {},
   "outputs": [
    {
     "data": {
      "image/png": "[encoded data removed]",
      "text/plain": [
       "<Figure size 640x480 with 1 Axes>"
      ]
     },
     "metadata": {},
     "output_type": "display_data"
    }
   ],
   "source": [
    "plt.pie(\n",
    "    data[['q1', 'q2', 'q3']].count(),\n",
    "    labels=['q1', 'q2', 'q3'],\n",
    "    autopct='%1.1f%%',\n",
    "    explode=(0, 0, 0.1)\n",
    ");"
   ]
  },
  {
   "cell_type": "code",
   "execution_count": 15,
   "id": "51c9b30f",
   "metadata": {},
   "outputs": [
    {
     "data": {
      "image/png": "[encoded data removed]",
      "text/plain": [
       "<Figure size 1000x700 with 1 Axes>"
      ]
     },
     "metadata": {},
     "output_type": "display_data"
    }
   ],
   "source": [
    "plt.figure(figsize=(10, 7))\n",
    "plt.plot(data[['q1', 'q2', 'q3']].head(10).T);"
   ]
  },
  {
   "cell_type": "code",
   "execution_count": 16,
   "id": "bfa4ad04",
   "metadata": {},
   "outputs": [
    {
     "data": {
      "image/png": "[encoded data removed]",
      "text/plain": [
       "<Figure size 1000x600 with 1 Axes>"
      ]
     },
     "metadata": {},
     "output_type": "display_data"
    }
   ],
   "source": [
    "plt.figure(figsize=(10, 6))\n",
    "plt.boxplot(data[['bestQualiTime', 'fastestLapTime']], tick_labels=['bestQualiTime', 'fastestLapTime']);"
   ]
  },
  {
   "cell_type": "markdown",
   "id": "b506b076",
   "metadata": {},
   "source": [
    "# Model Training and Validation"
   ]
  },
  {
   "cell_type": "code",
   "execution_count": 21,
   "id": "d8c6b08b",
   "metadata": {},
   "outputs": [],
   "source": [
    "def plot_model_on_data(X, y, model=None):\n",
    "    plt.figure(figsize=(10, 7))\n",
    "    plt.scatter(X, y)\n",
    "    if model is not None:\n",
    "        xlim, ylim = plt.xlim(), plt.ylim()\n",
    "        line_x = np.linspace(xlim[0], xlim[1], 100)\n",
    "        line_x_df = pd.DataFrame(line_x[:, None], columns=X.columns)\n",
    "        line_y = model.predict(line_x_df)\n",
    "        plt.plot(line_x, line_y, c=\"red\", lw=3)\n",
    "        plt.xlim(xlim); plt.ylim(ylim)\n",
    "    plt.grid()\n",
    "    plt.xlabel('Best Quali Lap (sec)')\n",
    "    plt.ylabel('Fastest Race Lap (sec)');"
   ]
  },
  {
   "cell_type": "code",
   "execution_count": 18,
   "id": "ce4ad8f7",
   "metadata": {},
   "outputs": [],
   "source": [
    "X = data[['bestQualiTime']]\n",
    "y = data['fastestLapTime']\n",
    "\n",
    "X_train, X_test, y_train, y_test = train_test_split(X, y, test_size=0.2, random_state=42)"
   ]
  },
  {
   "cell_type": "code",
   "execution_count": 23,
   "id": "8152525a",
   "metadata": {},
   "outputs": [
    {
     "name": "stdout",
     "output_type": "stream",
     "text": [
      "MAE: 1.653833313480941\n"
     ]
    },
    {
     "data": {
      "text/plain": [
       "0.9185897274216752"
      ]
     },
     "execution_count": 23,
     "metadata": {},
     "output_type": "execute_result"
    }
   ],
   "source": [
    "from sklearn.tree import DecisionTreeRegressor\n",
    "from sklearn.metrics import mean_absolute_error\n",
    "\n",
    "model = DecisionTreeRegressor(max_depth=4, random_state=42)\n",
    "model.fit(X_train, y_train)\n",
    "\n",
    "y_pred = model.predict(X_test)\n",
    "print(\"MAE:\", mean_absolute_error(y_test, y_pred))\n",
    "model.score(X_test, y_test)"
   ]
  },
  {
   "cell_type": "code",
   "execution_count": 22,
   "id": "8e178538",
   "metadata": {},
   "outputs": [
    {
     "data": {
      "image/png": "[encoded data removed]",
      "text/plain": [
       "<Figure size 1000x700 with 1 Axes>"
      ]
     },
     "metadata": {},
     "output_type": "display_data"
    }
   ],
   "source": [
    "plot_model_on_data(X_test, y_test, model)"
   ]
  }
 ],
 "metadata": {
  "kernelspec": {
   "display_name": "ai",
   "language": "python",
   "name": "python3"
  },
  "language_info": {
   "codemirror_mode": {
    "name": "ipython",
    "version": 3
   },
   "file_extension": ".py",
   "mimetype": "text/x-python",
   "name": "python",
   "nbconvert_exporter": "python",
   "pygments_lexer": "ipython3",
   "version": "3.12.10"
  }
 },
 "nbformat": 4,
 "nbformat_minor": 5
}
