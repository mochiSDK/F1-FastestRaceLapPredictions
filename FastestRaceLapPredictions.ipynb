{
 "cells": [
  {
   "cell_type": "markdown",
   "id": "6e1ed3bb",
   "metadata": {},
   "source": [
    "# F1 Fastest Race Lap Predictions"
   ]
  },
  {
   "cell_type": "code",
   "execution_count": 216,
   "id": "ff488ff1",
   "metadata": {},
   "outputs": [],
   "source": [
    "import numpy as np\n",
    "import pandas as pd\n",
    "import matplotlib.pyplot as plt\n",
    "from sklearn.compose import ColumnTransformer\n",
    "from sklearn.discriminant_analysis import StandardScaler\n",
    "from sklearn.linear_model import Ridge\n",
    "from sklearn.model_selection import train_test_split\n",
    "from sklearn.pipeline import Pipeline\n",
    "from sklearn.preprocessing import OneHotEncoder\n",
    "from sklearn.preprocessing import PolynomialFeatures\n",
    "from sklearn.tree import DecisionTreeRegressor\n",
    "%matplotlib inline"
   ]
  },
  {
   "cell_type": "code",
   "execution_count": 217,
   "id": "bc34bbcd",
   "metadata": {},
   "outputs": [
    {
     "name": "stdout",
     "output_type": "stream",
     "text": [
      "Warning: Looks like you're using an outdated `kagglehub` version (installed: 0.3.8), please consider upgrading to the latest version (0.3.12).\n",
      "Warning: Looks like you're using an outdated `kagglehub` version (installed: 0.3.8), please consider upgrading to the latest version (0.3.12).\n",
      "Warning: Looks like you're using an outdated `kagglehub` version (installed: 0.3.8), please consider upgrading to the latest version (0.3.12).\n",
      "Warning: Looks like you're using an outdated `kagglehub` version (installed: 0.3.8), please consider upgrading to the latest version (0.3.12).\n",
      "Warning: Looks like you're using an outdated `kagglehub` version (installed: 0.3.8), please consider upgrading to the latest version (0.3.12).\n",
      "Path to dataset files:\n",
      "/home/sofi/.cache/kagglehub/datasets/rohanrao/formula-1-world-championship-1950-2020/versions/24/races.csv\n",
      "/home/sofi/.cache/kagglehub/datasets/rohanrao/formula-1-world-championship-1950-2020/versions/24/qualifying.csv\n",
      "/home/sofi/.cache/kagglehub/datasets/rohanrao/formula-1-world-championship-1950-2020/versions/24/results.csv\n",
      "/home/sofi/.cache/kagglehub/datasets/rohanrao/formula-1-world-championship-1950-2020/versions/24/drivers.csv\n",
      "/home/sofi/.cache/kagglehub/datasets/rohanrao/formula-1-world-championship-1950-2020/versions/24/constructors.csv\n"
     ]
    }
   ],
   "source": [
    "import kagglehub\n",
    "\n",
    "quali_path = kagglehub.dataset_download(\n",
    "    \"rohanrao/formula-1-world-championship-1950-2020\",\n",
    "    path='qualifying.csv'\n",
    ")\n",
    "races_path = kagglehub.dataset_download(\n",
    "    \"rohanrao/formula-1-world-championship-1950-2020\",\n",
    "    path='races.csv'\n",
    ")\n",
    "results_path = kagglehub.dataset_download(\n",
    "    \"rohanrao/formula-1-world-championship-1950-2020\",\n",
    "    path='results.csv'\n",
    ")\n",
    "drivers_path = kagglehub.dataset_download(\n",
    "    \"rohanrao/formula-1-world-championship-1950-2020\",\n",
    "    path='drivers.csv'\n",
    ")\n",
    "constructors_path = kagglehub.dataset_download(\n",
    "    \"rohanrao/formula-1-world-championship-1950-2020\",\n",
    "    path='constructors.csv'\n",
    ")\n",
    "\n",
    "print(\"Path to dataset files:\", races_path, quali_path, results_path, drivers_path, constructors_path, sep='\\n')"
   ]
  },
  {
   "cell_type": "markdown",
   "id": "09c6fd56",
   "metadata": {},
   "source": [
    "## Dataframe Creation"
   ]
  },
  {
   "cell_type": "code",
   "execution_count": 218,
   "id": "e9041a14",
   "metadata": {},
   "outputs": [
    {
     "data": {
      "application/vnd.microsoft.datawrangler.viewer.v0+json": {
       "columns": [
        {
         "name": "qualifyId",
         "rawType": "int64",
         "type": "integer"
        },
        {
         "name": "raceId",
         "rawType": "int64",
         "type": "integer"
        },
        {
         "name": "driverId",
         "rawType": "int64",
         "type": "integer"
        },
        {
         "name": "constructorId",
         "rawType": "int64",
         "type": "integer"
        },
        {
         "name": "number",
         "rawType": "int64",
         "type": "integer"
        },
        {
         "name": "position",
         "rawType": "int64",
         "type": "integer"
        },
        {
         "name": "q1",
         "rawType": "object",
         "type": "string"
        },
        {
         "name": "q2",
         "rawType": "object",
         "type": "string"
        },
        {
         "name": "q3",
         "rawType": "object",
         "type": "string"
        }
       ],
       "ref": "e3d1cf22-acb1-41da-afb1-3ac67bc2f9ff",
       "rows": [
        [
         "1",
         "18",
         "1",
         "1",
         "22",
         "1",
         "1:26.572",
         "1:25.187",
         "1:26.714"
        ],
        [
         "2",
         "18",
         "9",
         "2",
         "4",
         "2",
         "1:26.103",
         "1:25.315",
         "1:26.869"
        ],
        [
         "3",
         "18",
         "5",
         "1",
         "23",
         "3",
         "1:25.664",
         "1:25.452",
         "1:27.079"
        ],
        [
         "4",
         "18",
         "13",
         "6",
         "2",
         "4",
         "1:25.994",
         "1:25.691",
         "1:27.178"
        ],
        [
         "5",
         "18",
         "2",
         "2",
         "3",
         "5",
         "1:25.960",
         "1:25.518",
         "1:27.236"
        ]
       ],
       "shape": {
        "columns": 8,
        "rows": 5
       }
      },
      "text/html": [
       "<div>\n",
       "<style scoped>\n",
       "    .dataframe tbody tr th:only-of-type {\n",
       "        vertical-align: middle;\n",
       "    }\n",
       "\n",
       "    .dataframe tbody tr th {\n",
       "        vertical-align: top;\n",
       "    }\n",
       "\n",
       "    .dataframe thead th {\n",
       "        text-align: right;\n",
       "    }\n",
       "</style>\n",
       "<table border=\"1\" class=\"dataframe\">\n",
       "  <thead>\n",
       "    <tr style=\"text-align: right;\">\n",
       "      <th></th>\n",
       "      <th>raceId</th>\n",
       "      <th>driverId</th>\n",
       "      <th>constructorId</th>\n",
       "      <th>number</th>\n",
       "      <th>position</th>\n",
       "      <th>q1</th>\n",
       "      <th>q2</th>\n",
       "      <th>q3</th>\n",
       "    </tr>\n",
       "    <tr>\n",
       "      <th>qualifyId</th>\n",
       "      <th></th>\n",
       "      <th></th>\n",
       "      <th></th>\n",
       "      <th></th>\n",
       "      <th></th>\n",
       "      <th></th>\n",
       "      <th></th>\n",
       "      <th></th>\n",
       "    </tr>\n",
       "  </thead>\n",
       "  <tbody>\n",
       "    <tr>\n",
       "      <th>1</th>\n",
       "      <td>18</td>\n",
       "      <td>1</td>\n",
       "      <td>1</td>\n",
       "      <td>22</td>\n",
       "      <td>1</td>\n",
       "      <td>1:26.572</td>\n",
       "      <td>1:25.187</td>\n",
       "      <td>1:26.714</td>\n",
       "    </tr>\n",
       "    <tr>\n",
       "      <th>2</th>\n",
       "      <td>18</td>\n",
       "      <td>9</td>\n",
       "      <td>2</td>\n",
       "      <td>4</td>\n",
       "      <td>2</td>\n",
       "      <td>1:26.103</td>\n",
       "      <td>1:25.315</td>\n",
       "      <td>1:26.869</td>\n",
       "    </tr>\n",
       "    <tr>\n",
       "      <th>3</th>\n",
       "      <td>18</td>\n",
       "      <td>5</td>\n",
       "      <td>1</td>\n",
       "      <td>23</td>\n",
       "      <td>3</td>\n",
       "      <td>1:25.664</td>\n",
       "      <td>1:25.452</td>\n",
       "      <td>1:27.079</td>\n",
       "    </tr>\n",
       "    <tr>\n",
       "      <th>4</th>\n",
       "      <td>18</td>\n",
       "      <td>13</td>\n",
       "      <td>6</td>\n",
       "      <td>2</td>\n",
       "      <td>4</td>\n",
       "      <td>1:25.994</td>\n",
       "      <td>1:25.691</td>\n",
       "      <td>1:27.178</td>\n",
       "    </tr>\n",
       "    <tr>\n",
       "      <th>5</th>\n",
       "      <td>18</td>\n",
       "      <td>2</td>\n",
       "      <td>2</td>\n",
       "      <td>3</td>\n",
       "      <td>5</td>\n",
       "      <td>1:25.960</td>\n",
       "      <td>1:25.518</td>\n",
       "      <td>1:27.236</td>\n",
       "    </tr>\n",
       "  </tbody>\n",
       "</table>\n",
       "</div>"
      ],
      "text/plain": [
       "           raceId  driverId  constructorId  number  position        q1  \\\n",
       "qualifyId                                                                \n",
       "1              18         1              1      22         1  1:26.572   \n",
       "2              18         9              2       4         2  1:26.103   \n",
       "3              18         5              1      23         3  1:25.664   \n",
       "4              18        13              6       2         4  1:25.994   \n",
       "5              18         2              2       3         5  1:25.960   \n",
       "\n",
       "                 q2        q3  \n",
       "qualifyId                      \n",
       "1          1:25.187  1:26.714  \n",
       "2          1:25.315  1:26.869  \n",
       "3          1:25.452  1:27.079  \n",
       "4          1:25.691  1:27.178  \n",
       "5          1:25.518  1:27.236  "
      ]
     },
     "execution_count": 218,
     "metadata": {},
     "output_type": "execute_result"
    }
   ],
   "source": [
    "quali = pd.read_csv(\n",
    "    quali_path,\n",
    "    index_col='qualifyId',\n",
    "    na_values='\\\\N'\n",
    ")\n",
    "quali.head(5)"
   ]
  },
  {
   "cell_type": "code",
   "execution_count": 219,
   "id": "53ac4721",
   "metadata": {},
   "outputs": [
    {
     "data": {
      "application/vnd.microsoft.datawrangler.viewer.v0+json": {
       "columns": [
        {
         "name": "raceId",
         "rawType": "int64",
         "type": "integer"
        },
        {
         "name": "year",
         "rawType": "int64",
         "type": "integer"
        },
        {
         "name": "round",
         "rawType": "int64",
         "type": "integer"
        },
        {
         "name": "circuitId",
         "rawType": "int64",
         "type": "integer"
        },
        {
         "name": "name",
         "rawType": "object",
         "type": "string"
        },
        {
         "name": "date",
         "rawType": "datetime64[ns]",
         "type": "datetime"
        },
        {
         "name": "time",
         "rawType": "object",
         "type": "string"
        },
        {
         "name": "url",
         "rawType": "object",
         "type": "string"
        },
        {
         "name": "fp1_date",
         "rawType": "object",
         "type": "unknown"
        },
        {
         "name": "fp1_time",
         "rawType": "object",
         "type": "unknown"
        },
        {
         "name": "fp2_date",
         "rawType": "object",
         "type": "unknown"
        },
        {
         "name": "fp2_time",
         "rawType": "object",
         "type": "unknown"
        },
        {
         "name": "fp3_date",
         "rawType": "object",
         "type": "unknown"
        },
        {
         "name": "fp3_time",
         "rawType": "object",
         "type": "unknown"
        },
        {
         "name": "quali_date",
         "rawType": "object",
         "type": "unknown"
        },
        {
         "name": "quali_time",
         "rawType": "object",
         "type": "unknown"
        },
        {
         "name": "sprint_date",
         "rawType": "object",
         "type": "unknown"
        },
        {
         "name": "sprint_time",
         "rawType": "object",
         "type": "unknown"
        }
       ],
       "ref": "19c70131-097d-4377-9876-59df303711ed",
       "rows": [
        [
         "1",
         "2009",
         "1",
         "1",
         "Australian Grand Prix",
         "2009-03-29 00:00:00",
         "06:00:00",
         "http://en.wikipedia.org/wiki/2009_Australian_Grand_Prix",
         null,
         null,
         null,
         null,
         null,
         null,
         null,
         null,
         null,
         null
        ],
        [
         "2",
         "2009",
         "2",
         "2",
         "Malaysian Grand Prix",
         "2009-04-05 00:00:00",
         "09:00:00",
         "http://en.wikipedia.org/wiki/2009_Malaysian_Grand_Prix",
         null,
         null,
         null,
         null,
         null,
         null,
         null,
         null,
         null,
         null
        ],
        [
         "3",
         "2009",
         "3",
         "17",
         "Chinese Grand Prix",
         "2009-04-19 00:00:00",
         "07:00:00",
         "http://en.wikipedia.org/wiki/2009_Chinese_Grand_Prix",
         null,
         null,
         null,
         null,
         null,
         null,
         null,
         null,
         null,
         null
        ],
        [
         "4",
         "2009",
         "4",
         "3",
         "Bahrain Grand Prix",
         "2009-04-26 00:00:00",
         "12:00:00",
         "http://en.wikipedia.org/wiki/2009_Bahrain_Grand_Prix",
         null,
         null,
         null,
         null,
         null,
         null,
         null,
         null,
         null,
         null
        ],
        [
         "5",
         "2009",
         "5",
         "4",
         "Spanish Grand Prix",
         "2009-05-10 00:00:00",
         "12:00:00",
         "http://en.wikipedia.org/wiki/2009_Spanish_Grand_Prix",
         null,
         null,
         null,
         null,
         null,
         null,
         null,
         null,
         null,
         null
        ]
       ],
       "shape": {
        "columns": 17,
        "rows": 5
       }
      },
      "text/html": [
       "<div>\n",
       "<style scoped>\n",
       "    .dataframe tbody tr th:only-of-type {\n",
       "        vertical-align: middle;\n",
       "    }\n",
       "\n",
       "    .dataframe tbody tr th {\n",
       "        vertical-align: top;\n",
       "    }\n",
       "\n",
       "    .dataframe thead th {\n",
       "        text-align: right;\n",
       "    }\n",
       "</style>\n",
       "<table border=\"1\" class=\"dataframe\">\n",
       "  <thead>\n",
       "    <tr style=\"text-align: right;\">\n",
       "      <th></th>\n",
       "      <th>year</th>\n",
       "      <th>round</th>\n",
       "      <th>circuitId</th>\n",
       "      <th>name</th>\n",
       "      <th>date</th>\n",
       "      <th>time</th>\n",
       "      <th>url</th>\n",
       "      <th>fp1_date</th>\n",
       "      <th>fp1_time</th>\n",
       "      <th>fp2_date</th>\n",
       "      <th>fp2_time</th>\n",
       "      <th>fp3_date</th>\n",
       "      <th>fp3_time</th>\n",
       "      <th>quali_date</th>\n",
       "      <th>quali_time</th>\n",
       "      <th>sprint_date</th>\n",
       "      <th>sprint_time</th>\n",
       "    </tr>\n",
       "    <tr>\n",
       "      <th>raceId</th>\n",
       "      <th></th>\n",
       "      <th></th>\n",
       "      <th></th>\n",
       "      <th></th>\n",
       "      <th></th>\n",
       "      <th></th>\n",
       "      <th></th>\n",
       "      <th></th>\n",
       "      <th></th>\n",
       "      <th></th>\n",
       "      <th></th>\n",
       "      <th></th>\n",
       "      <th></th>\n",
       "      <th></th>\n",
       "      <th></th>\n",
       "      <th></th>\n",
       "      <th></th>\n",
       "    </tr>\n",
       "  </thead>\n",
       "  <tbody>\n",
       "    <tr>\n",
       "      <th>1</th>\n",
       "      <td>2009</td>\n",
       "      <td>1</td>\n",
       "      <td>1</td>\n",
       "      <td>Australian Grand Prix</td>\n",
       "      <td>2009-03-29</td>\n",
       "      <td>06:00:00</td>\n",
       "      <td>http://en.wikipedia.org/wiki/2009_Australian_G...</td>\n",
       "      <td>NaN</td>\n",
       "      <td>NaN</td>\n",
       "      <td>NaN</td>\n",
       "      <td>NaN</td>\n",
       "      <td>NaN</td>\n",
       "      <td>NaN</td>\n",
       "      <td>NaN</td>\n",
       "      <td>NaN</td>\n",
       "      <td>NaN</td>\n",
       "      <td>NaN</td>\n",
       "    </tr>\n",
       "    <tr>\n",
       "      <th>2</th>\n",
       "      <td>2009</td>\n",
       "      <td>2</td>\n",
       "      <td>2</td>\n",
       "      <td>Malaysian Grand Prix</td>\n",
       "      <td>2009-04-05</td>\n",
       "      <td>09:00:00</td>\n",
       "      <td>http://en.wikipedia.org/wiki/2009_Malaysian_Gr...</td>\n",
       "      <td>NaN</td>\n",
       "      <td>NaN</td>\n",
       "      <td>NaN</td>\n",
       "      <td>NaN</td>\n",
       "      <td>NaN</td>\n",
       "      <td>NaN</td>\n",
       "      <td>NaN</td>\n",
       "      <td>NaN</td>\n",
       "      <td>NaN</td>\n",
       "      <td>NaN</td>\n",
       "    </tr>\n",
       "    <tr>\n",
       "      <th>3</th>\n",
       "      <td>2009</td>\n",
       "      <td>3</td>\n",
       "      <td>17</td>\n",
       "      <td>Chinese Grand Prix</td>\n",
       "      <td>2009-04-19</td>\n",
       "      <td>07:00:00</td>\n",
       "      <td>http://en.wikipedia.org/wiki/2009_Chinese_Gran...</td>\n",
       "      <td>NaN</td>\n",
       "      <td>NaN</td>\n",
       "      <td>NaN</td>\n",
       "      <td>NaN</td>\n",
       "      <td>NaN</td>\n",
       "      <td>NaN</td>\n",
       "      <td>NaN</td>\n",
       "      <td>NaN</td>\n",
       "      <td>NaN</td>\n",
       "      <td>NaN</td>\n",
       "    </tr>\n",
       "    <tr>\n",
       "      <th>4</th>\n",
       "      <td>2009</td>\n",
       "      <td>4</td>\n",
       "      <td>3</td>\n",
       "      <td>Bahrain Grand Prix</td>\n",
       "      <td>2009-04-26</td>\n",
       "      <td>12:00:00</td>\n",
       "      <td>http://en.wikipedia.org/wiki/2009_Bahrain_Gran...</td>\n",
       "      <td>NaN</td>\n",
       "      <td>NaN</td>\n",
       "      <td>NaN</td>\n",
       "      <td>NaN</td>\n",
       "      <td>NaN</td>\n",
       "      <td>NaN</td>\n",
       "      <td>NaN</td>\n",
       "      <td>NaN</td>\n",
       "      <td>NaN</td>\n",
       "      <td>NaN</td>\n",
       "    </tr>\n",
       "    <tr>\n",
       "      <th>5</th>\n",
       "      <td>2009</td>\n",
       "      <td>5</td>\n",
       "      <td>4</td>\n",
       "      <td>Spanish Grand Prix</td>\n",
       "      <td>2009-05-10</td>\n",
       "      <td>12:00:00</td>\n",
       "      <td>http://en.wikipedia.org/wiki/2009_Spanish_Gran...</td>\n",
       "      <td>NaN</td>\n",
       "      <td>NaN</td>\n",
       "      <td>NaN</td>\n",
       "      <td>NaN</td>\n",
       "      <td>NaN</td>\n",
       "      <td>NaN</td>\n",
       "      <td>NaN</td>\n",
       "      <td>NaN</td>\n",
       "      <td>NaN</td>\n",
       "      <td>NaN</td>\n",
       "    </tr>\n",
       "  </tbody>\n",
       "</table>\n",
       "</div>"
      ],
      "text/plain": [
       "        year  round  circuitId                   name       date      time  \\\n",
       "raceId                                                                       \n",
       "1       2009      1          1  Australian Grand Prix 2009-03-29  06:00:00   \n",
       "2       2009      2          2   Malaysian Grand Prix 2009-04-05  09:00:00   \n",
       "3       2009      3         17     Chinese Grand Prix 2009-04-19  07:00:00   \n",
       "4       2009      4          3     Bahrain Grand Prix 2009-04-26  12:00:00   \n",
       "5       2009      5          4     Spanish Grand Prix 2009-05-10  12:00:00   \n",
       "\n",
       "                                                      url fp1_date fp1_time  \\\n",
       "raceId                                                                        \n",
       "1       http://en.wikipedia.org/wiki/2009_Australian_G...      NaN      NaN   \n",
       "2       http://en.wikipedia.org/wiki/2009_Malaysian_Gr...      NaN      NaN   \n",
       "3       http://en.wikipedia.org/wiki/2009_Chinese_Gran...      NaN      NaN   \n",
       "4       http://en.wikipedia.org/wiki/2009_Bahrain_Gran...      NaN      NaN   \n",
       "5       http://en.wikipedia.org/wiki/2009_Spanish_Gran...      NaN      NaN   \n",
       "\n",
       "       fp2_date fp2_time fp3_date fp3_time quali_date quali_time sprint_date  \\\n",
       "raceId                                                                         \n",
       "1           NaN      NaN      NaN      NaN        NaN        NaN         NaN   \n",
       "2           NaN      NaN      NaN      NaN        NaN        NaN         NaN   \n",
       "3           NaN      NaN      NaN      NaN        NaN        NaN         NaN   \n",
       "4           NaN      NaN      NaN      NaN        NaN        NaN         NaN   \n",
       "5           NaN      NaN      NaN      NaN        NaN        NaN         NaN   \n",
       "\n",
       "       sprint_time  \n",
       "raceId              \n",
       "1              NaN  \n",
       "2              NaN  \n",
       "3              NaN  \n",
       "4              NaN  \n",
       "5              NaN  "
      ]
     },
     "execution_count": 219,
     "metadata": {},
     "output_type": "execute_result"
    }
   ],
   "source": [
    "races = pd.read_csv(\n",
    "    races_path,\n",
    "    index_col='raceId',\n",
    "    parse_dates=['date'],\n",
    "    na_values='\\\\N'\n",
    ")\n",
    "races.head(5)"
   ]
  },
  {
   "cell_type": "code",
   "execution_count": 220,
   "id": "79409e2f",
   "metadata": {},
   "outputs": [
    {
     "data": {
      "application/vnd.microsoft.datawrangler.viewer.v0+json": {
       "columns": [
        {
         "name": "resultId",
         "rawType": "int64",
         "type": "integer"
        },
        {
         "name": "raceId",
         "rawType": "int64",
         "type": "integer"
        },
        {
         "name": "driverId",
         "rawType": "int64",
         "type": "integer"
        },
        {
         "name": "constructorId",
         "rawType": "int64",
         "type": "integer"
        },
        {
         "name": "number",
         "rawType": "float64",
         "type": "float"
        },
        {
         "name": "grid",
         "rawType": "int64",
         "type": "integer"
        },
        {
         "name": "position",
         "rawType": "float64",
         "type": "float"
        },
        {
         "name": "positionText",
         "rawType": "object",
         "type": "string"
        },
        {
         "name": "positionOrder",
         "rawType": "int64",
         "type": "integer"
        },
        {
         "name": "points",
         "rawType": "float64",
         "type": "float"
        },
        {
         "name": "laps",
         "rawType": "int64",
         "type": "integer"
        },
        {
         "name": "time",
         "rawType": "object",
         "type": "string"
        },
        {
         "name": "milliseconds",
         "rawType": "float64",
         "type": "float"
        },
        {
         "name": "fastestLap",
         "rawType": "float64",
         "type": "float"
        },
        {
         "name": "rank",
         "rawType": "float64",
         "type": "float"
        },
        {
         "name": "fastestLapTime",
         "rawType": "object",
         "type": "string"
        },
        {
         "name": "fastestLapSpeed",
         "rawType": "float64",
         "type": "float"
        },
        {
         "name": "statusId",
         "rawType": "int64",
         "type": "integer"
        }
       ],
       "ref": "498c8220-afb9-4822-a95d-b56546ff13f7",
       "rows": [
        [
         "1",
         "18",
         "1",
         "1",
         "22.0",
         "1",
         "1.0",
         "1",
         "1",
         "10.0",
         "58",
         "1:34:50.616",
         "5690616.0",
         "39.0",
         "2.0",
         "1:27.452",
         "218.3",
         "1"
        ],
        [
         "2",
         "18",
         "2",
         "2",
         "3.0",
         "5",
         "2.0",
         "2",
         "2",
         "8.0",
         "58",
         "+5.478",
         "5696094.0",
         "41.0",
         "3.0",
         "1:27.739",
         "217.586",
         "1"
        ],
        [
         "3",
         "18",
         "3",
         "3",
         "7.0",
         "7",
         "3.0",
         "3",
         "3",
         "6.0",
         "58",
         "+8.163",
         "5698779.0",
         "41.0",
         "5.0",
         "1:28.090",
         "216.719",
         "1"
        ],
        [
         "4",
         "18",
         "4",
         "4",
         "5.0",
         "11",
         "4.0",
         "4",
         "4",
         "5.0",
         "58",
         "+17.181",
         "5707797.0",
         "58.0",
         "7.0",
         "1:28.603",
         "215.464",
         "1"
        ],
        [
         "5",
         "18",
         "5",
         "1",
         "23.0",
         "3",
         "5.0",
         "5",
         "5",
         "4.0",
         "58",
         "+18.014",
         "5708630.0",
         "43.0",
         "1.0",
         "1:27.418",
         "218.385",
         "1"
        ]
       ],
       "shape": {
        "columns": 17,
        "rows": 5
       }
      },
      "text/html": [
       "<div>\n",
       "<style scoped>\n",
       "    .dataframe tbody tr th:only-of-type {\n",
       "        vertical-align: middle;\n",
       "    }\n",
       "\n",
       "    .dataframe tbody tr th {\n",
       "        vertical-align: top;\n",
       "    }\n",
       "\n",
       "    .dataframe thead th {\n",
       "        text-align: right;\n",
       "    }\n",
       "</style>\n",
       "<table border=\"1\" class=\"dataframe\">\n",
       "  <thead>\n",
       "    <tr style=\"text-align: right;\">\n",
       "      <th></th>\n",
       "      <th>raceId</th>\n",
       "      <th>driverId</th>\n",
       "      <th>constructorId</th>\n",
       "      <th>number</th>\n",
       "      <th>grid</th>\n",
       "      <th>position</th>\n",
       "      <th>positionText</th>\n",
       "      <th>positionOrder</th>\n",
       "      <th>points</th>\n",
       "      <th>laps</th>\n",
       "      <th>time</th>\n",
       "      <th>milliseconds</th>\n",
       "      <th>fastestLap</th>\n",
       "      <th>rank</th>\n",
       "      <th>fastestLapTime</th>\n",
       "      <th>fastestLapSpeed</th>\n",
       "      <th>statusId</th>\n",
       "    </tr>\n",
       "    <tr>\n",
       "      <th>resultId</th>\n",
       "      <th></th>\n",
       "      <th></th>\n",
       "      <th></th>\n",
       "      <th></th>\n",
       "      <th></th>\n",
       "      <th></th>\n",
       "      <th></th>\n",
       "      <th></th>\n",
       "      <th></th>\n",
       "      <th></th>\n",
       "      <th></th>\n",
       "      <th></th>\n",
       "      <th></th>\n",
       "      <th></th>\n",
       "      <th></th>\n",
       "      <th></th>\n",
       "      <th></th>\n",
       "    </tr>\n",
       "  </thead>\n",
       "  <tbody>\n",
       "    <tr>\n",
       "      <th>1</th>\n",
       "      <td>18</td>\n",
       "      <td>1</td>\n",
       "      <td>1</td>\n",
       "      <td>22.0</td>\n",
       "      <td>1</td>\n",
       "      <td>1.0</td>\n",
       "      <td>1</td>\n",
       "      <td>1</td>\n",
       "      <td>10.0</td>\n",
       "      <td>58</td>\n",
       "      <td>1:34:50.616</td>\n",
       "      <td>5690616.0</td>\n",
       "      <td>39.0</td>\n",
       "      <td>2.0</td>\n",
       "      <td>1:27.452</td>\n",
       "      <td>218.300</td>\n",
       "      <td>1</td>\n",
       "    </tr>\n",
       "    <tr>\n",
       "      <th>2</th>\n",
       "      <td>18</td>\n",
       "      <td>2</td>\n",
       "      <td>2</td>\n",
       "      <td>3.0</td>\n",
       "      <td>5</td>\n",
       "      <td>2.0</td>\n",
       "      <td>2</td>\n",
       "      <td>2</td>\n",
       "      <td>8.0</td>\n",
       "      <td>58</td>\n",
       "      <td>+5.478</td>\n",
       "      <td>5696094.0</td>\n",
       "      <td>41.0</td>\n",
       "      <td>3.0</td>\n",
       "      <td>1:27.739</td>\n",
       "      <td>217.586</td>\n",
       "      <td>1</td>\n",
       "    </tr>\n",
       "    <tr>\n",
       "      <th>3</th>\n",
       "      <td>18</td>\n",
       "      <td>3</td>\n",
       "      <td>3</td>\n",
       "      <td>7.0</td>\n",
       "      <td>7</td>\n",
       "      <td>3.0</td>\n",
       "      <td>3</td>\n",
       "      <td>3</td>\n",
       "      <td>6.0</td>\n",
       "      <td>58</td>\n",
       "      <td>+8.163</td>\n",
       "      <td>5698779.0</td>\n",
       "      <td>41.0</td>\n",
       "      <td>5.0</td>\n",
       "      <td>1:28.090</td>\n",
       "      <td>216.719</td>\n",
       "      <td>1</td>\n",
       "    </tr>\n",
       "    <tr>\n",
       "      <th>4</th>\n",
       "      <td>18</td>\n",
       "      <td>4</td>\n",
       "      <td>4</td>\n",
       "      <td>5.0</td>\n",
       "      <td>11</td>\n",
       "      <td>4.0</td>\n",
       "      <td>4</td>\n",
       "      <td>4</td>\n",
       "      <td>5.0</td>\n",
       "      <td>58</td>\n",
       "      <td>+17.181</td>\n",
       "      <td>5707797.0</td>\n",
       "      <td>58.0</td>\n",
       "      <td>7.0</td>\n",
       "      <td>1:28.603</td>\n",
       "      <td>215.464</td>\n",
       "      <td>1</td>\n",
       "    </tr>\n",
       "    <tr>\n",
       "      <th>5</th>\n",
       "      <td>18</td>\n",
       "      <td>5</td>\n",
       "      <td>1</td>\n",
       "      <td>23.0</td>\n",
       "      <td>3</td>\n",
       "      <td>5.0</td>\n",
       "      <td>5</td>\n",
       "      <td>5</td>\n",
       "      <td>4.0</td>\n",
       "      <td>58</td>\n",
       "      <td>+18.014</td>\n",
       "      <td>5708630.0</td>\n",
       "      <td>43.0</td>\n",
       "      <td>1.0</td>\n",
       "      <td>1:27.418</td>\n",
       "      <td>218.385</td>\n",
       "      <td>1</td>\n",
       "    </tr>\n",
       "  </tbody>\n",
       "</table>\n",
       "</div>"
      ],
      "text/plain": [
       "          raceId  driverId  constructorId  number  grid  position  \\\n",
       "resultId                                                            \n",
       "1             18         1              1    22.0     1       1.0   \n",
       "2             18         2              2     3.0     5       2.0   \n",
       "3             18         3              3     7.0     7       3.0   \n",
       "4             18         4              4     5.0    11       4.0   \n",
       "5             18         5              1    23.0     3       5.0   \n",
       "\n",
       "         positionText  positionOrder  points  laps         time  milliseconds  \\\n",
       "resultId                                                                        \n",
       "1                   1              1    10.0    58  1:34:50.616     5690616.0   \n",
       "2                   2              2     8.0    58       +5.478     5696094.0   \n",
       "3                   3              3     6.0    58       +8.163     5698779.0   \n",
       "4                   4              4     5.0    58      +17.181     5707797.0   \n",
       "5                   5              5     4.0    58      +18.014     5708630.0   \n",
       "\n",
       "          fastestLap  rank fastestLapTime  fastestLapSpeed  statusId  \n",
       "resultId                                                              \n",
       "1               39.0   2.0       1:27.452          218.300         1  \n",
       "2               41.0   3.0       1:27.739          217.586         1  \n",
       "3               41.0   5.0       1:28.090          216.719         1  \n",
       "4               58.0   7.0       1:28.603          215.464         1  \n",
       "5               43.0   1.0       1:27.418          218.385         1  "
      ]
     },
     "execution_count": 220,
     "metadata": {},
     "output_type": "execute_result"
    }
   ],
   "source": [
    "race_results = pd.read_csv(\n",
    "    results_path,\n",
    "    index_col='resultId',\n",
    "    na_values='\\\\N'\n",
    ")\n",
    "race_results.head(5)"
   ]
  },
  {
   "cell_type": "code",
   "execution_count": 221,
   "id": "b7858a71",
   "metadata": {},
   "outputs": [
    {
     "data": {
      "application/vnd.microsoft.datawrangler.viewer.v0+json": {
       "columns": [
        {
         "name": "driverId",
         "rawType": "int64",
         "type": "integer"
        },
        {
         "name": "driverRef",
         "rawType": "object",
         "type": "string"
        },
        {
         "name": "number",
         "rawType": "float64",
         "type": "float"
        },
        {
         "name": "code",
         "rawType": "object",
         "type": "string"
        },
        {
         "name": "forename",
         "rawType": "object",
         "type": "string"
        },
        {
         "name": "surname",
         "rawType": "object",
         "type": "string"
        },
        {
         "name": "dob",
         "rawType": "object",
         "type": "string"
        },
        {
         "name": "nationality",
         "rawType": "object",
         "type": "string"
        },
        {
         "name": "url",
         "rawType": "object",
         "type": "string"
        }
       ],
       "ref": "e2e71d25-f3b0-4225-849e-938b9c98a909",
       "rows": [
        [
         "1",
         "hamilton",
         "44.0",
         "HAM",
         "Lewis",
         "Hamilton",
         "1985-01-07",
         "British",
         "http://en.wikipedia.org/wiki/Lewis_Hamilton"
        ],
        [
         "2",
         "heidfeld",
         null,
         "HEI",
         "Nick",
         "Heidfeld",
         "1977-05-10",
         "German",
         "http://en.wikipedia.org/wiki/Nick_Heidfeld"
        ],
        [
         "3",
         "rosberg",
         "6.0",
         "ROS",
         "Nico",
         "Rosberg",
         "1985-06-27",
         "German",
         "http://en.wikipedia.org/wiki/Nico_Rosberg"
        ],
        [
         "4",
         "alonso",
         "14.0",
         "ALO",
         "Fernando",
         "Alonso",
         "1981-07-29",
         "Spanish",
         "http://en.wikipedia.org/wiki/Fernando_Alonso"
        ],
        [
         "5",
         "kovalainen",
         null,
         "KOV",
         "Heikki",
         "Kovalainen",
         "1981-10-19",
         "Finnish",
         "http://en.wikipedia.org/wiki/Heikki_Kovalainen"
        ]
       ],
       "shape": {
        "columns": 8,
        "rows": 5
       }
      },
      "text/html": [
       "<div>\n",
       "<style scoped>\n",
       "    .dataframe tbody tr th:only-of-type {\n",
       "        vertical-align: middle;\n",
       "    }\n",
       "\n",
       "    .dataframe tbody tr th {\n",
       "        vertical-align: top;\n",
       "    }\n",
       "\n",
       "    .dataframe thead th {\n",
       "        text-align: right;\n",
       "    }\n",
       "</style>\n",
       "<table border=\"1\" class=\"dataframe\">\n",
       "  <thead>\n",
       "    <tr style=\"text-align: right;\">\n",
       "      <th></th>\n",
       "      <th>driverRef</th>\n",
       "      <th>number</th>\n",
       "      <th>code</th>\n",
       "      <th>forename</th>\n",
       "      <th>surname</th>\n",
       "      <th>dob</th>\n",
       "      <th>nationality</th>\n",
       "      <th>url</th>\n",
       "    </tr>\n",
       "    <tr>\n",
       "      <th>driverId</th>\n",
       "      <th></th>\n",
       "      <th></th>\n",
       "      <th></th>\n",
       "      <th></th>\n",
       "      <th></th>\n",
       "      <th></th>\n",
       "      <th></th>\n",
       "      <th></th>\n",
       "    </tr>\n",
       "  </thead>\n",
       "  <tbody>\n",
       "    <tr>\n",
       "      <th>1</th>\n",
       "      <td>hamilton</td>\n",
       "      <td>44.0</td>\n",
       "      <td>HAM</td>\n",
       "      <td>Lewis</td>\n",
       "      <td>Hamilton</td>\n",
       "      <td>1985-01-07</td>\n",
       "      <td>British</td>\n",
       "      <td>http://en.wikipedia.org/wiki/Lewis_Hamilton</td>\n",
       "    </tr>\n",
       "    <tr>\n",
       "      <th>2</th>\n",
       "      <td>heidfeld</td>\n",
       "      <td>NaN</td>\n",
       "      <td>HEI</td>\n",
       "      <td>Nick</td>\n",
       "      <td>Heidfeld</td>\n",
       "      <td>1977-05-10</td>\n",
       "      <td>German</td>\n",
       "      <td>http://en.wikipedia.org/wiki/Nick_Heidfeld</td>\n",
       "    </tr>\n",
       "    <tr>\n",
       "      <th>3</th>\n",
       "      <td>rosberg</td>\n",
       "      <td>6.0</td>\n",
       "      <td>ROS</td>\n",
       "      <td>Nico</td>\n",
       "      <td>Rosberg</td>\n",
       "      <td>1985-06-27</td>\n",
       "      <td>German</td>\n",
       "      <td>http://en.wikipedia.org/wiki/Nico_Rosberg</td>\n",
       "    </tr>\n",
       "    <tr>\n",
       "      <th>4</th>\n",
       "      <td>alonso</td>\n",
       "      <td>14.0</td>\n",
       "      <td>ALO</td>\n",
       "      <td>Fernando</td>\n",
       "      <td>Alonso</td>\n",
       "      <td>1981-07-29</td>\n",
       "      <td>Spanish</td>\n",
       "      <td>http://en.wikipedia.org/wiki/Fernando_Alonso</td>\n",
       "    </tr>\n",
       "    <tr>\n",
       "      <th>5</th>\n",
       "      <td>kovalainen</td>\n",
       "      <td>NaN</td>\n",
       "      <td>KOV</td>\n",
       "      <td>Heikki</td>\n",
       "      <td>Kovalainen</td>\n",
       "      <td>1981-10-19</td>\n",
       "      <td>Finnish</td>\n",
       "      <td>http://en.wikipedia.org/wiki/Heikki_Kovalainen</td>\n",
       "    </tr>\n",
       "  </tbody>\n",
       "</table>\n",
       "</div>"
      ],
      "text/plain": [
       "           driverRef  number code  forename     surname         dob  \\\n",
       "driverId                                                              \n",
       "1           hamilton    44.0  HAM     Lewis    Hamilton  1985-01-07   \n",
       "2           heidfeld     NaN  HEI      Nick    Heidfeld  1977-05-10   \n",
       "3            rosberg     6.0  ROS      Nico     Rosberg  1985-06-27   \n",
       "4             alonso    14.0  ALO  Fernando      Alonso  1981-07-29   \n",
       "5         kovalainen     NaN  KOV    Heikki  Kovalainen  1981-10-19   \n",
       "\n",
       "         nationality                                             url  \n",
       "driverId                                                              \n",
       "1            British     http://en.wikipedia.org/wiki/Lewis_Hamilton  \n",
       "2             German      http://en.wikipedia.org/wiki/Nick_Heidfeld  \n",
       "3             German       http://en.wikipedia.org/wiki/Nico_Rosberg  \n",
       "4            Spanish    http://en.wikipedia.org/wiki/Fernando_Alonso  \n",
       "5            Finnish  http://en.wikipedia.org/wiki/Heikki_Kovalainen  "
      ]
     },
     "execution_count": 221,
     "metadata": {},
     "output_type": "execute_result"
    }
   ],
   "source": [
    "drivers = pd.read_csv(\n",
    "    drivers_path,\n",
    "    index_col='driverId',\n",
    "    na_values='\\\\N'\n",
    ")\n",
    "drivers.head(5)"
   ]
  },
  {
   "cell_type": "code",
   "execution_count": 222,
   "id": "e5f96f17",
   "metadata": {},
   "outputs": [
    {
     "data": {
      "application/vnd.microsoft.datawrangler.viewer.v0+json": {
       "columns": [
        {
         "name": "constructorId",
         "rawType": "int64",
         "type": "integer"
        },
        {
         "name": "constructorRef",
         "rawType": "object",
         "type": "string"
        },
        {
         "name": "name",
         "rawType": "object",
         "type": "string"
        },
        {
         "name": "nationality",
         "rawType": "object",
         "type": "string"
        },
        {
         "name": "url",
         "rawType": "object",
         "type": "string"
        }
       ],
       "ref": "b5b5db39-36c2-4ba4-9e4c-ac1dd23ace6a",
       "rows": [
        [
         "1",
         "mclaren",
         "McLaren",
         "British",
         "http://en.wikipedia.org/wiki/McLaren"
        ],
        [
         "2",
         "bmw_sauber",
         "BMW Sauber",
         "German",
         "http://en.wikipedia.org/wiki/BMW_Sauber"
        ],
        [
         "3",
         "williams",
         "Williams",
         "British",
         "http://en.wikipedia.org/wiki/Williams_Grand_Prix_Engineering"
        ],
        [
         "4",
         "renault",
         "Renault",
         "French",
         "http://en.wikipedia.org/wiki/Renault_in_Formula_One"
        ],
        [
         "5",
         "toro_rosso",
         "Toro Rosso",
         "Italian",
         "http://en.wikipedia.org/wiki/Scuderia_Toro_Rosso"
        ],
        [
         "6",
         "ferrari",
         "Ferrari",
         "Italian",
         "http://en.wikipedia.org/wiki/Scuderia_Ferrari"
        ],
        [
         "7",
         "toyota",
         "Toyota",
         "Japanese",
         "http://en.wikipedia.org/wiki/Toyota_Racing"
        ],
        [
         "8",
         "super_aguri",
         "Super Aguri",
         "Japanese",
         "http://en.wikipedia.org/wiki/Super_Aguri_F1"
        ],
        [
         "9",
         "red_bull",
         "Red Bull",
         "Austrian",
         "http://en.wikipedia.org/wiki/Red_Bull_Racing"
        ],
        [
         "10",
         "force_india",
         "Force India",
         "Indian",
         "http://en.wikipedia.org/wiki/Racing_Point_Force_India"
        ],
        [
         "11",
         "honda",
         "Honda",
         "Japanese",
         "http://en.wikipedia.org/wiki/Honda_Racing_F1"
        ],
        [
         "12",
         "spyker",
         "Spyker",
         "Dutch",
         "http://en.wikipedia.org/wiki/Spyker_F1"
        ],
        [
         "13",
         "mf1",
         "MF1",
         "Russian",
         "http://en.wikipedia.org/wiki/Midland_F1_Racing"
        ],
        [
         "14",
         "spyker_mf1",
         "Spyker MF1",
         "Dutch",
         "http://en.wikipedia.org/wiki/Midland_F1_Racing"
        ],
        [
         "15",
         "sauber",
         "Sauber",
         "Swiss",
         "http://en.wikipedia.org/wiki/Sauber_Motorsport"
        ],
        [
         "16",
         "bar",
         "BAR",
         "British",
         "http://en.wikipedia.org/wiki/British_American_Racing"
        ],
        [
         "17",
         "jordan",
         "Jordan",
         "Irish",
         "http://en.wikipedia.org/wiki/Jordan_Grand_Prix"
        ],
        [
         "18",
         "minardi",
         "Minardi",
         "Italian",
         "http://en.wikipedia.org/wiki/Minardi"
        ],
        [
         "19",
         "jaguar",
         "Jaguar",
         "British",
         "http://en.wikipedia.org/wiki/Jaguar_Racing"
        ],
        [
         "20",
         "prost",
         "Prost",
         "French",
         "http://en.wikipedia.org/wiki/Prost_Grand_Prix"
        ],
        [
         "21",
         "arrows",
         "Arrows",
         "British",
         "http://en.wikipedia.org/wiki/Arrows_Grand_Prix_International"
        ],
        [
         "22",
         "benetton",
         "Benetton",
         "Italian",
         "http://en.wikipedia.org/wiki/Benetton_Formula"
        ],
        [
         "23",
         "brawn",
         "Brawn",
         "British",
         "http://en.wikipedia.org/wiki/Brawn_GP"
        ],
        [
         "24",
         "stewart",
         "Stewart",
         "British",
         "http://en.wikipedia.org/wiki/Stewart_Grand_Prix"
        ],
        [
         "25",
         "tyrrell",
         "Tyrrell",
         "British",
         "http://en.wikipedia.org/wiki/Tyrrell_Racing"
        ],
        [
         "26",
         "lola",
         "Lola",
         "British",
         "http://en.wikipedia.org/wiki/MasterCard_Lola"
        ],
        [
         "27",
         "ligier",
         "Ligier",
         "French",
         "http://en.wikipedia.org/wiki/Ligier"
        ],
        [
         "28",
         "forti",
         "Forti",
         "Italian",
         "http://en.wikipedia.org/wiki/Forti"
        ],
        [
         "29",
         "footwork",
         "Footwork",
         "British",
         "http://en.wikipedia.org/wiki/Footwork_Arrows"
        ],
        [
         "30",
         "pacific",
         "Pacific",
         "British",
         "http://en.wikipedia.org/wiki/Pacific_Racing"
        ],
        [
         "31",
         "simtek",
         "Simtek",
         "British",
         "http://en.wikipedia.org/wiki/Simtek"
        ],
        [
         "32",
         "team_lotus",
         "Team Lotus",
         "British",
         "http://en.wikipedia.org/wiki/Team_Lotus"
        ],
        [
         "33",
         "larrousse",
         "Larrousse",
         "French",
         "http://en.wikipedia.org/wiki/Larrousse"
        ],
        [
         "34",
         "brabham",
         "Brabham",
         "British",
         "http://en.wikipedia.org/wiki/Brabham"
        ],
        [
         "35",
         "dallara",
         "Dallara",
         "Italian",
         "http://en.wikipedia.org/wiki/Dallara"
        ],
        [
         "36",
         "fondmetal",
         "Fondmetal",
         "Italian",
         "http://en.wikipedia.org/wiki/Fondmetal"
        ],
        [
         "37",
         "march",
         "March",
         "British",
         "http://en.wikipedia.org/wiki/March_Engineering"
        ],
        [
         "38",
         "moda",
         "Andrea Moda",
         "Italian",
         "http://en.wikipedia.org/wiki/Andrea_Moda_Formula"
        ],
        [
         "39",
         "ags",
         "AGS",
         "French",
         "http://en.wikipedia.org/wiki/Automobiles_Gonfaronnaises_Sportives"
        ],
        [
         "40",
         "lambo",
         "Lambo",
         "Italian",
         "http://en.wikipedia.org/wiki/Modena_(racing_team)"
        ],
        [
         "41",
         "leyton",
         "Leyton House",
         "British",
         "http://en.wikipedia.org/wiki/Leyton_House"
        ],
        [
         "42",
         "coloni",
         "Coloni",
         "Italian",
         "http://en.wikipedia.org/wiki/Enzo_Coloni_Racing_Car_Systems"
        ],
        [
         "44",
         "eurobrun",
         "Euro Brun",
         "Italian",
         "http://en.wikipedia.org/wiki/Euro_Brun"
        ],
        [
         "45",
         "osella",
         "Osella",
         "Italian",
         "http://en.wikipedia.org/wiki/Osella"
        ],
        [
         "46",
         "onyx",
         "Onyx",
         "British",
         "http://en.wikipedia.org/wiki/Onyx_(racing_team)"
        ],
        [
         "47",
         "life",
         "Life",
         "Italian",
         "http://en.wikipedia.org/wiki/Life_(Racing_Team)"
        ],
        [
         "48",
         "rial",
         "Rial",
         "German",
         "http://en.wikipedia.org/wiki/Rial_%28racing_team%29"
        ],
        [
         "49",
         "zakspeed",
         "Zakspeed",
         "German",
         "http://en.wikipedia.org/wiki/Zakspeed"
        ],
        [
         "50",
         "ram",
         "RAM",
         "British",
         "http://en.wikipedia.org/wiki/RAM_Racing"
        ],
        [
         "51",
         "alfa",
         "Alfa Romeo",
         "Swiss",
         "http://en.wikipedia.org/wiki/Alfa_Romeo_in_Formula_One"
        ]
       ],
       "shape": {
        "columns": 4,
        "rows": 212
       }
      },
      "text/html": [
       "<div>\n",
       "<style scoped>\n",
       "    .dataframe tbody tr th:only-of-type {\n",
       "        vertical-align: middle;\n",
       "    }\n",
       "\n",
       "    .dataframe tbody tr th {\n",
       "        vertical-align: top;\n",
       "    }\n",
       "\n",
       "    .dataframe thead th {\n",
       "        text-align: right;\n",
       "    }\n",
       "</style>\n",
       "<table border=\"1\" class=\"dataframe\">\n",
       "  <thead>\n",
       "    <tr style=\"text-align: right;\">\n",
       "      <th></th>\n",
       "      <th>constructorRef</th>\n",
       "      <th>name</th>\n",
       "      <th>nationality</th>\n",
       "      <th>url</th>\n",
       "    </tr>\n",
       "    <tr>\n",
       "      <th>constructorId</th>\n",
       "      <th></th>\n",
       "      <th></th>\n",
       "      <th></th>\n",
       "      <th></th>\n",
       "    </tr>\n",
       "  </thead>\n",
       "  <tbody>\n",
       "    <tr>\n",
       "      <th>1</th>\n",
       "      <td>mclaren</td>\n",
       "      <td>McLaren</td>\n",
       "      <td>British</td>\n",
       "      <td>http://en.wikipedia.org/wiki/McLaren</td>\n",
       "    </tr>\n",
       "    <tr>\n",
       "      <th>2</th>\n",
       "      <td>bmw_sauber</td>\n",
       "      <td>BMW Sauber</td>\n",
       "      <td>German</td>\n",
       "      <td>http://en.wikipedia.org/wiki/BMW_Sauber</td>\n",
       "    </tr>\n",
       "    <tr>\n",
       "      <th>3</th>\n",
       "      <td>williams</td>\n",
       "      <td>Williams</td>\n",
       "      <td>British</td>\n",
       "      <td>http://en.wikipedia.org/wiki/Williams_Grand_Pr...</td>\n",
       "    </tr>\n",
       "    <tr>\n",
       "      <th>4</th>\n",
       "      <td>renault</td>\n",
       "      <td>Renault</td>\n",
       "      <td>French</td>\n",
       "      <td>http://en.wikipedia.org/wiki/Renault_in_Formul...</td>\n",
       "    </tr>\n",
       "    <tr>\n",
       "      <th>5</th>\n",
       "      <td>toro_rosso</td>\n",
       "      <td>Toro Rosso</td>\n",
       "      <td>Italian</td>\n",
       "      <td>http://en.wikipedia.org/wiki/Scuderia_Toro_Rosso</td>\n",
       "    </tr>\n",
       "    <tr>\n",
       "      <th>...</th>\n",
       "      <td>...</td>\n",
       "      <td>...</td>\n",
       "      <td>...</td>\n",
       "      <td>...</td>\n",
       "    </tr>\n",
       "    <tr>\n",
       "      <th>210</th>\n",
       "      <td>haas</td>\n",
       "      <td>Haas F1 Team</td>\n",
       "      <td>American</td>\n",
       "      <td>http://en.wikipedia.org/wiki/Haas_F1_Team</td>\n",
       "    </tr>\n",
       "    <tr>\n",
       "      <th>211</th>\n",
       "      <td>racing_point</td>\n",
       "      <td>Racing Point</td>\n",
       "      <td>British</td>\n",
       "      <td>http://en.wikipedia.org/wiki/Racing_Point_F1_Team</td>\n",
       "    </tr>\n",
       "    <tr>\n",
       "      <th>213</th>\n",
       "      <td>alphatauri</td>\n",
       "      <td>AlphaTauri</td>\n",
       "      <td>Italian</td>\n",
       "      <td>http://en.wikipedia.org/wiki/Scuderia_AlphaTauri</td>\n",
       "    </tr>\n",
       "    <tr>\n",
       "      <th>214</th>\n",
       "      <td>alpine</td>\n",
       "      <td>Alpine F1 Team</td>\n",
       "      <td>French</td>\n",
       "      <td>http://en.wikipedia.org/wiki/Alpine_F1_Team</td>\n",
       "    </tr>\n",
       "    <tr>\n",
       "      <th>215</th>\n",
       "      <td>rb</td>\n",
       "      <td>RB F1 Team</td>\n",
       "      <td>Italian</td>\n",
       "      <td>http://en.wikipedia.org/wiki/RB_Formula_One_Team</td>\n",
       "    </tr>\n",
       "  </tbody>\n",
       "</table>\n",
       "<p>212 rows × 4 columns</p>\n",
       "</div>"
      ],
      "text/plain": [
       "              constructorRef            name nationality  \\\n",
       "constructorId                                              \n",
       "1                    mclaren         McLaren     British   \n",
       "2                 bmw_sauber      BMW Sauber      German   \n",
       "3                   williams        Williams     British   \n",
       "4                    renault         Renault      French   \n",
       "5                 toro_rosso      Toro Rosso     Italian   \n",
       "...                      ...             ...         ...   \n",
       "210                     haas    Haas F1 Team    American   \n",
       "211             racing_point    Racing Point     British   \n",
       "213               alphatauri      AlphaTauri     Italian   \n",
       "214                   alpine  Alpine F1 Team      French   \n",
       "215                       rb      RB F1 Team     Italian   \n",
       "\n",
       "                                                             url  \n",
       "constructorId                                                     \n",
       "1                           http://en.wikipedia.org/wiki/McLaren  \n",
       "2                        http://en.wikipedia.org/wiki/BMW_Sauber  \n",
       "3              http://en.wikipedia.org/wiki/Williams_Grand_Pr...  \n",
       "4              http://en.wikipedia.org/wiki/Renault_in_Formul...  \n",
       "5               http://en.wikipedia.org/wiki/Scuderia_Toro_Rosso  \n",
       "...                                                          ...  \n",
       "210                    http://en.wikipedia.org/wiki/Haas_F1_Team  \n",
       "211            http://en.wikipedia.org/wiki/Racing_Point_F1_Team  \n",
       "213             http://en.wikipedia.org/wiki/Scuderia_AlphaTauri  \n",
       "214                  http://en.wikipedia.org/wiki/Alpine_F1_Team  \n",
       "215             http://en.wikipedia.org/wiki/RB_Formula_One_Team  \n",
       "\n",
       "[212 rows x 4 columns]"
      ]
     },
     "execution_count": 222,
     "metadata": {},
     "output_type": "execute_result"
    }
   ],
   "source": [
    "constructors = pd.read_csv(\n",
    "    constructors_path,\n",
    "    index_col='constructorId'\n",
    ")\n",
    "constructors"
   ]
  },
  {
   "cell_type": "markdown",
   "id": "75343ad4",
   "metadata": {},
   "source": [
    "## Ground effect cars era (2022–2025)"
   ]
  },
  {
   "cell_type": "code",
   "execution_count": 223,
   "id": "cf72543d",
   "metadata": {},
   "outputs": [
    {
     "data": {
      "application/vnd.microsoft.datawrangler.viewer.v0+json": {
       "columns": [
        {
         "name": "raceId",
         "rawType": "int64",
         "type": "integer"
        },
        {
         "name": "year",
         "rawType": "int64",
         "type": "integer"
        },
        {
         "name": "name",
         "rawType": "object",
         "type": "string"
        }
       ],
       "ref": "f9117a87-8289-4f7e-8f6b-02a7f09d49f4",
       "rows": [
        [
         "1074",
         "2022",
         "Bahrain Grand Prix"
        ],
        [
         "1075",
         "2022",
         "Saudi Arabian Grand Prix"
        ],
        [
         "1076",
         "2022",
         "Australian Grand Prix"
        ],
        [
         "1077",
         "2022",
         "Emilia Romagna Grand Prix"
        ],
        [
         "1078",
         "2022",
         "Miami Grand Prix"
        ]
       ],
       "shape": {
        "columns": 2,
        "rows": 5
       }
      },
      "text/html": [
       "<div>\n",
       "<style scoped>\n",
       "    .dataframe tbody tr th:only-of-type {\n",
       "        vertical-align: middle;\n",
       "    }\n",
       "\n",
       "    .dataframe tbody tr th {\n",
       "        vertical-align: top;\n",
       "    }\n",
       "\n",
       "    .dataframe thead th {\n",
       "        text-align: right;\n",
       "    }\n",
       "</style>\n",
       "<table border=\"1\" class=\"dataframe\">\n",
       "  <thead>\n",
       "    <tr style=\"text-align: right;\">\n",
       "      <th></th>\n",
       "      <th>year</th>\n",
       "      <th>name</th>\n",
       "    </tr>\n",
       "    <tr>\n",
       "      <th>raceId</th>\n",
       "      <th></th>\n",
       "      <th></th>\n",
       "    </tr>\n",
       "  </thead>\n",
       "  <tbody>\n",
       "    <tr>\n",
       "      <th>1074</th>\n",
       "      <td>2022</td>\n",
       "      <td>Bahrain Grand Prix</td>\n",
       "    </tr>\n",
       "    <tr>\n",
       "      <th>1075</th>\n",
       "      <td>2022</td>\n",
       "      <td>Saudi Arabian Grand Prix</td>\n",
       "    </tr>\n",
       "    <tr>\n",
       "      <th>1076</th>\n",
       "      <td>2022</td>\n",
       "      <td>Australian Grand Prix</td>\n",
       "    </tr>\n",
       "    <tr>\n",
       "      <th>1077</th>\n",
       "      <td>2022</td>\n",
       "      <td>Emilia Romagna Grand Prix</td>\n",
       "    </tr>\n",
       "    <tr>\n",
       "      <th>1078</th>\n",
       "      <td>2022</td>\n",
       "      <td>Miami Grand Prix</td>\n",
       "    </tr>\n",
       "  </tbody>\n",
       "</table>\n",
       "</div>"
      ],
      "text/plain": [
       "        year                       name\n",
       "raceId                                 \n",
       "1074    2022         Bahrain Grand Prix\n",
       "1075    2022   Saudi Arabian Grand Prix\n",
       "1076    2022      Australian Grand Prix\n",
       "1077    2022  Emilia Romagna Grand Prix\n",
       "1078    2022           Miami Grand Prix"
      ]
     },
     "execution_count": 223,
     "metadata": {},
     "output_type": "execute_result"
    }
   ],
   "source": [
    "races = races.loc[(races['year'] >= 2022) & (races['year'] <= 2024)]\n",
    "races = races[['year', 'name']]\n",
    "races.head(5)"
   ]
  },
  {
   "cell_type": "code",
   "execution_count": 224,
   "id": "521f8252",
   "metadata": {},
   "outputs": [],
   "source": [
    "def lap_time_to_seconds(time):\n",
    "    if pd.isna(time):\n",
    "        return np.nan\n",
    "    minutes, seconds = time.split(':')\n",
    "    return int(minutes) * 60 + float(seconds)"
   ]
  },
  {
   "cell_type": "code",
   "execution_count": 225,
   "id": "c5a61ff5",
   "metadata": {},
   "outputs": [],
   "source": [
    "data = races.merge(quali[['raceId', 'driverId', 'q1', 'q2', 'q3']], on='raceId')\n",
    "data = data.merge(race_results[['raceId', 'driverId', 'constructorId', 'fastestLapTime']], on=['raceId', 'driverId'])\n",
    "data = data.merge(drivers['surname'], on='driverId')\n",
    "data = data.merge(constructors['name'], suffixes=('_race', '_constructor'), on='constructorId')"
   ]
  },
  {
   "cell_type": "code",
   "execution_count": 226,
   "id": "6534653c",
   "metadata": {},
   "outputs": [],
   "source": [
    "data = data.dropna(subset='fastestLapTime')\n",
    "data = data.dropna(subset=['q1', 'q2', 'q3'], how='all')\n",
    "data = data.drop(['driverId', 'constructorId', 'raceId'], axis=1)"
   ]
  },
  {
   "cell_type": "code",
   "execution_count": 227,
   "id": "037e367d",
   "metadata": {},
   "outputs": [],
   "source": [
    "for col in ['q1', 'q2', 'q3', 'fastestLapTime']:\n",
    "    data[col] = data[col].apply(lap_time_to_seconds)\n",
    "\n",
    "data['bestQualiTime'] = data[['q1', 'q2', 'q3']].min(axis=1, skipna=True)"
   ]
  },
  {
   "cell_type": "code",
   "execution_count": 228,
   "id": "3837ad3a",
   "metadata": {},
   "outputs": [],
   "source": [
    "numeric_vars = ['bestQualiTime']\n",
    "categorical_vars = ['surname', 'name_constructor']"
   ]
  },
  {
   "cell_type": "code",
   "execution_count": 229,
   "id": "097d2b16",
   "metadata": {},
   "outputs": [
    {
     "data": {
      "text/plain": [
       "array(['Leclerc', 'Verstappen', 'Sainz', 'Pérez', 'Hamilton', 'Bottas',\n",
       "       'Magnussen', 'Alonso', 'Russell', 'Gasly', 'Ocon', 'Schumacher',\n",
       "       'Norris', 'Albon', 'Zhou', 'Tsunoda', 'Hülkenberg', 'Ricciardo',\n",
       "       'Stroll', 'Latifi', 'Vettel', 'de Vries', 'Sargeant', 'Piastri',\n",
       "       'Lawson', 'Bearman', 'Colapinto', 'Doohan'], dtype=object)"
      ]
     },
     "execution_count": 229,
     "metadata": {},
     "output_type": "execute_result"
    }
   ],
   "source": [
    "data['surname'].unique()"
   ]
  },
  {
   "cell_type": "code",
   "execution_count": 230,
   "id": "9f670c69",
   "metadata": {},
   "outputs": [
    {
     "data": {
      "text/plain": [
       "array(['Ferrari', 'Red Bull', 'Mercedes', 'Alfa Romeo', 'Haas F1 Team',\n",
       "       'Alpine F1 Team', 'AlphaTauri', 'McLaren', 'Williams',\n",
       "       'Aston Martin', 'RB F1 Team', 'Sauber'], dtype=object)"
      ]
     },
     "execution_count": 230,
     "metadata": {},
     "output_type": "execute_result"
    }
   ],
   "source": [
    "data['name_constructor'].unique()"
   ]
  },
  {
   "cell_type": "markdown",
   "id": "ad938974",
   "metadata": {},
   "source": [
    "# Dataset Analysis"
   ]
  },
  {
   "cell_type": "code",
   "execution_count": null,
   "id": "616221ac",
   "metadata": {},
   "outputs": [],
   "source": [
    "# TODO: add more"
   ]
  },
  {
   "cell_type": "code",
   "execution_count": 231,
   "id": "44683a01",
   "metadata": {},
   "outputs": [
    {
     "data": {
      "image/png": "[encoded data removed]",
      "text/plain": [
       "<Figure size 640x480 with 1 Axes>"
      ]
     },
     "metadata": {},
     "output_type": "display_data"
    }
   ],
   "source": [
    "plt.pie(\n",
    "    data[['q1', 'q2', 'q3']].count(),\n",
    "    labels=['q1', 'q2', 'q3'],\n",
    "    autopct='%1.1f%%',\n",
    "    explode=(0, 0, 0.1)\n",
    ");"
   ]
  },
  {
   "cell_type": "code",
   "execution_count": 232,
   "id": "51c9b30f",
   "metadata": {},
   "outputs": [
    {
     "data": {
      "image/png": "[encoded data removed]",
      "text/plain": [
       "<Figure size 1000x700 with 1 Axes>"
      ]
     },
     "metadata": {},
     "output_type": "display_data"
    }
   ],
   "source": [
    "plt.figure(figsize=(10, 7))\n",
    "plt.plot(data[['q1', 'q2', 'q3']].head(10).T);"
   ]
  },
  {
   "cell_type": "code",
   "execution_count": 233,
   "id": "bfa4ad04",
   "metadata": {},
   "outputs": [
    {
     "data": {
      "image/png": "[encoded data removed]",
      "text/plain": [
       "<Figure size 1000x600 with 1 Axes>"
      ]
     },
     "metadata": {},
     "output_type": "display_data"
    }
   ],
   "source": [
    "plt.figure(figsize=(10, 6))\n",
    "plt.boxplot(data[['bestQualiTime', 'fastestLapTime']], tick_labels=['bestQualiTime', 'fastestLapTime']);"
   ]
  },
  {
   "cell_type": "markdown",
   "id": "b506b076",
   "metadata": {},
   "source": [
    "# Model Training and Validation"
   ]
  },
  {
   "cell_type": "code",
   "execution_count": 234,
   "id": "ce4ad8f7",
   "metadata": {},
   "outputs": [],
   "source": [
    "X = data[['bestQualiTime', 'surname', 'name_constructor']]\n",
    "y = data['fastestLapTime']\n",
    "\n",
    "X_train, X_test, y_train, y_test = train_test_split(X, y, random_state=42)"
   ]
  },
  {
   "cell_type": "code",
   "execution_count": 235,
   "id": "71116c21",
   "metadata": {},
   "outputs": [],
   "source": [
    "# TODO: print performance, and model analysis"
   ]
  },
  {
   "cell_type": "code",
   "execution_count": 236,
   "id": "ff178a04",
   "metadata": {},
   "outputs": [
    {
     "data": {
      "text/plain": [
       "0.8343455672639493"
      ]
     },
     "execution_count": 236,
     "metadata": {},
     "output_type": "execute_result"
    }
   ],
   "source": [
    "model = Pipeline([\n",
    "    ('preproc', ColumnTransformer([\n",
    "        ('numeric', Pipeline([\n",
    "            ('scaler', StandardScaler()),\n",
    "            ('poly', PolynomialFeatures(include_bias=False))\n",
    "        ]), numeric_vars),\n",
    "        ('categorical', OneHotEncoder(), categorical_vars)\n",
    "    ])),\n",
    "    ('regr', Ridge())\n",
    "])\n",
    "\n",
    "model.fit(X_train, y_train)\n",
    "model.score(X_test, y_test)"
   ]
  },
  {
   "cell_type": "code",
   "execution_count": 237,
   "id": "84bbd1fe",
   "metadata": {},
   "outputs": [
    {
     "data": {
      "text/plain": [
       "0.8681740234266662"
      ]
     },
     "execution_count": 237,
     "metadata": {},
     "output_type": "execute_result"
    }
   ],
   "source": [
    "model = Pipeline([\n",
    "    ('preproc', ColumnTransformer([\n",
    "        ('numeric', StandardScaler(), numeric_vars),\n",
    "        ('categorical', OneHotEncoder(), categorical_vars)\n",
    "    ])),\n",
    "    ('regr', DecisionTreeRegressor(max_depth=4))\n",
    "])\n",
    "\n",
    "model.fit(X_train, y_train)\n",
    "model.score(X_test, y_test)"
   ]
  },
  {
   "cell_type": "code",
   "execution_count": 238,
   "id": "4c147c0c",
   "metadata": {},
   "outputs": [
    {
     "data": {
      "image/png": "[encoded data removed]",
      "text/plain": [
       "<Figure size 2500x1400 with 1 Axes>"
      ]
     },
     "metadata": {},
     "output_type": "display_data"
    }
   ],
   "source": [
    "from sklearn.tree import plot_tree\n",
    "\n",
    "plt.figure(figsize=(25, 14))\n",
    "plot_tree(model['regr'], max_depth=2);"
   ]
  },
  {
   "cell_type": "code",
   "execution_count": 245,
   "id": "6dc12609",
   "metadata": {},
   "outputs": [
    {
     "data": {
      "text/plain": [
       "0.8569013320246696"
      ]
     },
     "execution_count": 245,
     "metadata": {},
     "output_type": "execute_result"
    }
   ],
   "source": [
    "model = Pipeline([\n",
    "    ('preproc', ColumnTransformer([\n",
    "        ('numeric', Pipeline([\n",
    "            ('scaler', StandardScaler()),\n",
    "            ('poly', PolynomialFeatures(include_bias=False))\n",
    "        ]), numeric_vars),\n",
    "        ('categorical', OneHotEncoder(handle_unknown='ignore'), categorical_vars)\n",
    "    ])),\n",
    "    ('regr', Ridge())\n",
    "])\n",
    "\n",
    "grid = {\n",
    "    'preproc__numeric__scaler': ['passthrough', StandardScaler()],\n",
    "    \"preproc__numeric__poly__degree\": np.arange(1, 5),\n",
    "    'regr__alpha': [0.01, 0.1, 1]\n",
    "}\n",
    "\n",
    "kf = KFold(3, shuffle=True, random_state=42)\n",
    "\n",
    "gs = GridSearchCV(model, grid, cv=kf)\n",
    "gs.fit(X_train, y_train)\n",
    "gs.score(X_test, y_test)"
   ]
  },
  {
   "cell_type": "code",
   "execution_count": 246,
   "id": "ef5c0d8c",
   "metadata": {},
   "outputs": [
    {
     "data": {
      "text/plain": [
       "{'preproc__numeric__poly__degree': 4,\n",
       " 'preproc__numeric__scaler': 'passthrough',\n",
       " 'regr__alpha': 0.01}"
      ]
     },
     "execution_count": 246,
     "metadata": {},
     "output_type": "execute_result"
    }
   ],
   "source": [
    "gs.best_params_"
   ]
  }
 ],
 "metadata": {
  "kernelspec": {
   "display_name": "ai",
   "language": "python",
   "name": "python3"
  },
  "language_info": {
   "codemirror_mode": {
    "name": "ipython",
    "version": 3
   },
   "file_extension": ".py",
   "mimetype": "text/x-python",
   "name": "python",
   "nbconvert_exporter": "python",
   "pygments_lexer": "ipython3",
   "version": "3.12.10"
  }
 },
 "nbformat": 4,
 "nbformat_minor": 5
}
